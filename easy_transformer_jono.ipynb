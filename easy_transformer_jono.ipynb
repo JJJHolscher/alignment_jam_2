{
  "cells": [
    {
      "cell_type": "markdown",
      "metadata": {
        "id": "view-in-github",
        "colab_type": "text"
      },
      "source": [
        "<a href=\"https://colab.research.google.com/github/JJJHolscher/alignment_jam_2/blob/main/easy_transformer_jono.ipynb\" target=\"_parent\"><img src=\"https://colab.research.google.com/assets/colab-badge.svg\" alt=\"Open In Colab\"/></a>"
      ]
    },
    {
      "cell_type": "markdown",
      "metadata": {
        "id": "XuE2OT6HIUxd"
      },
      "source": [
        "<a href=\"https://colab.research.google.com/github/neelnanda-io/Easy-Transformer/blob/demo_notebook/EasyTransformer_Demo.ipynb\" target=\"_parent\"><img src=\"https://colab.research.google.com/assets/colab-badge.svg\" alt=\"Open In Colab\"/></a>"
      ]
    },
    {
      "cell_type": "markdown",
      "metadata": {
        "id": "eiN9Q1rOIUxi"
      },
      "source": [
        "# Setup"
      ]
    },
    {
      "cell_type": "code",
      "execution_count": 1,
      "metadata": {
        "colab": {
          "base_uri": "https://localhost:8080/"
        },
        "id": "DJdOFhBuIUxj",
        "outputId": "43fa9241-9498-4772-db55-6808bcb59c70"
      },
      "outputs": [
        {
          "output_type": "stream",
          "name": "stdout",
          "text": [
            "Running as a Colab notebook\n"
          ]
        }
      ],
      "source": [
        "try:\n",
        "    import google.colab\n",
        "\n",
        "    IN_COLAB = True\n",
        "    print(\"Running as a Colab notebook\")\n",
        "\n",
        "except:\n",
        "    IN_COLAB = False\n",
        "    print(\"Running as a Jupyter notebook - intended for development only!\")\n",
        "    from IPython import get_ipython\n",
        "\n",
        "    ipython = get_ipython()\n",
        "    # Code to automatically update the EasyTransformer code as its edited without restarting the kernel\n",
        "    ipython.magic(\"load_ext autoreload\")\n",
        "    ipython.magic(\"autoreload 2\")"
      ]
    },
    {
      "cell_type": "code",
      "execution_count": 2,
      "metadata": {
        "id": "f0mqO1GVIUxm"
      },
      "outputs": [],
      "source": [
        "DEBUG_MODE = False\n",
        "import plotly.io as pio\n",
        "\n",
        "if IN_COLAB or not DEBUG_MODE:\n",
        "    # Thanks to annoying rendering issues, Plotly graphics will either show up in colab OR Vscode depending on the renderer - this is bad for developing demos! Thus creating a debug mode.\n",
        "    pio.renderers.default = \"colab\"\n",
        "else:\n",
        "    pio.renderers.default = \"vscode\""
      ]
    },
    {
      "cell_type": "code",
      "execution_count": 3,
      "metadata": {
        "id": "1qEvQlOHIUxn"
      },
      "outputs": [],
      "source": [
        "import os\n",
        "\n",
        "if IN_COLAB:\n",
        "    os.system(\"pip install git+https://github.com/neelnanda-io/Easy-Transformer.git\")"
      ]
    },
    {
      "cell_type": "code",
      "execution_count": 4,
      "metadata": {
        "id": "bfpC29orIUxn"
      },
      "outputs": [],
      "source": [
        "# Import stuff\n",
        "import torch\n",
        "import torch.nn as nn\n",
        "import torch.nn.functional as F\n",
        "import torch.optim as optim\n",
        "import numpy as np\n",
        "import einops\n",
        "import tqdm.notebook as tqdm\n",
        "\n",
        "import random\n",
        "import time\n",
        "\n",
        "# from google.colab import drive\n",
        "from pathlib import Path\n",
        "import pickle\n",
        "import os\n",
        "\n",
        "\n",
        "import matplotlib.pyplot as plt\n",
        "\n",
        "%matplotlib inline\n",
        "import plotly.express as px\n",
        "import plotly.graph_objects as go\n",
        "\n",
        "from torch.utils.data import DataLoader\n",
        "\n",
        "from functools import *\n",
        "import pandas as pd\n",
        "import gc\n",
        "import collections\n",
        "import copy\n",
        "\n",
        "# import comet_ml\n",
        "import itertools\n",
        "from transformers import AutoModelForCausalLM, AutoConfig, AutoTokenizer\n",
        "import dataclasses\n",
        "import datasets"
      ]
    },
    {
      "cell_type": "code",
      "execution_count": 5,
      "metadata": {
        "id": "cM5oO3YgIUxo"
      },
      "outputs": [],
      "source": [
        "from easy_transformer.utils import (\n",
        "    gelu_new,\n",
        "    to_numpy,\n",
        "    get_corner,\n",
        "    lm_cross_entropy_loss,\n",
        ")  # Helper functions\n",
        "from easy_transformer.hook_points import (\n",
        "    HookedRootModule,\n",
        "    HookPoint,\n",
        ")  # Hooking utilities\n",
        "from easy_transformer import EasyTransformer, EasyTransformerConfig\n",
        "import easy_transformer\n",
        "from easy_transformer.experiments import (\n",
        "    ExperimentMetric,\n",
        "    AblationConfig,\n",
        "    EasyAblation,\n",
        "    EasyPatching,\n",
        "    PatchingConfig,\n",
        ")"
      ]
    },
    {
      "cell_type": "code",
      "execution_count": 6,
      "metadata": {
        "id": "8H6nW0bCIUxp"
      },
      "outputs": [],
      "source": [
        "device = \"cuda\" if torch.cuda.is_available() else \"cpu\""
      ]
    },
    {
      "cell_type": "markdown",
      "metadata": {
        "id": "SF_CcizpIUxq"
      },
      "source": [
        "# Hook Points"
      ]
    },
    {
      "cell_type": "markdown",
      "metadata": {
        "id": "NXW32d81IUxq"
      },
      "source": [
        "A Garcon-style interface - the key thing is a HookPoint class. This is a layer to wrap any activation within the model in. The HookPoint acts as an identity function, but allows us to put PyTorch hooks in to edit and access the relevant activation. This allows us to take any model and insert in access points to all interesting activations by wrapping them in HookPoints\n",
        "\n",
        "There is also a `HookedRootModule` class - this is a utility class that the root module should inherit from (root module = the model we run) - it has several utility functions for using hooks well. \n",
        "\n",
        "The default interface is the `run_with_hooks` function on the root module, which lets us run a forwards pass on the model, and pass on a list of hooks paired with layer names to run on that pass. \n",
        "\n",
        "The syntax for a hook is `function(activation, hook)` where `activation` is the activation the hook is wrapped around, and `hook` is the `HookPoint` class the function is attached to. If the function returns a new activation or edits the activation in-place, that replaces the old one, if it returns None then the activation remains as is.\n",
        "\n"
      ]
    },
    {
      "cell_type": "markdown",
      "metadata": {
        "id": "qfnDDECAIUxr"
      },
      "source": [
        "## Hook Points Example"
      ]
    },
    {
      "cell_type": "markdown",
      "metadata": {
        "id": "onSS7Q_kIUxr"
      },
      "source": [
        "Here's a simple example of how to use the classes:\n",
        "\n",
        "We define a basic network with two layers that each take a scalar input $x$, square it, and add a constant:\n",
        "$x_0=x$, $x_1=x_0^2+3$, $x_2=x_1^2-4$.\n",
        "\n",
        "We wrap the input, each layer's output, and the intermediate value of each layer (the square) in a hook point."
      ]
    },
    {
      "cell_type": "code",
      "execution_count": 7,
      "metadata": {
        "id": "YZAJtQP0IUxr"
      },
      "outputs": [],
      "source": [
        "from easy_transformer.hook_points import HookedRootModule, HookPoint\n",
        "\n",
        "\n",
        "class SquareThenAdd(nn.Module):\n",
        "    def __init__(self, offset):\n",
        "        super().__init__()\n",
        "        self.offset = nn.Parameter(torch.tensor(offset))\n",
        "        self.hook_square = HookPoint()\n",
        "\n",
        "    def forward(self, x):\n",
        "        # The hook_square doesn't change the value, but lets us access it\n",
        "        square = self.hook_square(x * x)\n",
        "        return self.offset + square\n",
        "\n",
        "\n",
        "class TwoLayerModel(HookedRootModule):\n",
        "    def __init__(self):\n",
        "        super().__init__()\n",
        "        self.layer1 = SquareThenAdd(3.0)\n",
        "        self.layer2 = SquareThenAdd(-4.0)\n",
        "        self.hook_in = HookPoint()\n",
        "        self.hook_mid = HookPoint()\n",
        "        self.hook_out = HookPoint()\n",
        "\n",
        "        # We need to call the setup function of HookedRootModule to build an\n",
        "        # internal dictionary of modules and hooks, and to give each hook a name\n",
        "        super().setup()\n",
        "\n",
        "    def forward(self, x):\n",
        "        # We wrap the input and each layer's output in a hook - they leave the\n",
        "        # value unchanged (unless there's a hook added to explicitly change it),\n",
        "        # but allow us to access it.\n",
        "        x_in = self.hook_in(x)\n",
        "        x_mid = self.hook_mid(self.layer1(x_in))\n",
        "        x_out = self.hook_out(self.layer2(x_mid))\n",
        "        return x_out\n",
        "\n",
        "\n",
        "model = TwoLayerModel()"
      ]
    },
    {
      "cell_type": "markdown",
      "metadata": {
        "id": "gikqdl7rIUxs"
      },
      "source": [
        "We can add a cache, to save the activation at each hook point\n",
        "\n",
        "(There's a custom `run_with_cache` function on the root module as a convenience, which is a wrapper around model.forward that return model_out, cache_object - we could also manually add hooks with `run_with_hooks` that store activations in a global caching dictionary. This is often useful if we only want to store, eg, subsets or functions of some activations.)"
      ]
    },
    {
      "cell_type": "code",
      "execution_count": 8,
      "metadata": {
        "colab": {
          "base_uri": "https://localhost:8080/"
        },
        "id": "61fEMHw7IUxs",
        "outputId": "a4b28993-2f51-49c0-904d-2552d1bab7df"
      },
      "outputs": [
        {
          "output_type": "stream",
          "name": "stdout",
          "text": [
            "Model output: 780.0\n",
            "Value cached at hook hook_in 5.0\n",
            "Value cached at hook layer1.hook_square 25.0\n",
            "Value cached at hook hook_mid 28.0\n",
            "Value cached at hook layer2.hook_square 784.0\n",
            "Value cached at hook hook_out 780.0\n"
          ]
        }
      ],
      "source": [
        "out, cache = model.run_with_cache(torch.tensor(5.0))\n",
        "print(\"Model output:\", out.item())\n",
        "for key in cache:\n",
        "    print(f\"Value cached at hook {key}\", cache[key].item())"
      ]
    },
    {
      "cell_type": "markdown",
      "metadata": {
        "id": "-Frqwyp-IUxt"
      },
      "source": [
        "We can also use hooks to intervene on activations - eg, we can set the intermediate value in layer 2 to zero to change the output to -5"
      ]
    },
    {
      "cell_type": "code",
      "execution_count": 9,
      "metadata": {
        "colab": {
          "base_uri": "https://localhost:8080/"
        },
        "id": "_PCP2Nk0IUxt",
        "outputId": "a81cf1bd-29cf-4006-b172-2df438529311"
      },
      "outputs": [
        {
          "output_type": "stream",
          "name": "stdout",
          "text": [
            "layer2.hook_square\n",
            "Output after intervening on layer2.hook_scaled -4.0\n"
          ]
        }
      ],
      "source": [
        "def set_to_zero_hook(tensor, hook):\n",
        "    print(hook.name)\n",
        "    return torch.tensor(0.0)\n",
        "\n",
        "\n",
        "print(\n",
        "    \"Output after intervening on layer2.hook_scaled\",\n",
        "    model.run_with_hooks(\n",
        "        torch.tensor(5.0), fwd_hooks=[(\"layer2.hook_square\", set_to_zero_hook)]\n",
        "    ).item(),\n",
        ")"
      ]
    },
    {
      "cell_type": "markdown",
      "metadata": {
        "id": "sXGkMM8fIUxt"
      },
      "source": [
        "# Transformer models"
      ]
    },
    {
      "cell_type": "markdown",
      "metadata": {
        "id": "85FUnGQEIUxt"
      },
      "source": [
        "We now define a stripped down transformer. There are helper functions to load in the weights of several families of open source LLMs - OpenAI's GPT-2, Facebook's OPT and Eleuther's GPT-Neo.\n",
        "\n",
        "Note: OPT-350M is not supported - it applies the LayerNorms to the *outputs* of each layer, which means we cannot fold the weights and biases into other layers, and would require notably different architecture.\n",
        "\n",
        "\n",
        "The list of supported model names:\n",
        "```\n",
        " ['gpt2', \n",
        "                     'gpt2-medium', \n",
        "                     'gpt2-large', \n",
        "                     'gpt2-xl', \n",
        "                     'facebook/opt-125m', \n",
        "                     'facebook/opt-1.3b', \n",
        "                     'facebook/opt-2.7b', \n",
        "                     'facebook/opt-6.7b', \n",
        "                     'facebook/opt-13b', \n",
        "                     'facebook/opt-30b', \n",
        "                     'facebook/opt-66b', \n",
        "                     'EleutherAI/gpt-neo-125M', \n",
        "                     'EleutherAI/gpt-neo-1.3B', \n",
        "                     'EleutherAI/gpt-neo-2.7B',]\n",
        "                     ```"
      ]
    },
    {
      "cell_type": "markdown",
      "metadata": {
        "id": "y1KhUB3qIUxu"
      },
      "source": [
        "# Examples"
      ]
    },
    {
      "cell_type": "markdown",
      "metadata": {
        "id": "b7ZaKEXJIUxu"
      },
      "source": [
        "## Setup"
      ]
    },
    {
      "cell_type": "markdown",
      "metadata": {
        "id": "tclnozKyIUxu"
      },
      "source": [
        "Load in GPT-2 small"
      ]
    },
    {
      "cell_type": "code",
      "execution_count": 10,
      "metadata": {
        "colab": {
          "base_uri": "https://localhost:8080/",
          "height": 269,
          "referenced_widgets": [
            "92b600bd4b024b33ba52f802143e40b7",
            "ba3a813175b741ba903049715646cfcc",
            "8fd580e8dfb84c6fb7bb9e241ba35eb6",
            "5dec855700b340f3b302ee198e339bc9",
            "1110a14ccac247eaafdbd75b3f4345c7",
            "32ed7fc465e848a0a822524f17190b99",
            "aaa89c28c5a84b08a47bd28661ba636a",
            "b10d97ecbe3749bfab3d39b2356450e4",
            "cf2fe6de6cdc481d9da7bce86cd2386e",
            "519d69ce6e964d48b5c3b3f51e3400ea",
            "15cdff93eaae48ab9d1249dc694118d3",
            "a10b128df126491cb1ef280fbe6604cd",
            "d270441e56eb4874ba19ae5d4fdfacd9",
            "f2030beba2454398ac6258c65b61ea3c",
            "478dc00d90614b1eae995fd56610d642",
            "9e46b5c18334422a80f3f846b359ed79",
            "74392ea59b3146a6adcf0139b1d4feee",
            "1776688ab3584976b16d60bcb3577263",
            "4326c93f2bb34762bfdad92574365fb0",
            "46624a24912d4143b498fc3b0de9e14d",
            "d6a68a406186436eaf12f0d4a61a7b11",
            "1f537f1fcd4d42498d59441107f2335f",
            "357db9fb433e492084d36cde7d7f6cb6",
            "38247fab7a204b25a4594d8ec8d34ab5",
            "14991547f04741b6af35e7f0e53a475c",
            "fd31420870b742939a924e160121635a",
            "c282ac40f18446f6935d2ffbe4088660",
            "4b86b5fda44c4f66b691b0473d52c080",
            "11b8eeba55e34f46af802a0f0cab4a64",
            "b21bf32f034043009b93ecefa25206a6",
            "e47434dc9b204cf69c64d6291f60e33a",
            "42917b90b94141468f3102b2a1299189",
            "c1380d935c504f679181ddbaf9a0f1df",
            "e2c9eb65f4344723a9cebebbaa350211",
            "1524bc2df62341b38a042b1158b4e357",
            "a8e37d3a5e1a4a8dbc903ad89f283509",
            "6131b25767ed4a9c8a91b1476a139700",
            "a7936a29569b461985577986e527832b",
            "94507e0787c44a92ba4f972520d0dbbc",
            "10c0b3110ed64bdb9afaa2ecf6b742c0",
            "cdfd4bc805e34b5e99d9f60e34229c45",
            "d97ea3e5926643679fae3e1e3c8d3162",
            "00d16a1cd07149f288a1d4282d928fa9",
            "c64e7c699bca489288207c965f13a1cf",
            "a015f0ec8f7d46099e57f393fd2c4d0f",
            "d4b48faa12a5453e911345b200889caf",
            "efa4937711284a109b54261b3151517a",
            "d2cdc7cd07074676bd514b32d39a4a89",
            "85c460262f8340e88a9d280f5c255331",
            "35440ce2d36f4761bce1ea8239966b6c",
            "3e30bfbefccd45a99a0e3a47d4c3bc12",
            "d1cf15c57df244f880833500e9ac8e02",
            "ffe3077a6333488da1a19221f4968efc",
            "f1b7f63cab6742db9073684e295d0bb5",
            "c7d01edba45a4f57a96194b45a69f3bd"
          ]
        },
        "id": "HzDXIspQIUxu",
        "outputId": "34bb1d30-ac37-4358-8d4a-bd1db3016884"
      },
      "outputs": [
        {
          "output_type": "stream",
          "name": "stdout",
          "text": [
            "Loading model: gpt2\n"
          ]
        },
        {
          "output_type": "display_data",
          "data": {
            "text/plain": [
              "Downloading:   0%|          | 0.00/665 [00:00<?, ?B/s]"
            ],
            "application/vnd.jupyter.widget-view+json": {
              "version_major": 2,
              "version_minor": 0,
              "model_id": "92b600bd4b024b33ba52f802143e40b7"
            }
          },
          "metadata": {}
        },
        {
          "output_type": "display_data",
          "data": {
            "text/plain": [
              "Downloading:   0%|          | 0.00/548M [00:00<?, ?B/s]"
            ],
            "application/vnd.jupyter.widget-view+json": {
              "version_major": 2,
              "version_minor": 0,
              "model_id": "a10b128df126491cb1ef280fbe6604cd"
            }
          },
          "metadata": {}
        },
        {
          "output_type": "display_data",
          "data": {
            "text/plain": [
              "Downloading:   0%|          | 0.00/1.04M [00:00<?, ?B/s]"
            ],
            "application/vnd.jupyter.widget-view+json": {
              "version_major": 2,
              "version_minor": 0,
              "model_id": "357db9fb433e492084d36cde7d7f6cb6"
            }
          },
          "metadata": {}
        },
        {
          "output_type": "display_data",
          "data": {
            "text/plain": [
              "Downloading:   0%|          | 0.00/456k [00:00<?, ?B/s]"
            ],
            "application/vnd.jupyter.widget-view+json": {
              "version_major": 2,
              "version_minor": 0,
              "model_id": "e2c9eb65f4344723a9cebebbaa350211"
            }
          },
          "metadata": {}
        },
        {
          "output_type": "display_data",
          "data": {
            "text/plain": [
              "Downloading:   0%|          | 0.00/1.36M [00:00<?, ?B/s]"
            ],
            "application/vnd.jupyter.widget-view+json": {
              "version_major": 2,
              "version_minor": 0,
              "model_id": "a015f0ec8f7d46099e57f393fd2c4d0f"
            }
          },
          "metadata": {}
        },
        {
          "output_type": "stream",
          "name": "stderr",
          "text": [
            "Using pad_token, but it is not set yet.\n"
          ]
        },
        {
          "output_type": "stream",
          "name": "stdout",
          "text": [
            "Moving model to device:  cpu\n",
            "Finished loading pretrained model gpt2 into EasyTransformer!\n",
            "Moving model to device:  cpu\n"
          ]
        }
      ],
      "source": [
        "model_name = \"gpt2\"  # @param ['gpt2', 'gpt2-medium', 'gpt2-large', 'gpt2-xl', 'facebook/opt-125m', 'facebook/opt-1.3b', 'facebook/opt-2.7b', 'facebook/opt-6.7b', 'facebook/opt-13b', 'facebook/opt-30b', 'facebook/opt-66b', 'EleutherAI/gpt-neo-125M', 'EleutherAI/gpt-neo-1.3B', 'EleutherAI/gpt-neo-2.7B']\n",
        "model = EasyTransformer.from_pretrained(model_name).to(device)"
      ]
    },
    {
      "cell_type": "markdown",
      "metadata": {
        "id": "QDw5aNmCIUxv"
      },
      "source": [
        "Create some reference text to run the models on. Models come with a `to_tokens` and `to_str_tokens` method, which can convert text to tokens and to a list of individual tokens as strings. Though GPT-2 was not trained with a beginning of string token, we prepend one by default, as the first token is often used as a \"resting position\" by inactive attention heads, and as a result has weird behaviour."
      ]
    },
    {
      "cell_type": "code",
      "execution_count": 11,
      "metadata": {
        "colab": {
          "base_uri": "https://localhost:8080/"
        },
        "id": "xlAhOMquIUxv",
        "outputId": "ce39c48a-2aa3-41fa-e268-60ea88124372"
      },
      "outputs": [
        {
          "output_type": "stream",
          "name": "stdout",
          "text": [
            "['<|endoftext|>', 'Inter', 'pret', 'ability', ' is', ' great']\n",
            "['<|endoftext|>', 'AI', ' Al', 'ignment', ' is', ' great']\n"
          ]
        }
      ],
      "source": [
        "prompt = \"Interpretability is great\"\n",
        "# The model has a method to_str_tokens\n",
        "print(model.to_str_tokens(prompt, prepend_bos=True))\n",
        "\n",
        "prompt_2 = \"AI Alignment is great\"\n",
        "# We can go via the to_tokens method\n",
        "tokens_2 = model.to_tokens(prompt_2, prepend_bos=True)\n",
        "# to_str_tokens also takes a tensor of tokens as input, though only for a *single* example\n",
        "print(model.to_str_tokens(tokens_2))"
      ]
    },
    {
      "cell_type": "code",
      "execution_count": 12,
      "metadata": {
        "colab": {
          "base_uri": "https://localhost:8080/"
        },
        "id": "LkdZNoEZIUxv",
        "outputId": "b92f0d37-65fb-4c6a-c2e8-9afa82fc545e"
      },
      "outputs": [
        {
          "output_type": "stream",
          "name": "stdout",
          "text": [
            "Reference: Hyperparameters for the model\n"
          ]
        },
        {
          "output_type": "execute_result",
          "data": {
            "text/plain": [
              "{'n_layers': 12,\n",
              " 'd_model': 768,\n",
              " 'n_ctx': 1024,\n",
              " 'd_head': 64,\n",
              " 'model_name': 'gpt2',\n",
              " 'n_heads': 12,\n",
              " 'd_mlp': 3072,\n",
              " 'act_fn': 'gelu_new',\n",
              " 'd_vocab': 50257,\n",
              " 'eps': 1e-05,\n",
              " 'use_attn_result': False,\n",
              " 'use_attn_scale': True,\n",
              " 'use_local_attn': False,\n",
              " 'original_architecture': 'GPT2LMHeadModel',\n",
              " 'from_checkpoint': False,\n",
              " 'checkpoint_index': None,\n",
              " 'checkpoint_label_type': None,\n",
              " 'checkpoint_value': None,\n",
              " 'tokenizer_name': 'gpt2',\n",
              " 'window_size': None,\n",
              " 'attn_types': None,\n",
              " 'init_mode': 'gpt2',\n",
              " 'normalization_type': 'LNPre',\n",
              " 'device': 'cpu',\n",
              " 'attention_dir': 'causal',\n",
              " 'attn_only': False,\n",
              " 'seed': 42,\n",
              " 'initializer_range': 0.02886751345948129,\n",
              " 'init_weights': False,\n",
              " 'scale_attn_by_inverse_layer_idx': False,\n",
              " 'positional_embedding_type': 'standard',\n",
              " 'final_rms': False,\n",
              " 'd_vocab_out': 50257,\n",
              " 'parallel_attn_mlp': False,\n",
              " 'rotary_dim': None,\n",
              " 'n_params': 84934656}"
            ]
          },
          "metadata": {},
          "execution_count": 12
        }
      ],
      "source": [
        "print(\"Reference: Hyperparameters for the model\")\n",
        "dataclasses.asdict(model.cfg)"
      ]
    },
    {
      "cell_type": "markdown",
      "metadata": {
        "id": "dI6BY38LIUxv"
      },
      "source": [
        "## Using the model"
      ]
    },
    {
      "cell_type": "markdown",
      "metadata": {
        "id": "6sEks65_IUxw"
      },
      "source": [
        "The model can be given either text or tokens as an input (text is automatically converted to a `batch_size=1` batch of tokens). \n",
        "\n",
        "This time, we'll disable the automatic prepending of a BoS token. Here it doesn't really matter either way."
      ]
    },
    {
      "cell_type": "code",
      "execution_count": 13,
      "metadata": {
        "colab": {
          "base_uri": "https://localhost:8080/"
        },
        "id": "lDlYm7r0IUxw",
        "outputId": "1594fa3e-f405-4641-8873-fd91dcd00fa4"
      },
      "outputs": [
        {
          "output_type": "stream",
          "name": "stdout",
          "text": [
            "['Hello', ' World', '!']\n"
          ]
        }
      ],
      "source": [
        "prompt = \"Hello World!\"\n",
        "print(model.to_str_tokens(prompt, prepend_bos=False))\n",
        "tokens = model.to_tokens(prompt, prepend_bos=False)\n",
        "logits_tokens = model(tokens)\n",
        "logits_text = model(prompt, prepend_bos=False)"
      ]
    },
    {
      "cell_type": "markdown",
      "metadata": {
        "id": "nOlbtIIdIUxw"
      },
      "source": [
        "EasyTransformer applies multiple optimizations internally to make the model computationally equivalent to the original model, but to be more interpretable, eg [folding in LayerNorm weights](https://transformer-circuits.pub/2021/framework/index.html#:~:text=Handling%20Layer%20Normalization) and making the unembedding be mean zero (as logits are translation invariant) \n",
        "\n",
        "Importantly, as we remove a constant offset from $W_U$, the log probs (and thus the loss) are unchanged, but the logits are translated."
      ]
    },
    {
      "cell_type": "code",
      "execution_count": 14,
      "metadata": {
        "colab": {
          "base_uri": "https://localhost:8080/"
        },
        "id": "_20dAd0-IUxw",
        "outputId": "04a83ef1-0608-4901-9b17-774b7e924b86"
      },
      "outputs": [
        {
          "output_type": "stream",
          "name": "stdout",
          "text": [
            "Logit shape: torch.Size([1, 3, 50257])\n",
            "Fraction of log probs the same between easy model and original model:\n",
            "tensor(1.)\n",
            "Fraction of logits the same between easy model and original model:\n",
            "tensor(0.)\n"
          ]
        }
      ],
      "source": [
        "original_model = AutoModelForCausalLM.from_pretrained(model_name).to(device)\n",
        "easy_logits = model(tokens)\n",
        "original_model_logits = original_model(tokens).logits\n",
        "\n",
        "easy_log_probs = F.log_softmax(easy_logits, dim=-1)\n",
        "original_model_log_probs = F.log_softmax(original_model_logits, dim=-1)\n",
        "print(\"Logit shape:\", easy_logits.shape)\n",
        "print(\"Fraction of log probs the same between easy model and original model:\")\n",
        "print(\n",
        "    torch.isclose(original_model_log_probs, easy_log_probs).sum()\n",
        "    / easy_log_probs.numel()\n",
        ")\n",
        "print(\"Fraction of logits the same between easy model and original model:\")\n",
        "print(torch.isclose(original_model_logits, easy_logits).sum() / easy_logits.numel())"
      ]
    },
    {
      "cell_type": "markdown",
      "metadata": {
        "id": "uObPeeFbIUxx"
      },
      "source": [
        "## Basic Examples"
      ]
    },
    {
      "cell_type": "markdown",
      "metadata": {
        "id": "-iIMpO-gIUxx"
      },
      "source": [
        "Print the shapes of all activations in the embedding or first layer (other layers are identical to the first layer, just change the index in `blocks.{layer}.`)\n",
        "\n",
        "**Note:** This cell is a good reference for creating hooks - it's extremely useful to know the shapes of different activations as accessible by each hook!\n",
        "\n",
        "By convention, each activation is batch x position x ... (where the final dimension(s) is d_model, (head_index x d_head) or d_mlp). The one exception is hook_attn (attention patterns) which has shape batch x head_index x query_pos x key_pos\n",
        "\n",
        "**Reference:**\n",
        "`batch_size=4\n",
        "n_ctx=50\n",
        "d_head=64\n",
        "d_model=768\n",
        "d_mlp=3072\n",
        "n_heads=12\n",
        "n_layers=12`"
      ]
    },
    {
      "cell_type": "code",
      "execution_count": 15,
      "metadata": {
        "colab": {
          "base_uri": "https://localhost:8080/"
        },
        "id": "mz9QlDoyIUxx",
        "outputId": "b59e7d69-6720-4a77-92d9-26beba335620"
      },
      "outputs": [
        {
          "output_type": "stream",
          "name": "stdout",
          "text": [
            "Activation at hook hook_embed has shape:\n",
            "torch.Size([4, 50, 768])\n",
            "Activation at hook hook_pos_embed has shape:\n",
            "torch.Size([4, 50, 768])\n",
            "Activation at hook blocks.0.hook_resid_pre has shape:\n",
            "torch.Size([4, 50, 768])\n",
            "Activation at hook blocks.0.ln1.hook_scale has shape:\n",
            "torch.Size([4, 50, 1])\n",
            "Activation at hook blocks.0.ln1.hook_normalized has shape:\n",
            "torch.Size([4, 50, 768])\n",
            "Activation at hook blocks.0.attn.hook_q has shape:\n",
            "torch.Size([4, 50, 12, 64])\n",
            "Activation at hook blocks.0.attn.hook_k has shape:\n",
            "torch.Size([4, 50, 12, 64])\n",
            "Activation at hook blocks.0.attn.hook_v has shape:\n",
            "torch.Size([4, 50, 12, 64])\n",
            "Activation at hook blocks.0.attn.hook_attn_scores has shape:\n",
            "torch.Size([4, 12, 50, 50])\n",
            "Activation at hook blocks.0.attn.hook_attn has shape:\n",
            "torch.Size([4, 12, 50, 50])\n",
            "Activation at hook blocks.0.attn.hook_z has shape:\n",
            "torch.Size([4, 50, 12, 64])\n",
            "Activation at hook blocks.0.hook_attn_out has shape:\n",
            "torch.Size([4, 50, 768])\n",
            "Activation at hook blocks.0.hook_resid_mid has shape:\n",
            "torch.Size([4, 50, 768])\n",
            "Activation at hook blocks.0.ln2.hook_scale has shape:\n",
            "torch.Size([4, 50, 1])\n",
            "Activation at hook blocks.0.ln2.hook_normalized has shape:\n",
            "torch.Size([4, 50, 768])\n",
            "Activation at hook blocks.0.mlp.hook_pre has shape:\n",
            "torch.Size([4, 50, 3072])\n",
            "Activation at hook blocks.0.mlp.hook_post has shape:\n",
            "torch.Size([4, 50, 3072])\n",
            "Activation at hook blocks.0.hook_mlp_out has shape:\n",
            "torch.Size([4, 50, 768])\n",
            "Activation at hook blocks.0.hook_resid_post has shape:\n",
            "torch.Size([4, 50, 768])\n",
            "Activation at hook ln_final.hook_scale has shape:\n",
            "torch.Size([4, 50, 1])\n",
            "Activation at hook ln_final.hook_normalized has shape:\n",
            "torch.Size([4, 50, 768])\n"
          ]
        }
      ],
      "source": [
        "embed_or_first_layer = lambda name: (name[:6] != \"blocks\" or name[:8] == \"blocks.0\")\n",
        "\n",
        "\n",
        "def print_shape(tensor, hook):\n",
        "    print(f\"Activation at hook {hook.name} has shape:\")\n",
        "    print(tensor.shape)\n",
        "\n",
        "\n",
        "random_tokens = torch.randint(1000, 10000, (4, 50))\n",
        "logits = model.run_with_hooks(\n",
        "    random_tokens, fwd_hooks=[(embed_or_first_layer, print_shape)]\n",
        ")"
      ]
    },
    {
      "cell_type": "markdown",
      "metadata": {
        "id": "2IzNf2z0IUxx"
      },
      "source": [
        "Print the top corner of all activations\n",
        "\n",
        "**Note:** This is useful to do as a sanity check when debugging a model, to quickly and roughly compare the new activations to the original activations (without looking at the full enormous tensors)"
      ]
    },
    {
      "cell_type": "code",
      "execution_count": 16,
      "metadata": {
        "colab": {
          "base_uri": "https://localhost:8080/"
        },
        "id": "dOuHbL6TIUxy",
        "outputId": "e9c97885-7728-4468-f655-956d1be65f6f"
      },
      "outputs": [
        {
          "output_type": "stream",
          "name": "stdout",
          "text": [
            "hook_embed\n",
            "tensor([[[-0.0692, -0.1332,  0.0107],\n",
            "         [-0.0903,  0.0212,  0.3009],\n",
            "         [-0.1106, -0.0398,  0.0326]]], grad_fn=<SliceBackward0>)\n",
            "hook_pos_embed\n",
            "tensor([[[-0.0134, -0.1920,  0.0095],\n",
            "         [ 0.0250, -0.0528, -0.0939],\n",
            "         [ 0.0065, -0.0825,  0.0568]]], grad_fn=<SliceBackward0>)\n",
            "blocks.0.hook_resid_pre\n",
            "tensor([[[-0.0826, -0.3252,  0.0201],\n",
            "         [-0.0653, -0.0316,  0.2071],\n",
            "         [-0.1041, -0.1223,  0.0894]]], grad_fn=<SliceBackward0>)\n",
            "blocks.0.ln1.hook_scale\n",
            "tensor([[[0.3795],\n",
            "         [0.2153],\n",
            "         [0.1962]]], grad_fn=<SliceBackward0>)\n",
            "blocks.0.ln1.hook_normalized\n",
            "tensor([[[-0.2176, -0.8570,  0.0531],\n",
            "         [-0.3033, -0.1468,  0.9616],\n",
            "         [-0.5308, -0.6233,  0.4556]]], grad_fn=<SliceBackward0>)\n",
            "blocks.0.attn.hook_q\n",
            "tensor([[[[ 0.4701, -0.0775,  0.5531],\n",
            "          [-1.6738,  0.0741, -2.0410],\n",
            "          [ 0.4965,  0.9504,  0.2968]],\n",
            "\n",
            "         [[-0.4076,  1.5079,  0.0580],\n",
            "          [ 0.8189,  1.3556, -2.0204],\n",
            "          [-0.2553,  0.6799, -0.4413]],\n",
            "\n",
            "         [[ 0.2009, -0.0724,  0.6384],\n",
            "          [ 0.7554,  0.9048, -1.5009],\n",
            "          [-0.0154,  1.4663,  0.6373]]]], grad_fn=<SliceBackward0>)\n",
            "blocks.0.attn.hook_k\n",
            "tensor([[[[-1.2526,  2.3200,  0.1722],\n",
            "          [-0.3975, -0.4736, -0.8473],\n",
            "          [ 0.3670, -1.0056,  1.3048]],\n",
            "\n",
            "         [[-2.6917,  2.8358,  1.5316],\n",
            "          [ 0.6833,  0.6253, -1.6378],\n",
            "          [ 1.0142,  1.1044,  1.1745]],\n",
            "\n",
            "         [[-2.0131,  2.7125,  1.8671],\n",
            "          [-0.0490, -0.8074, -1.7336],\n",
            "          [ 1.0125, -0.0738,  1.0648]]]], grad_fn=<SliceBackward0>)\n",
            "blocks.0.attn.hook_v\n",
            "tensor([[[[ 0.1637,  0.2042, -0.0436],\n",
            "          [ 0.3102,  0.1178, -0.0882],\n",
            "          [ 0.2191,  0.0087,  0.0735]],\n",
            "\n",
            "         [[-0.1562,  0.1953, -0.0155],\n",
            "          [ 0.4145, -0.0456, -0.1670],\n",
            "          [ 0.1130, -0.2758, -0.0888]],\n",
            "\n",
            "         [[-0.1250, -0.0359, -0.1472],\n",
            "          [ 0.3074, -0.1480, -0.0081],\n",
            "          [-0.0516, -0.1785,  0.2528]]]], grad_fn=<SliceBackward0>)\n",
            "blocks.0.attn.hook_attn_scores\n",
            "tensor([[[[ 1.5886e-01, -1.0000e+05, -1.0000e+05],\n",
            "          [ 1.8075e+00, -1.0686e+00, -1.0000e+05],\n",
            "          [ 1.9345e-01, -1.4153e+00, -1.9224e+00]],\n",
            "\n",
            "         [[ 4.9801e+00, -1.0000e+05, -1.0000e+05],\n",
            "          [ 4.2792e+00,  1.0764e+01, -1.0000e+05],\n",
            "          [ 3.7518e+00,  3.8229e+00,  8.7570e+00]],\n",
            "\n",
            "         [[-8.1685e-01, -1.0000e+05, -1.0000e+05],\n",
            "          [ 1.8951e-01, -1.0783e+00, -1.0000e+05],\n",
            "          [-9.4149e-01, -1.9116e+00, -1.5624e+00]]]], grad_fn=<SliceBackward0>)\n",
            "blocks.0.attn.hook_attn\n",
            "tensor([[[[1.0000, 0.0000, 0.0000],\n",
            "          [0.9466, 0.0534, 0.0000],\n",
            "          [0.7572, 0.1515, 0.0913]],\n",
            "\n",
            "         [[1.0000, 0.0000, 0.0000],\n",
            "          [0.0015, 0.9985, 0.0000],\n",
            "          [0.0066, 0.0071, 0.9863]],\n",
            "\n",
            "         [[1.0000, 0.0000, 0.0000],\n",
            "          [0.7804, 0.2196, 0.0000],\n",
            "          [0.5218, 0.1978, 0.2804]]]], grad_fn=<SliceBackward0>)\n",
            "blocks.0.attn.hook_z\n",
            "tensor([[[[ 0.1637,  0.2042, -0.0436],\n",
            "          [ 0.3102,  0.1178, -0.0882],\n",
            "          [ 0.2191,  0.0087,  0.0735]],\n",
            "\n",
            "         [[ 0.1466,  0.2037, -0.0421],\n",
            "          [ 0.4144, -0.0454, -0.1669],\n",
            "          [ 0.1958, -0.0538,  0.0379]],\n",
            "\n",
            "         [[ 0.0889,  0.1809, -0.0488],\n",
            "          [ 0.3082, -0.1456, -0.0097],\n",
            "          [ 0.1222, -0.1001,  0.0917]]]], grad_fn=<SliceBackward0>)\n",
            "blocks.0.hook_attn_out\n",
            "tensor([[[ 0.2413, -0.4078, -0.2467],\n",
            "         [-1.2967, -0.0258, -0.2561],\n",
            "         [-0.4190, -0.3495,  0.0070]]], grad_fn=<SliceBackward0>)\n",
            "blocks.0.hook_resid_mid\n",
            "tensor([[[ 0.1587, -0.7330, -0.2266],\n",
            "         [-1.3620, -0.0574, -0.0490],\n",
            "         [-0.5232, -0.4718,  0.0964]]], grad_fn=<SliceBackward0>)\n",
            "blocks.0.ln2.hook_scale\n",
            "tensor([[[1.1683],\n",
            "         [1.2482],\n",
            "         [1.0558]]], grad_fn=<SliceBackward0>)\n",
            "blocks.0.ln2.hook_normalized\n",
            "tensor([[[ 0.1359, -0.6274, -0.1939],\n",
            "         [-1.0912, -0.0460, -0.0393],\n",
            "         [-0.4955, -0.4468,  0.0913]]], grad_fn=<SliceBackward0>)\n",
            "blocks.0.mlp.hook_pre\n",
            "tensor([[[-0.1052, -0.2519, -0.5952],\n",
            "         [ 0.3006, -0.7056, -1.2101],\n",
            "         [ 0.1016, -1.3998, -0.5468]]], grad_fn=<SliceBackward0>)\n",
            "blocks.0.mlp.hook_post\n",
            "tensor([[[-0.0482, -0.1009, -0.1642],\n",
            "         [ 0.1858, -0.1696, -0.1371],\n",
            "         [ 0.0549, -0.1133, -0.1598]]], grad_fn=<SliceBackward0>)\n",
            "blocks.0.hook_mlp_out\n",
            "tensor([[[ 0.4491, -0.7972,  0.9901],\n",
            "         [-0.2644,  0.3986,  0.7740],\n",
            "         [ 0.0903, -0.7448,  0.3327]]], grad_fn=<SliceBackward0>)\n",
            "blocks.0.hook_resid_post\n",
            "tensor([[[ 0.6078, -1.5302,  0.7635],\n",
            "         [-1.6264,  0.3412,  0.7250],\n",
            "         [-0.4328, -1.2165,  0.4291]]], grad_fn=<SliceBackward0>)\n",
            "ln_final.hook_scale\n",
            "tensor([[[13.2840],\n",
            "         [10.0065],\n",
            "         [16.5731]]], grad_fn=<SliceBackward0>)\n",
            "ln_final.hook_normalized\n",
            "tensor([[[-0.0008, -0.1285, -0.0748],\n",
            "         [ 0.0953,  0.2186,  0.3553],\n",
            "         [-0.0653, -0.1689,  0.0867]]], grad_fn=<SliceBackward0>)\n"
          ]
        }
      ],
      "source": [
        "def print_corner(tensor, hook):\n",
        "    print(hook.name)\n",
        "    print(get_corner(tensor))\n",
        "\n",
        "\n",
        "logits = model.run_with_hooks(tokens, fwd_hooks=[(embed_or_first_layer, print_corner)])"
      ]
    },
    {
      "cell_type": "markdown",
      "metadata": {
        "id": "IDI-q5n2IUxy"
      },
      "source": [
        "Cache all activations\n"
      ]
    },
    {
      "cell_type": "code",
      "execution_count": 17,
      "metadata": {
        "colab": {
          "base_uri": "https://localhost:8080/"
        },
        "id": "OOAx9LgIIUxy",
        "outputId": "a6b1e2b2-5c3e-434e-dae3-f17772abc843"
      },
      "outputs": [
        {
          "output_type": "stream",
          "name": "stdout",
          "text": [
            "hook_embed torch.Size([1, 3, 768])\n",
            "hook_pos_embed torch.Size([1, 3, 768])\n",
            "blocks.0.hook_resid_pre torch.Size([1, 3, 768])\n",
            "blocks.0.ln1.hook_scale torch.Size([1, 3, 1])\n",
            "blocks.0.ln1.hook_normalized torch.Size([1, 3, 768])\n",
            "blocks.0.attn.hook_q torch.Size([1, 3, 12, 64])\n",
            "blocks.0.attn.hook_k torch.Size([1, 3, 12, 64])\n",
            "blocks.0.attn.hook_v torch.Size([1, 3, 12, 64])\n",
            "blocks.0.attn.hook_attn_scores torch.Size([1, 12, 3, 3])\n",
            "blocks.0.attn.hook_attn torch.Size([1, 12, 3, 3])\n",
            "blocks.0.attn.hook_z torch.Size([1, 3, 12, 64])\n",
            "blocks.0.hook_attn_out torch.Size([1, 3, 768])\n",
            "blocks.0.hook_resid_mid torch.Size([1, 3, 768])\n",
            "blocks.0.ln2.hook_scale torch.Size([1, 3, 1])\n",
            "blocks.0.ln2.hook_normalized torch.Size([1, 3, 768])\n",
            "blocks.0.mlp.hook_pre torch.Size([1, 3, 3072])\n",
            "blocks.0.mlp.hook_post torch.Size([1, 3, 3072])\n",
            "blocks.0.hook_mlp_out torch.Size([1, 3, 768])\n",
            "blocks.0.hook_resid_post torch.Size([1, 3, 768])\n",
            "ln_final.hook_scale torch.Size([1, 3, 1])\n",
            "ln_final.hook_normalized torch.Size([1, 3, 768])\n"
          ]
        }
      ],
      "source": [
        "logits, cache = model.run_with_cache(tokens)\n",
        "for name in cache:\n",
        "    if embed_or_first_layer(name):\n",
        "        print(name, cache[name].shape)"
      ]
    },
    {
      "cell_type": "markdown",
      "metadata": {
        "id": "QqB5PC_RIUxz"
      },
      "source": [
        "To save GPU memory, we can cache activations to the CPU - note that this is much slower though, since it requires copying."
      ]
    },
    {
      "cell_type": "code",
      "execution_count": 18,
      "metadata": {
        "colab": {
          "base_uri": "https://localhost:8080/"
        },
        "id": "EUj_xv38IUxz",
        "outputId": "76600745-25ad-4fb0-9373-7befd1d87ca7"
      },
      "outputs": [
        {
          "output_type": "stream",
          "name": "stdout",
          "text": [
            "Run time when copying to the CPU\n",
            "1.97 s ± 172 ms per loop (mean ± std. dev. of 7 runs, 3 loops each)\n"
          ]
        }
      ],
      "source": [
        "random_tokens = torch.randint(1000, 10000, (1, 300))\n",
        "\n",
        "print(\"Run time when copying to the CPU\")\n",
        "%timeit -n 3 logits, cache = model.run_with_cache(random_tokens, device='cpu')\n",
        "model.reset_hooks()\n",
        "if torch.cuda.is_available():\n",
        "    print(\"Run time when just caching on GPU\")\n",
        "    %timeit -n 3 logits, cache = model.run_with_cache(random_tokens, device='cuda')"
      ]
    },
    {
      "cell_type": "markdown",
      "metadata": {
        "id": "SY55Gz40IUxz"
      },
      "source": [
        "## Editing Activations\n",
        "**To change an activation, add a hook to that HookPoint which returns the new activation**"
      ]
    },
    {
      "cell_type": "markdown",
      "metadata": {
        "id": "CpNLMXfBIUxz"
      },
      "source": [
        "Pruning attention heads"
      ]
    },
    {
      "cell_type": "code",
      "execution_count": 19,
      "metadata": {
        "id": "NSKJTs65IUxz"
      },
      "outputs": [],
      "source": [
        "# Example - prune heads 0, 3 and 7 from layer 3 and heads 8 and 9 from layer 7\n",
        "layer = 3\n",
        "head_indices = torch.tensor([0, 3, 7])\n",
        "layer_2 = 7\n",
        "head_indices_2 = torch.tensor([8, 9])\n",
        "\n",
        "\n",
        "def prune_fn_1(z, hook):\n",
        "    # The shape of the z tensor is batch x pos x head_index x d_head\n",
        "    z[:, :, head_indices, :] = 0.0\n",
        "    return z\n",
        "\n",
        "\n",
        "def prune_fn_2(z, hook):\n",
        "    # The shape of the z tensor is batch x pos x head_index x d_head\n",
        "    z[:, :, head_indices_2, :] = 0.0\n",
        "    return z\n",
        "\n",
        "\n",
        "logits = model.run_with_hooks(\n",
        "    tokens,\n",
        "    fwd_hooks=[\n",
        "        (f\"blocks.{layer}.attn.hook_z\", prune_fn_1),\n",
        "        (f\"blocks.{layer_2}.attn.hook_z\", prune_fn_2),\n",
        "    ],\n",
        ")"
      ]
    },
    {
      "cell_type": "markdown",
      "metadata": {
        "id": "OGGc8AvLIUx0"
      },
      "source": [
        "Restrict all attention heads to only attend to the current and previous token.\n",
        "\n",
        "**Validation:** The logits for the first 2 positions are the same, the logits for pos 3 are different"
      ]
    },
    {
      "cell_type": "code",
      "execution_count": 20,
      "metadata": {
        "colab": {
          "base_uri": "https://localhost:8080/"
        },
        "id": "Xy1U2RBWIUx0",
        "outputId": "1c7f288e-b28a-4301-ceeb-7ce688750782"
      },
      "outputs": [
        {
          "output_type": "stream",
          "name": "stdout",
          "text": [
            "New logits\n",
            "tensor([[[ 7.5261, 11.1214,  7.8919],\n",
            "         [ 5.5660,  6.0116,  6.5193],\n",
            "         [10.0751,  6.8902,  3.8754]]], grad_fn=<SliceBackward0>)\n",
            "Original logits\n",
            "tensor([[[ 7.5261, 11.1214,  7.8919],\n",
            "         [ 5.5660,  6.0116,  6.5193],\n",
            "         [10.1794,  6.3186,  3.4537]]], grad_fn=<SliceBackward0>)\n"
          ]
        }
      ],
      "source": [
        "model.reset_hooks()\n",
        "\n",
        "\n",
        "def filter_hook_attn(name):\n",
        "    split_name = name.split(\".\")\n",
        "    return split_name[-1] == \"hook_attn\"\n",
        "\n",
        "\n",
        "def restrict_attn(attn, hook):\n",
        "    # Attn has shape batch x head_index x query_pos x key_pos\n",
        "    n_ctx = attn.size(-2)\n",
        "    key_pos = torch.arange(n_ctx)[None, :]\n",
        "    query_pos = torch.arange(n_ctx)[:, None]\n",
        "    mask = (key_pos > (query_pos - 2)).to(device)\n",
        "    ZERO = torch.tensor(0.0).to(device)\n",
        "    attn = torch.where(mask, attn, ZERO)\n",
        "    return attn\n",
        "\n",
        "\n",
        "text = \"GPU go brrrr\"\n",
        "original_logits = model(text)\n",
        "logits = model.run_with_hooks(text, fwd_hooks=[(filter_hook_attn, restrict_attn)])\n",
        "print(\"New logits\")\n",
        "print(get_corner(logits, 3))\n",
        "print(\"Original logits\")\n",
        "print(get_corner(original_logits, 3))"
      ]
    },
    {
      "cell_type": "markdown",
      "metadata": {
        "id": "D73INLqvIUx0"
      },
      "source": [
        "Freezing attention patterns - here we do two runs of the model. First on the original text, caching attn patterns, and secondly on the new text, loading the cached patterns\n"
      ]
    },
    {
      "cell_type": "code",
      "execution_count": 21,
      "metadata": {
        "id": "e1mi-IpRIUx0"
      },
      "outputs": [],
      "source": [
        "attn_cache = {}\n",
        "\n",
        "\n",
        "def cache_attn(attn, hook):\n",
        "    attn_cache[hook.name] = attn\n",
        "\n",
        "\n",
        "def freeze_attn(attn, hook):\n",
        "    return attn_cache[hook.name]\n",
        "\n",
        "\n",
        "text = \"Freezing attention is good\"\n",
        "text_2 = \"Freezing attention is bad\"\n",
        "logits = model.run_with_hooks(text, fwd_hooks=[(filter_hook_attn, cache_attn)])\n",
        "\n",
        "logits_2 = model.run_with_hooks(text_2, fwd_hooks=[(filter_hook_attn, freeze_attn)])"
      ]
    },
    {
      "cell_type": "markdown",
      "metadata": {
        "id": "OamLG9DtIUx0"
      },
      "source": [
        "## Using Hook Contexts"
      ]
    },
    {
      "cell_type": "markdown",
      "metadata": {
        "id": "09I3-Q-8IUx0"
      },
      "source": [
        "**Each hook point has a dictionary `hook.ctx` that can be used to store information between runs** - this is useful for keeping running totals, etc "
      ]
    },
    {
      "cell_type": "markdown",
      "metadata": {
        "id": "7QtAgenfIUx1"
      },
      "source": [
        "A running total of times a neuron activation was positive\n"
      ]
    },
    {
      "cell_type": "code",
      "execution_count": 22,
      "metadata": {
        "colab": {
          "base_uri": "https://localhost:8080/"
        },
        "id": "_4be1_jjIUx1",
        "outputId": "011a915e-c84d-49f0-9090-5c610096aa4d"
      },
      "outputs": [
        {
          "output_type": "stream",
          "name": "stdout",
          "text": [
            "['The', ' dog', ' was', ' green']\n",
            "Neuron acts: tensor([-0.0097, -0.1189, -0.1593,  0.7287, -0.0855],\n",
            "       grad_fn=<SelectBackward0>)\n",
            "Running total: 1\n",
            "['The', ' cat', ' was', ' blue']\n",
            "Neuron acts: tensor([-0.0097, -0.1189, -0.1408,  0.5849, -0.0564],\n",
            "       grad_fn=<SelectBackward0>)\n",
            "Running total: 2\n",
            "['The', ' squid', ' was', ' mag', 'enta']\n",
            "Neuron acts: tensor([-0.0097, -0.1189,  0.6551,  0.7568, -0.1282, -0.0406],\n",
            "       grad_fn=<SelectBackward0>)\n",
            "Running total: 4\n",
            "['The', ' blob', 'fish', ' was', ' grey']\n",
            "Neuron acts: tensor([-0.0097, -0.1189,  0.0608,  0.4433,  0.7619, -0.0141],\n",
            "       grad_fn=<SelectBackward0>)\n",
            "Running total: 7\n"
          ]
        }
      ],
      "source": [
        "# We focus on neuron 20 in layer 7\n",
        "model.reset_hooks()\n",
        "animal_texts = [\n",
        "    \"The dog was green\",\n",
        "    \"The cat was blue\",\n",
        "    \"The squid was magenta\",\n",
        "    \"The blobfish was grey\",\n",
        "]\n",
        "layer = 7\n",
        "neuron_index = 20\n",
        "\n",
        "\n",
        "def running_total_hook(neuron_acts, hook):\n",
        "    if \"total\" not in hook.ctx:\n",
        "        hook.ctx[\"total\"] = 0\n",
        "    print(\"Neuron acts:\", neuron_acts[0, :, neuron_index])\n",
        "    hook.ctx[\"total\"] += (neuron_acts[0, :, neuron_index] > 0).sum().item()\n",
        "    print(\"Running total:\", hook.ctx[\"total\"])\n",
        "\n",
        "\n",
        "for animal_text in animal_texts:\n",
        "    print(model.to_str_tokens(animal_text))\n",
        "    model.run_with_hooks(\n",
        "        animal_text, fwd_hooks=[(f\"blocks.{layer}.mlp.hook_post\", running_total_hook)]\n",
        "    )"
      ]
    },
    {
      "cell_type": "markdown",
      "metadata": {
        "id": "3RWy2jA_IUx1"
      },
      "source": [
        "Finding the dataset example that most activates a given neuron\n"
      ]
    },
    {
      "cell_type": "code",
      "execution_count": 23,
      "metadata": {
        "colab": {
          "base_uri": "https://localhost:8080/"
        },
        "id": "dW6NPA0_IUx1",
        "outputId": "ad702165-ebf2-4646-ac95-a53151801869"
      },
      "outputs": [
        {
          "output_type": "stream",
          "name": "stdout",
          "text": [
            "['The', ' dog', ' was', ' green']\n",
            "Neuron acts: tensor([-0.0064, -0.1598, -0.1656,  0.0594,  0.0503],\n",
            "       grad_fn=<SelectBackward0>)\n",
            "Updating best act from -1000.0 to 0.05938572436571121\n",
            "['The', ' cat', ' was', ' blue']\n",
            "Neuron acts: tensor([-0.0064, -0.1598, -0.1520,  0.2058,  0.0560],\n",
            "       grad_fn=<SelectBackward0>)\n",
            "Updating best act from 0.05938572436571121 to 0.20581185817718506\n",
            "['The', ' squid', ' was', ' mag', 'enta']\n",
            "Neuron acts: tensor([-0.0064, -0.1598, -0.1667,  0.0659, -0.1564, -0.1610],\n",
            "       grad_fn=<SelectBackward0>)\n",
            "['The', ' blob', 'fish', ' was', ' grey']\n",
            "Neuron acts: tensor([-0.0064, -0.1598, -0.1666,  0.0968,  0.1661, -0.0204],\n",
            "       grad_fn=<SelectBackward0>)\n",
            "\n",
            "Maximally activating dataset example: The cat was blue\n"
          ]
        }
      ],
      "source": [
        "# We focus on neuron 13 in layer 5\n",
        "model.reset_hooks(clear_contexts=True)\n",
        "animal_texts = [\n",
        "    \"The dog was green\",\n",
        "    \"The cat was blue\",\n",
        "    \"The squid was magenta\",\n",
        "    \"The blobfish was grey\",\n",
        "]\n",
        "layer = 5\n",
        "neuron_index = 13\n",
        "\n",
        "\n",
        "def best_act_hook(neuron_acts, hook, text):\n",
        "    if \"best\" not in hook.ctx:\n",
        "        hook.ctx[\"best\"] = -1e3\n",
        "    print(\"Neuron acts:\", neuron_acts[0, :, neuron_index])\n",
        "    if hook.ctx[\"best\"] < neuron_acts[0, :, neuron_index].max():\n",
        "        print(\n",
        "            f'Updating best act from {hook.ctx[\"best\"]} to {neuron_acts[0, :, neuron_index].max().item()}'\n",
        "        )\n",
        "        hook.ctx[\"best\"] = neuron_acts[0, :, neuron_index].max().item()\n",
        "        hook.ctx[\"text\"] = text\n",
        "\n",
        "\n",
        "for animal_text in animal_texts:\n",
        "    (print(model.to_str_tokens(animal_text)))\n",
        "    # Use partial to give the hook access to the relevant text\n",
        "    model.run_with_hooks(\n",
        "        animal_text,\n",
        "        fwd_hooks=[\n",
        "            (f\"blocks.{layer}.mlp.hook_post\", partial(best_act_hook, text=animal_text))\n",
        "        ],\n",
        "    )\n",
        "print()\n",
        "print(\n",
        "    \"Maximally activating dataset example:\",\n",
        "    model.hook_dict[f\"blocks.{layer}.mlp.hook_post\"].ctx[\"text\"],\n",
        ")\n",
        "model.reset_hooks(clear_contexts=True)"
      ]
    },
    {
      "cell_type": "markdown",
      "metadata": {
        "id": "sXtz_uL2IUx1"
      },
      "source": [
        "## Fancier Examples"
      ]
    },
    {
      "cell_type": "markdown",
      "metadata": {
        "id": "EF2z_5vGIUx2"
      },
      "source": [
        "Looking for heads that mostly attend to the previous token\n"
      ]
    },
    {
      "cell_type": "code",
      "execution_count": 24,
      "metadata": {
        "colab": {
          "base_uri": "https://localhost:8080/",
          "height": 0
        },
        "id": "-ApbqYLFIUx2",
        "outputId": "cb19fa2d-4327-4636-e757-1663559c1535"
      },
      "outputs": [
        {
          "output_type": "stream",
          "name": "stdout",
          "text": [
            "Long text: Lorem ipsum dolor sit amet, consectetur adipiscing elit, sed do eiusmod tempor incididunt ut labore et dolore magna aliqua. Ut enim ad minim veniam, quis nostrud exercitation ullamco laboris nisi ut aliquip ex ea commodo consequat. Duis aute irure dolor in reprehenderit in voluptate velit esse cillum dolore eu fugiat nulla pariatur. Excepteur sint occaecat cupidatat non proident, sunt in culpa qui officia deserunt mollit anim id est laborum.\n"
          ]
        },
        {
          "output_type": "display_data",
          "data": {
            "text/html": [
              "<html>\n",
              "<head><meta charset=\"utf-8\" /></head>\n",
              "<body>\n",
              "    <div>            <script src=\"https://cdnjs.cloudflare.com/ajax/libs/mathjax/2.7.5/MathJax.js?config=TeX-AMS-MML_SVG\"></script><script type=\"text/javascript\">if (window.MathJax) {MathJax.Hub.Config({SVG: {font: \"STIX-Web\"}});}</script>                <script type=\"text/javascript\">window.PlotlyConfig = {MathJaxConfig: 'local'};</script>\n",
              "        <script src=\"https://cdn.plot.ly/plotly-2.8.3.min.js\"></script>                <div id=\"dd0c7056-cbfd-4432-bf2a-53b56b6c599d\" class=\"plotly-graph-div\" style=\"height:525px; width:100%;\"></div>            <script type=\"text/javascript\">                                    window.PLOTLYENV=window.PLOTLYENV || {};                                    if (document.getElementById(\"dd0c7056-cbfd-4432-bf2a-53b56b6c599d\")) {                    Plotly.newPlot(                        \"dd0c7056-cbfd-4432-bf2a-53b56b6c599d\",                        [{\"coloraxis\":\"coloraxis\",\"name\":\"0\",\"x\":[\"Head 0\",\"Head 1\",\"Head 2\",\"Head 3\",\"Head 4\",\"Head 5\",\"Head 6\",\"Head 7\",\"Head 8\",\"Head 9\",\"Head 10\",\"Head 11\"],\"y\":[\"Layer 0\",\"Layer 1\",\"Layer 2\",\"Layer 3\",\"Layer 4\",\"Layer 5\",\"Layer 6\",\"Layer 7\",\"Layer 8\",\"Layer 9\",\"Layer 10\",\"Layer 11\"],\"z\":[[0.04071792960166931,0.005480339750647545,0.03155295550823212,0.04088345915079117,0.09320303052663803,0.007854312658309937,0.04900715872645378,0.2593046724796295,0.046347904950380325,0.03894207999110222,0.03257118910551071,0.02560642920434475],[0.27190911769866943,0.15578393638134003,0.0733560249209404,0.04138060659170151,0.07454577833414078,0.026253076270222664,0.03464171662926674,0.03045404702425003,0.02736380137503147,0.021371865645051003,0.05220998078584671,0.013655243441462517],[0.17287908494472504,0.019986649975180626,0.5647270679473877,0.276591420173645,0.25010719895362854,0.2996377944946289,0.08041121065616608,0.0550864152610302,0.2823280990123749,0.34169772267341614,0.11837785691022873,0.06843344122171402],[0.009553220123052597,0.11814406514167786,0.40166544914245605,0.4342268407344818,0.015433943830430508,0.03870629146695137,0.28543248772621155,0.4615139067173004,0.3016660511493683,0.12941767275333405,0.0840010717511177,0.19147884845733643],[0.19919149577617645,0.13682544231414795,0.022940250113606453,0.18374590575695038,0.02900407463312149,0.09588281810283661,0.11825980246067047,0.14245019853115082,0.02694644220173359,0.06165899708867073,0.011134692467749119,0.9950219392776489],[0.01670466549694538,0.00677447859197855,0.11001366376876831,0.05594393610954285,0.06978313624858856,0.008302619680762291,0.32450857758522034,0.018269233405590057,0.02383163571357727,0.012738577090203762,0.023949293419718742,0.015048270113766193],[0.09830722957849503,0.037384726107120514,0.01793973334133625,0.022641943767666817,0.0435115322470665,0.04529356583952904,0.016502443701028824,0.056769054383039474,0.2994970679283142,0.0082251550629735,0.013980720192193985,0.06149943917989731],[0.22393786907196045,0.008523723110556602,0.007089734077453613,0.029034610837697983,0.026894953101873398,0.03579970449209213,0.010828645899891853,0.010913193225860596,0.09668896347284317,0.019788645207881927,0.008010514080524445,0.009416875429451466],[0.01846681535243988,0.009020841680467129,0.012190029956400394,0.013359314762055874,0.015230718068778515,0.05726006627082825,0.046756561845541,0.13804411888122559,0.01833275333046913,0.009857285767793655,0.031162220984697342,0.03812304511666298],[0.012759853154420853,0.0068196565844118595,0.013561908155679703,0.07874792069196701,0.010047257877886295,0.01218503713607788,0.007809004746377468,0.02127920836210251,0.021087586879730225,0.007081530522555113,0.02223278395831585,0.00847448967397213],[0.009739520959556103,0.00803748145699501,0.009283564053475857,0.007581216748803854,0.0223611518740654,0.03545723482966423,0.008616072125732899,0.01282611396163702,0.010426311753690243,0.08756379783153534,0.010404876433312893,0.008675087243318558],[0.018549831584095955,0.0156712606549263,0.008250431157648563,0.023618442937731743,0.018235325813293457,0.01600230485200882,0.010608845390379429,0.013668401166796684,0.061895858496427536,0.009314332157373428,0.024672474712133408,0.026873532682657242]],\"type\":\"heatmap\",\"xaxis\":\"x\",\"yaxis\":\"y\",\"hovertemplate\":\"x: %{x}<br>y: %{y}<br>color: %{z}<extra></extra>\"}],                        {\"template\":{\"data\":{\"bar\":[{\"error_x\":{\"color\":\"#2a3f5f\"},\"error_y\":{\"color\":\"#2a3f5f\"},\"marker\":{\"line\":{\"color\":\"#E5ECF6\",\"width\":0.5},\"pattern\":{\"fillmode\":\"overlay\",\"size\":10,\"solidity\":0.2}},\"type\":\"bar\"}],\"barpolar\":[{\"marker\":{\"line\":{\"color\":\"#E5ECF6\",\"width\":0.5},\"pattern\":{\"fillmode\":\"overlay\",\"size\":10,\"solidity\":0.2}},\"type\":\"barpolar\"}],\"carpet\":[{\"aaxis\":{\"endlinecolor\":\"#2a3f5f\",\"gridcolor\":\"white\",\"linecolor\":\"white\",\"minorgridcolor\":\"white\",\"startlinecolor\":\"#2a3f5f\"},\"baxis\":{\"endlinecolor\":\"#2a3f5f\",\"gridcolor\":\"white\",\"linecolor\":\"white\",\"minorgridcolor\":\"white\",\"startlinecolor\":\"#2a3f5f\"},\"type\":\"carpet\"}],\"choropleth\":[{\"colorbar\":{\"outlinewidth\":0,\"ticks\":\"\"},\"type\":\"choropleth\"}],\"contour\":[{\"colorbar\":{\"outlinewidth\":0,\"ticks\":\"\"},\"colorscale\":[[0.0,\"#0d0887\"],[0.1111111111111111,\"#46039f\"],[0.2222222222222222,\"#7201a8\"],[0.3333333333333333,\"#9c179e\"],[0.4444444444444444,\"#bd3786\"],[0.5555555555555556,\"#d8576b\"],[0.6666666666666666,\"#ed7953\"],[0.7777777777777778,\"#fb9f3a\"],[0.8888888888888888,\"#fdca26\"],[1.0,\"#f0f921\"]],\"type\":\"contour\"}],\"contourcarpet\":[{\"colorbar\":{\"outlinewidth\":0,\"ticks\":\"\"},\"type\":\"contourcarpet\"}],\"heatmap\":[{\"colorbar\":{\"outlinewidth\":0,\"ticks\":\"\"},\"colorscale\":[[0.0,\"#0d0887\"],[0.1111111111111111,\"#46039f\"],[0.2222222222222222,\"#7201a8\"],[0.3333333333333333,\"#9c179e\"],[0.4444444444444444,\"#bd3786\"],[0.5555555555555556,\"#d8576b\"],[0.6666666666666666,\"#ed7953\"],[0.7777777777777778,\"#fb9f3a\"],[0.8888888888888888,\"#fdca26\"],[1.0,\"#f0f921\"]],\"type\":\"heatmap\"}],\"heatmapgl\":[{\"colorbar\":{\"outlinewidth\":0,\"ticks\":\"\"},\"colorscale\":[[0.0,\"#0d0887\"],[0.1111111111111111,\"#46039f\"],[0.2222222222222222,\"#7201a8\"],[0.3333333333333333,\"#9c179e\"],[0.4444444444444444,\"#bd3786\"],[0.5555555555555556,\"#d8576b\"],[0.6666666666666666,\"#ed7953\"],[0.7777777777777778,\"#fb9f3a\"],[0.8888888888888888,\"#fdca26\"],[1.0,\"#f0f921\"]],\"type\":\"heatmapgl\"}],\"histogram\":[{\"marker\":{\"pattern\":{\"fillmode\":\"overlay\",\"size\":10,\"solidity\":0.2}},\"type\":\"histogram\"}],\"histogram2d\":[{\"colorbar\":{\"outlinewidth\":0,\"ticks\":\"\"},\"colorscale\":[[0.0,\"#0d0887\"],[0.1111111111111111,\"#46039f\"],[0.2222222222222222,\"#7201a8\"],[0.3333333333333333,\"#9c179e\"],[0.4444444444444444,\"#bd3786\"],[0.5555555555555556,\"#d8576b\"],[0.6666666666666666,\"#ed7953\"],[0.7777777777777778,\"#fb9f3a\"],[0.8888888888888888,\"#fdca26\"],[1.0,\"#f0f921\"]],\"type\":\"histogram2d\"}],\"histogram2dcontour\":[{\"colorbar\":{\"outlinewidth\":0,\"ticks\":\"\"},\"colorscale\":[[0.0,\"#0d0887\"],[0.1111111111111111,\"#46039f\"],[0.2222222222222222,\"#7201a8\"],[0.3333333333333333,\"#9c179e\"],[0.4444444444444444,\"#bd3786\"],[0.5555555555555556,\"#d8576b\"],[0.6666666666666666,\"#ed7953\"],[0.7777777777777778,\"#fb9f3a\"],[0.8888888888888888,\"#fdca26\"],[1.0,\"#f0f921\"]],\"type\":\"histogram2dcontour\"}],\"mesh3d\":[{\"colorbar\":{\"outlinewidth\":0,\"ticks\":\"\"},\"type\":\"mesh3d\"}],\"parcoords\":[{\"line\":{\"colorbar\":{\"outlinewidth\":0,\"ticks\":\"\"}},\"type\":\"parcoords\"}],\"pie\":[{\"automargin\":true,\"type\":\"pie\"}],\"scatter\":[{\"marker\":{\"colorbar\":{\"outlinewidth\":0,\"ticks\":\"\"}},\"type\":\"scatter\"}],\"scatter3d\":[{\"line\":{\"colorbar\":{\"outlinewidth\":0,\"ticks\":\"\"}},\"marker\":{\"colorbar\":{\"outlinewidth\":0,\"ticks\":\"\"}},\"type\":\"scatter3d\"}],\"scattercarpet\":[{\"marker\":{\"colorbar\":{\"outlinewidth\":0,\"ticks\":\"\"}},\"type\":\"scattercarpet\"}],\"scattergeo\":[{\"marker\":{\"colorbar\":{\"outlinewidth\":0,\"ticks\":\"\"}},\"type\":\"scattergeo\"}],\"scattergl\":[{\"marker\":{\"colorbar\":{\"outlinewidth\":0,\"ticks\":\"\"}},\"type\":\"scattergl\"}],\"scattermapbox\":[{\"marker\":{\"colorbar\":{\"outlinewidth\":0,\"ticks\":\"\"}},\"type\":\"scattermapbox\"}],\"scatterpolar\":[{\"marker\":{\"colorbar\":{\"outlinewidth\":0,\"ticks\":\"\"}},\"type\":\"scatterpolar\"}],\"scatterpolargl\":[{\"marker\":{\"colorbar\":{\"outlinewidth\":0,\"ticks\":\"\"}},\"type\":\"scatterpolargl\"}],\"scatterternary\":[{\"marker\":{\"colorbar\":{\"outlinewidth\":0,\"ticks\":\"\"}},\"type\":\"scatterternary\"}],\"surface\":[{\"colorbar\":{\"outlinewidth\":0,\"ticks\":\"\"},\"colorscale\":[[0.0,\"#0d0887\"],[0.1111111111111111,\"#46039f\"],[0.2222222222222222,\"#7201a8\"],[0.3333333333333333,\"#9c179e\"],[0.4444444444444444,\"#bd3786\"],[0.5555555555555556,\"#d8576b\"],[0.6666666666666666,\"#ed7953\"],[0.7777777777777778,\"#fb9f3a\"],[0.8888888888888888,\"#fdca26\"],[1.0,\"#f0f921\"]],\"type\":\"surface\"}],\"table\":[{\"cells\":{\"fill\":{\"color\":\"#EBF0F8\"},\"line\":{\"color\":\"white\"}},\"header\":{\"fill\":{\"color\":\"#C8D4E3\"},\"line\":{\"color\":\"white\"}},\"type\":\"table\"}]},\"layout\":{\"annotationdefaults\":{\"arrowcolor\":\"#2a3f5f\",\"arrowhead\":0,\"arrowwidth\":1},\"autotypenumbers\":\"strict\",\"coloraxis\":{\"colorbar\":{\"outlinewidth\":0,\"ticks\":\"\"}},\"colorscale\":{\"diverging\":[[0,\"#8e0152\"],[0.1,\"#c51b7d\"],[0.2,\"#de77ae\"],[0.3,\"#f1b6da\"],[0.4,\"#fde0ef\"],[0.5,\"#f7f7f7\"],[0.6,\"#e6f5d0\"],[0.7,\"#b8e186\"],[0.8,\"#7fbc41\"],[0.9,\"#4d9221\"],[1,\"#276419\"]],\"sequential\":[[0.0,\"#0d0887\"],[0.1111111111111111,\"#46039f\"],[0.2222222222222222,\"#7201a8\"],[0.3333333333333333,\"#9c179e\"],[0.4444444444444444,\"#bd3786\"],[0.5555555555555556,\"#d8576b\"],[0.6666666666666666,\"#ed7953\"],[0.7777777777777778,\"#fb9f3a\"],[0.8888888888888888,\"#fdca26\"],[1.0,\"#f0f921\"]],\"sequentialminus\":[[0.0,\"#0d0887\"],[0.1111111111111111,\"#46039f\"],[0.2222222222222222,\"#7201a8\"],[0.3333333333333333,\"#9c179e\"],[0.4444444444444444,\"#bd3786\"],[0.5555555555555556,\"#d8576b\"],[0.6666666666666666,\"#ed7953\"],[0.7777777777777778,\"#fb9f3a\"],[0.8888888888888888,\"#fdca26\"],[1.0,\"#f0f921\"]]},\"colorway\":[\"#636efa\",\"#EF553B\",\"#00cc96\",\"#ab63fa\",\"#FFA15A\",\"#19d3f3\",\"#FF6692\",\"#B6E880\",\"#FF97FF\",\"#FECB52\"],\"font\":{\"color\":\"#2a3f5f\"},\"geo\":{\"bgcolor\":\"white\",\"lakecolor\":\"white\",\"landcolor\":\"#E5ECF6\",\"showlakes\":true,\"showland\":true,\"subunitcolor\":\"white\"},\"hoverlabel\":{\"align\":\"left\"},\"hovermode\":\"closest\",\"mapbox\":{\"style\":\"light\"},\"paper_bgcolor\":\"white\",\"plot_bgcolor\":\"#E5ECF6\",\"polar\":{\"angularaxis\":{\"gridcolor\":\"white\",\"linecolor\":\"white\",\"ticks\":\"\"},\"bgcolor\":\"#E5ECF6\",\"radialaxis\":{\"gridcolor\":\"white\",\"linecolor\":\"white\",\"ticks\":\"\"}},\"scene\":{\"xaxis\":{\"backgroundcolor\":\"#E5ECF6\",\"gridcolor\":\"white\",\"gridwidth\":2,\"linecolor\":\"white\",\"showbackground\":true,\"ticks\":\"\",\"zerolinecolor\":\"white\"},\"yaxis\":{\"backgroundcolor\":\"#E5ECF6\",\"gridcolor\":\"white\",\"gridwidth\":2,\"linecolor\":\"white\",\"showbackground\":true,\"ticks\":\"\",\"zerolinecolor\":\"white\"},\"zaxis\":{\"backgroundcolor\":\"#E5ECF6\",\"gridcolor\":\"white\",\"gridwidth\":2,\"linecolor\":\"white\",\"showbackground\":true,\"ticks\":\"\",\"zerolinecolor\":\"white\"}},\"shapedefaults\":{\"line\":{\"color\":\"#2a3f5f\"}},\"ternary\":{\"aaxis\":{\"gridcolor\":\"white\",\"linecolor\":\"white\",\"ticks\":\"\"},\"baxis\":{\"gridcolor\":\"white\",\"linecolor\":\"white\",\"ticks\":\"\"},\"bgcolor\":\"#E5ECF6\",\"caxis\":{\"gridcolor\":\"white\",\"linecolor\":\"white\",\"ticks\":\"\"}},\"title\":{\"x\":0.05},\"xaxis\":{\"automargin\":true,\"gridcolor\":\"white\",\"linecolor\":\"white\",\"ticks\":\"\",\"title\":{\"standoff\":15},\"zerolinecolor\":\"white\",\"zerolinewidth\":2},\"yaxis\":{\"automargin\":true,\"gridcolor\":\"white\",\"linecolor\":\"white\",\"ticks\":\"\",\"title\":{\"standoff\":15},\"zerolinecolor\":\"white\",\"zerolinewidth\":2}}},\"xaxis\":{\"anchor\":\"y\",\"domain\":[0.0,1.0],\"scaleanchor\":\"y\",\"constrain\":\"domain\"},\"yaxis\":{\"anchor\":\"x\",\"domain\":[0.0,1.0],\"autorange\":\"reversed\",\"constrain\":\"domain\"},\"coloraxis\":{\"colorscale\":[[0.0,\"rgb(247,251,255)\"],[0.125,\"rgb(222,235,247)\"],[0.25,\"rgb(198,219,239)\"],[0.375,\"rgb(158,202,225)\"],[0.5,\"rgb(107,174,214)\"],[0.625,\"rgb(66,146,198)\"],[0.75,\"rgb(33,113,181)\"],[0.875,\"rgb(8,81,156)\"],[1.0,\"rgb(8,48,107)\"]]},\"title\":{\"text\":\"Prev Token Scores\"}},                        {\"responsive\": true}                    ).then(function(){\n",
              "                            \n",
              "var gd = document.getElementById('dd0c7056-cbfd-4432-bf2a-53b56b6c599d');\n",
              "var x = new MutationObserver(function (mutations, observer) {{\n",
              "        var display = window.getComputedStyle(gd).display;\n",
              "        if (!display || display === 'none') {{\n",
              "            console.log([gd, 'removed!']);\n",
              "            Plotly.purge(gd);\n",
              "            observer.disconnect();\n",
              "        }}\n",
              "}});\n",
              "\n",
              "// Listen for the removal of the full notebook cells\n",
              "var notebookContainer = gd.closest('#notebook-container');\n",
              "if (notebookContainer) {{\n",
              "    x.observe(notebookContainer, {childList: true});\n",
              "}}\n",
              "\n",
              "// Listen for the clearing of the current output cell\n",
              "var outputEl = gd.closest('.output');\n",
              "if (outputEl) {{\n",
              "    x.observe(outputEl, {childList: true});\n",
              "}}\n",
              "\n",
              "                        })                };                            </script>        </div>\n",
              "</body>\n",
              "</html>"
            ]
          },
          "metadata": {}
        }
      ],
      "source": [
        "long_text = \"Lorem ipsum dolor sit amet, consectetur adipiscing elit, sed do eiusmod tempor incididunt ut labore et dolore magna aliqua. Ut enim ad minim veniam, quis nostrud exercitation ullamco laboris nisi ut aliquip ex ea commodo consequat. Duis aute irure dolor in reprehenderit in voluptate velit esse cillum dolore eu fugiat nulla pariatur. Excepteur sint occaecat cupidatat non proident, sunt in culpa qui officia deserunt mollit anim id est laborum.\"\n",
        "print(\"Long text:\", long_text)\n",
        "# We first cache attention patterns\n",
        "attn_cache = {}\n",
        "\n",
        "\n",
        "def cache_attn(attn, hook):\n",
        "    attn_cache[hook.name] = attn\n",
        "\n",
        "\n",
        "logits = model.run_with_hooks(long_text, fwd_hooks=[(filter_hook_attn, cache_attn)])\n",
        "\n",
        "# We then go through the cache and find the average attention paid to previous tokens\n",
        "prev_token_scores = np.zeros((model.cfg.n_layers, model.cfg.n_heads))\n",
        "for layer in range(model.cfg.n_layers):\n",
        "    for head in range(model.cfg.n_heads):\n",
        "        attn = attn_cache[f\"blocks.{layer}.attn.hook_attn\"][0, head]\n",
        "        prev_token_scores[layer, head] = attn.diag(-1).mean().item()\n",
        "\n",
        "px.imshow(\n",
        "    prev_token_scores,\n",
        "    x=[f\"Head {hi}\" for hi in range(model.cfg.n_heads)],\n",
        "    y=[f\"Layer {i}\" for i in range(model.cfg.n_layers)],\n",
        "    title=\"Prev Token Scores\",\n",
        "    color_continuous_scale=\"Blues\",\n",
        ")"
      ]
    },
    {
      "cell_type": "markdown",
      "metadata": {
        "id": "wakRnGFZIUx2"
      },
      "source": [
        "[ROME style](https://rome.baulab.info/) patching for causal tracing - we have two runs with two different prompts and different answers, eg \"Steve Jobs founded\" -> \" Apple\" and \"Bill Gates founded\" -> \" Microsoft\". We patch parts of the layer outputs or residual stream from specific tokens and positions and see which patches significantly shift the answer from \" Apple\" to \" Microsoft\""
      ]
    },
    {
      "cell_type": "code",
      "execution_count": 25,
      "metadata": {
        "colab": {
          "base_uri": "https://localhost:8080/"
        },
        "id": "g8GpnoN4IUx2",
        "outputId": "c90274e4-195f-4509-f0ac-188e09a70d76"
      },
      "outputs": [
        {
          "output_type": "stream",
          "name": "stdout",
          "text": [
            "['Bill', ' Gates', ' founded']\n",
            "['Steve', ' Jobs', ' founded']\n",
            "Uncorrupted log prob for  Microsoft -2.84171199798584\n",
            "Uncorrupted log prob for  Apple -0.4552525281906128\n",
            "Corrupted (Residual) log prob for  Microsoft -2.7859835624694824\n",
            "Corrupted (Residual) log prob for  Apple -0.44807764887809753\n"
          ]
        }
      ],
      "source": [
        "prompt_1 = \"Bill Gates founded\"\n",
        "response_1 = \" Microsoft\"\n",
        "logit_index_1 = model.to_tokens(response_1)[0][-1]\n",
        "(print(model.to_str_tokens(prompt_1)))\n",
        "prompt_2 = \"Steve Jobs founded\"\n",
        "response_2 = \" Apple\"\n",
        "logit_index_2 = model.to_tokens(response_2)[0][-1]\n",
        "print(model.to_str_tokens(prompt_2))\n",
        "\n",
        "logits_1, uncorrupted_cache = model.run_with_cache(prompt_1)\n",
        "\n",
        "uncorrupted_logits = model(prompt_2)\n",
        "uncorrupted_log_probs = F.log_softmax(uncorrupted_logits, dim=-1)\n",
        "print(\n",
        "    \"Uncorrupted log prob for\",\n",
        "    response_1,\n",
        "    uncorrupted_log_probs[0, -1, logit_index_1].item(),\n",
        ")\n",
        "print(\n",
        "    \"Uncorrupted log prob for\",\n",
        "    response_2,\n",
        "    uncorrupted_log_probs[0, -1, logit_index_2].item(),\n",
        ")\n",
        "\n",
        "# Patch the residual stream from the Bill Gates run to the Steve Jobs run\n",
        "# at the Jobs/Gates token, at the start of layer 7\n",
        "layer = 7\n",
        "position = 1\n",
        "\n",
        "\n",
        "def patch_resid_pre(resid_pre, hook):\n",
        "    uncorrupted_resid_pre = uncorrupted_cache[hook.name]\n",
        "    # Move things on the Jobs/Gates token\n",
        "    resid_pre[:, position] = uncorrupted_resid_pre[:, position]\n",
        "    return resid_pre\n",
        "\n",
        "\n",
        "corrupted_logits = model.run_with_hooks(\n",
        "    prompt_2, fwd_hooks=[(f\"blocks.{layer}.hook_resid_pre\", patch_resid_pre)]\n",
        ")\n",
        "corrupted_log_probs = F.log_softmax(corrupted_logits, dim=-1)\n",
        "print(\n",
        "    \"Corrupted (Residual) log prob for\",\n",
        "    response_1,\n",
        "    corrupted_log_probs[0, -1, logit_index_1].item(),\n",
        ")\n",
        "print(\n",
        "    \"Corrupted (Residual) log prob for\",\n",
        "    response_2,\n",
        "    corrupted_log_probs[0, -1, logit_index_2].item(),\n",
        ")"
      ]
    },
    {
      "cell_type": "markdown",
      "metadata": {
        "id": "HnqJp-09IUx3"
      },
      "source": [
        "We can also patch the outputs of MLP layers 0 to 7 on the Gates/Jobs token - this time, rather than giving a hook name, we give a Boolean function that filters for the names of those hooks."
      ]
    },
    {
      "cell_type": "code",
      "execution_count": 26,
      "metadata": {
        "colab": {
          "base_uri": "https://localhost:8080/"
        },
        "id": "z8yxZ7oIIUx3",
        "outputId": "4951838b-88ed-4be6-93c7-2e454e9903c6"
      },
      "outputs": [
        {
          "output_type": "stream",
          "name": "stdout",
          "text": [
            "Corrupted (MLP) log prob for  Microsoft -1.0558539628982544\n",
            "Corrupted (MLP) log prob for  Apple -3.8480300903320312\n"
          ]
        }
      ],
      "source": [
        "layer_start = 0\n",
        "layer_end = 7\n",
        "\n",
        "\n",
        "def patch_mlp_post(mlp_post, hook):\n",
        "    return uncorrupted_cache[hook.name]\n",
        "\n",
        "\n",
        "def filter_middle_mlps(name):\n",
        "    split_name = name.split(\".\")\n",
        "    if split_name[-1] == \"hook_post\":\n",
        "        layer = int(split_name[1])\n",
        "        return layer_start <= layer < layer_end\n",
        "    return False\n",
        "\n",
        "\n",
        "corrupted_logits = model.run_with_hooks(\n",
        "    prompt_2, fwd_hooks=[(filter_middle_mlps, patch_mlp_post)]\n",
        ")\n",
        "corrupted_log_probs = F.log_softmax(corrupted_logits, dim=-1)\n",
        "print(\n",
        "    \"Corrupted (MLP) log prob for\",\n",
        "    response_1,\n",
        "    corrupted_log_probs[0, -1, logit_index_1].item(),\n",
        ")\n",
        "print(\n",
        "    \"Corrupted (MLP) log prob for\",\n",
        "    response_2,\n",
        "    corrupted_log_probs[0, -1, logit_index_2].item(),\n",
        ")"
      ]
    },
    {
      "cell_type": "markdown",
      "metadata": {
        "id": "OYBegwVJIUx3"
      },
      "source": [
        "Looking for [induction heads](https://transformer-circuits.pub/2022/in-context-learning-and-induction-heads/index.html), by feeding in a random sequence of tokens repeated twice and looking for heads that attend from a second copy of a token to the token just after the first copy."
      ]
    },
    {
      "cell_type": "code",
      "execution_count": 27,
      "metadata": {
        "colab": {
          "base_uri": "https://localhost:8080/",
          "height": 0
        },
        "id": "1Vaj1fpcIUx3",
        "outputId": "ec6441f8-b826-439f-c083-c022202a0e6e"
      },
      "outputs": [
        {
          "output_type": "display_data",
          "data": {
            "text/html": [
              "<html>\n",
              "<head><meta charset=\"utf-8\" /></head>\n",
              "<body>\n",
              "    <div>            <script src=\"https://cdnjs.cloudflare.com/ajax/libs/mathjax/2.7.5/MathJax.js?config=TeX-AMS-MML_SVG\"></script><script type=\"text/javascript\">if (window.MathJax) {MathJax.Hub.Config({SVG: {font: \"STIX-Web\"}});}</script>                <script type=\"text/javascript\">window.PlotlyConfig = {MathJaxConfig: 'local'};</script>\n",
              "        <script src=\"https://cdn.plot.ly/plotly-2.8.3.min.js\"></script>                <div id=\"185c3792-7802-463f-acb2-6bde9721ed8a\" class=\"plotly-graph-div\" style=\"height:525px; width:100%;\"></div>            <script type=\"text/javascript\">                                    window.PLOTLYENV=window.PLOTLYENV || {};                                    if (document.getElementById(\"185c3792-7802-463f-acb2-6bde9721ed8a\")) {                    Plotly.newPlot(                        \"185c3792-7802-463f-acb2-6bde9721ed8a\",                        [{\"coloraxis\":\"coloraxis\",\"name\":\"0\",\"z\":[[0.0036704381927847862,4.606397124007344e-05,0.003773705568164587,1.2341773469870532e-07,5.288837928674184e-05,2.937442150141578e-05,0.0033590923994779587,0.0004820890899281949,0.002993011148646474,0.002854337450116873,0.0019242186099290848,0.008815009146928787],[0.0007264526793733239,0.000292463053483516,0.0015714317560195923,0.005590714048594236,0.0019585960544645786,0.0036293156445026398,0.006071314215660095,0.004860824439674616,0.006068318150937557,0.007293879520148039,0.005533606745302677,0.00014108173490967602],[0.0033717849291861057,0.008541852235794067,0.0015465588076040149,0.0012472830712795258,0.007893744856119156,0.0016235699877142906,0.001775482203811407,0.006458491552621126,0.0027782924007624388,0.0009621119243092835,0.00015288949362002313,0.00550050800666213],[0.008900586515665054,0.0031687275040894747,0.0009425183525308967,0.006518330425024033,0.010521655902266502,0.004511956125497818,0.0006452740635722876,0.00030910622444935143,0.0016456744633615017,0.005611636210232973,0.0040410724468529224,0.003170021576806903],[0.008509784936904907,0.007025338243693113,0.007257711607962847,0.003969075158238411,0.008488125167787075,0.007072185631841421,0.0037527610547840595,0.0005669452366419137,0.006862664595246315,0.007544319611042738,0.008969446644186974,1.4099974805503734e-06],[0.40997669100761414,0.9337602257728577,0.008579473942518234,0.004308023024350405,0.006062863394618034,0.9242660999298096,0.006533171981573105,0.009546216577291489,0.00889248214662075,0.015752404928207397,0.013894515112042427,0.008562128990888596],[0.00614876439794898,0.008534537628293037,0.009059267118573189,0.007577897515147924,0.013572934083640575,0.005949688609689474,0.017216652631759644,0.0064313397742807865,0.006788087543100119,0.9191744923591614,0.018034452572464943,0.00841656606644392],[0.006889274809509516,0.17376047372817993,0.8637410402297974,0.009044667705893517,0.009783251211047173,0.009604434482753277,0.02952141873538494,0.07575077563524246,0.009331300854682922,0.009831967763602734,0.9129788279533386,0.028906410560011864],[0.008426322601735592,0.3628731071949005,0.007473830133676529,0.026339638978242874,0.009653034619987011,0.007125915959477425,0.10465376079082489,0.007037552073597908,0.015497350133955479,0.019551116973161697,0.032456174492836,0.011555759236216545],[0.23655834794044495,0.1733790934085846,0.09146350622177124,0.006810057908296585,0.06688372790813446,0.016430383548140526,0.42595618963241577,0.013626395724713802,0.033383745700120926,0.43454238772392273,0.009308128617703915,0.025389350950717926],[0.33181101083755493,0.47297289967536926,0.026821177452802658,0.12579181790351868,0.043411482125520706,0.008879711851477623,0.2857682704925537,0.3792927861213684,0.03017994947731495,0.008739394135773182,0.13631151616573334,0.2110198587179184],[0.007251128554344177,0.04095028340816498,0.0229960884898901,0.0063994633965194225,0.0253419429063797,0.09393284469842911,0.03733568266034126,0.05051639676094055,0.0028143569361418486,0.28681445121765137,0.35095223784446716,0.013037157244980335]],\"type\":\"heatmap\",\"xaxis\":\"x\",\"yaxis\":\"y\",\"hovertemplate\":\"Head: %{x}<br>Layer: %{y}<br>color: %{z}<extra></extra>\"}],                        {\"template\":{\"data\":{\"bar\":[{\"error_x\":{\"color\":\"#2a3f5f\"},\"error_y\":{\"color\":\"#2a3f5f\"},\"marker\":{\"line\":{\"color\":\"#E5ECF6\",\"width\":0.5},\"pattern\":{\"fillmode\":\"overlay\",\"size\":10,\"solidity\":0.2}},\"type\":\"bar\"}],\"barpolar\":[{\"marker\":{\"line\":{\"color\":\"#E5ECF6\",\"width\":0.5},\"pattern\":{\"fillmode\":\"overlay\",\"size\":10,\"solidity\":0.2}},\"type\":\"barpolar\"}],\"carpet\":[{\"aaxis\":{\"endlinecolor\":\"#2a3f5f\",\"gridcolor\":\"white\",\"linecolor\":\"white\",\"minorgridcolor\":\"white\",\"startlinecolor\":\"#2a3f5f\"},\"baxis\":{\"endlinecolor\":\"#2a3f5f\",\"gridcolor\":\"white\",\"linecolor\":\"white\",\"minorgridcolor\":\"white\",\"startlinecolor\":\"#2a3f5f\"},\"type\":\"carpet\"}],\"choropleth\":[{\"colorbar\":{\"outlinewidth\":0,\"ticks\":\"\"},\"type\":\"choropleth\"}],\"contour\":[{\"colorbar\":{\"outlinewidth\":0,\"ticks\":\"\"},\"colorscale\":[[0.0,\"#0d0887\"],[0.1111111111111111,\"#46039f\"],[0.2222222222222222,\"#7201a8\"],[0.3333333333333333,\"#9c179e\"],[0.4444444444444444,\"#bd3786\"],[0.5555555555555556,\"#d8576b\"],[0.6666666666666666,\"#ed7953\"],[0.7777777777777778,\"#fb9f3a\"],[0.8888888888888888,\"#fdca26\"],[1.0,\"#f0f921\"]],\"type\":\"contour\"}],\"contourcarpet\":[{\"colorbar\":{\"outlinewidth\":0,\"ticks\":\"\"},\"type\":\"contourcarpet\"}],\"heatmap\":[{\"colorbar\":{\"outlinewidth\":0,\"ticks\":\"\"},\"colorscale\":[[0.0,\"#0d0887\"],[0.1111111111111111,\"#46039f\"],[0.2222222222222222,\"#7201a8\"],[0.3333333333333333,\"#9c179e\"],[0.4444444444444444,\"#bd3786\"],[0.5555555555555556,\"#d8576b\"],[0.6666666666666666,\"#ed7953\"],[0.7777777777777778,\"#fb9f3a\"],[0.8888888888888888,\"#fdca26\"],[1.0,\"#f0f921\"]],\"type\":\"heatmap\"}],\"heatmapgl\":[{\"colorbar\":{\"outlinewidth\":0,\"ticks\":\"\"},\"colorscale\":[[0.0,\"#0d0887\"],[0.1111111111111111,\"#46039f\"],[0.2222222222222222,\"#7201a8\"],[0.3333333333333333,\"#9c179e\"],[0.4444444444444444,\"#bd3786\"],[0.5555555555555556,\"#d8576b\"],[0.6666666666666666,\"#ed7953\"],[0.7777777777777778,\"#fb9f3a\"],[0.8888888888888888,\"#fdca26\"],[1.0,\"#f0f921\"]],\"type\":\"heatmapgl\"}],\"histogram\":[{\"marker\":{\"pattern\":{\"fillmode\":\"overlay\",\"size\":10,\"solidity\":0.2}},\"type\":\"histogram\"}],\"histogram2d\":[{\"colorbar\":{\"outlinewidth\":0,\"ticks\":\"\"},\"colorscale\":[[0.0,\"#0d0887\"],[0.1111111111111111,\"#46039f\"],[0.2222222222222222,\"#7201a8\"],[0.3333333333333333,\"#9c179e\"],[0.4444444444444444,\"#bd3786\"],[0.5555555555555556,\"#d8576b\"],[0.6666666666666666,\"#ed7953\"],[0.7777777777777778,\"#fb9f3a\"],[0.8888888888888888,\"#fdca26\"],[1.0,\"#f0f921\"]],\"type\":\"histogram2d\"}],\"histogram2dcontour\":[{\"colorbar\":{\"outlinewidth\":0,\"ticks\":\"\"},\"colorscale\":[[0.0,\"#0d0887\"],[0.1111111111111111,\"#46039f\"],[0.2222222222222222,\"#7201a8\"],[0.3333333333333333,\"#9c179e\"],[0.4444444444444444,\"#bd3786\"],[0.5555555555555556,\"#d8576b\"],[0.6666666666666666,\"#ed7953\"],[0.7777777777777778,\"#fb9f3a\"],[0.8888888888888888,\"#fdca26\"],[1.0,\"#f0f921\"]],\"type\":\"histogram2dcontour\"}],\"mesh3d\":[{\"colorbar\":{\"outlinewidth\":0,\"ticks\":\"\"},\"type\":\"mesh3d\"}],\"parcoords\":[{\"line\":{\"colorbar\":{\"outlinewidth\":0,\"ticks\":\"\"}},\"type\":\"parcoords\"}],\"pie\":[{\"automargin\":true,\"type\":\"pie\"}],\"scatter\":[{\"marker\":{\"colorbar\":{\"outlinewidth\":0,\"ticks\":\"\"}},\"type\":\"scatter\"}],\"scatter3d\":[{\"line\":{\"colorbar\":{\"outlinewidth\":0,\"ticks\":\"\"}},\"marker\":{\"colorbar\":{\"outlinewidth\":0,\"ticks\":\"\"}},\"type\":\"scatter3d\"}],\"scattercarpet\":[{\"marker\":{\"colorbar\":{\"outlinewidth\":0,\"ticks\":\"\"}},\"type\":\"scattercarpet\"}],\"scattergeo\":[{\"marker\":{\"colorbar\":{\"outlinewidth\":0,\"ticks\":\"\"}},\"type\":\"scattergeo\"}],\"scattergl\":[{\"marker\":{\"colorbar\":{\"outlinewidth\":0,\"ticks\":\"\"}},\"type\":\"scattergl\"}],\"scattermapbox\":[{\"marker\":{\"colorbar\":{\"outlinewidth\":0,\"ticks\":\"\"}},\"type\":\"scattermapbox\"}],\"scatterpolar\":[{\"marker\":{\"colorbar\":{\"outlinewidth\":0,\"ticks\":\"\"}},\"type\":\"scatterpolar\"}],\"scatterpolargl\":[{\"marker\":{\"colorbar\":{\"outlinewidth\":0,\"ticks\":\"\"}},\"type\":\"scatterpolargl\"}],\"scatterternary\":[{\"marker\":{\"colorbar\":{\"outlinewidth\":0,\"ticks\":\"\"}},\"type\":\"scatterternary\"}],\"surface\":[{\"colorbar\":{\"outlinewidth\":0,\"ticks\":\"\"},\"colorscale\":[[0.0,\"#0d0887\"],[0.1111111111111111,\"#46039f\"],[0.2222222222222222,\"#7201a8\"],[0.3333333333333333,\"#9c179e\"],[0.4444444444444444,\"#bd3786\"],[0.5555555555555556,\"#d8576b\"],[0.6666666666666666,\"#ed7953\"],[0.7777777777777778,\"#fb9f3a\"],[0.8888888888888888,\"#fdca26\"],[1.0,\"#f0f921\"]],\"type\":\"surface\"}],\"table\":[{\"cells\":{\"fill\":{\"color\":\"#EBF0F8\"},\"line\":{\"color\":\"white\"}},\"header\":{\"fill\":{\"color\":\"#C8D4E3\"},\"line\":{\"color\":\"white\"}},\"type\":\"table\"}]},\"layout\":{\"annotationdefaults\":{\"arrowcolor\":\"#2a3f5f\",\"arrowhead\":0,\"arrowwidth\":1},\"autotypenumbers\":\"strict\",\"coloraxis\":{\"colorbar\":{\"outlinewidth\":0,\"ticks\":\"\"}},\"colorscale\":{\"diverging\":[[0,\"#8e0152\"],[0.1,\"#c51b7d\"],[0.2,\"#de77ae\"],[0.3,\"#f1b6da\"],[0.4,\"#fde0ef\"],[0.5,\"#f7f7f7\"],[0.6,\"#e6f5d0\"],[0.7,\"#b8e186\"],[0.8,\"#7fbc41\"],[0.9,\"#4d9221\"],[1,\"#276419\"]],\"sequential\":[[0.0,\"#0d0887\"],[0.1111111111111111,\"#46039f\"],[0.2222222222222222,\"#7201a8\"],[0.3333333333333333,\"#9c179e\"],[0.4444444444444444,\"#bd3786\"],[0.5555555555555556,\"#d8576b\"],[0.6666666666666666,\"#ed7953\"],[0.7777777777777778,\"#fb9f3a\"],[0.8888888888888888,\"#fdca26\"],[1.0,\"#f0f921\"]],\"sequentialminus\":[[0.0,\"#0d0887\"],[0.1111111111111111,\"#46039f\"],[0.2222222222222222,\"#7201a8\"],[0.3333333333333333,\"#9c179e\"],[0.4444444444444444,\"#bd3786\"],[0.5555555555555556,\"#d8576b\"],[0.6666666666666666,\"#ed7953\"],[0.7777777777777778,\"#fb9f3a\"],[0.8888888888888888,\"#fdca26\"],[1.0,\"#f0f921\"]]},\"colorway\":[\"#636efa\",\"#EF553B\",\"#00cc96\",\"#ab63fa\",\"#FFA15A\",\"#19d3f3\",\"#FF6692\",\"#B6E880\",\"#FF97FF\",\"#FECB52\"],\"font\":{\"color\":\"#2a3f5f\"},\"geo\":{\"bgcolor\":\"white\",\"lakecolor\":\"white\",\"landcolor\":\"#E5ECF6\",\"showlakes\":true,\"showland\":true,\"subunitcolor\":\"white\"},\"hoverlabel\":{\"align\":\"left\"},\"hovermode\":\"closest\",\"mapbox\":{\"style\":\"light\"},\"paper_bgcolor\":\"white\",\"plot_bgcolor\":\"#E5ECF6\",\"polar\":{\"angularaxis\":{\"gridcolor\":\"white\",\"linecolor\":\"white\",\"ticks\":\"\"},\"bgcolor\":\"#E5ECF6\",\"radialaxis\":{\"gridcolor\":\"white\",\"linecolor\":\"white\",\"ticks\":\"\"}},\"scene\":{\"xaxis\":{\"backgroundcolor\":\"#E5ECF6\",\"gridcolor\":\"white\",\"gridwidth\":2,\"linecolor\":\"white\",\"showbackground\":true,\"ticks\":\"\",\"zerolinecolor\":\"white\"},\"yaxis\":{\"backgroundcolor\":\"#E5ECF6\",\"gridcolor\":\"white\",\"gridwidth\":2,\"linecolor\":\"white\",\"showbackground\":true,\"ticks\":\"\",\"zerolinecolor\":\"white\"},\"zaxis\":{\"backgroundcolor\":\"#E5ECF6\",\"gridcolor\":\"white\",\"gridwidth\":2,\"linecolor\":\"white\",\"showbackground\":true,\"ticks\":\"\",\"zerolinecolor\":\"white\"}},\"shapedefaults\":{\"line\":{\"color\":\"#2a3f5f\"}},\"ternary\":{\"aaxis\":{\"gridcolor\":\"white\",\"linecolor\":\"white\",\"ticks\":\"\"},\"baxis\":{\"gridcolor\":\"white\",\"linecolor\":\"white\",\"ticks\":\"\"},\"bgcolor\":\"#E5ECF6\",\"caxis\":{\"gridcolor\":\"white\",\"linecolor\":\"white\",\"ticks\":\"\"}},\"title\":{\"x\":0.05},\"xaxis\":{\"automargin\":true,\"gridcolor\":\"white\",\"linecolor\":\"white\",\"ticks\":\"\",\"title\":{\"standoff\":15},\"zerolinecolor\":\"white\",\"zerolinewidth\":2},\"yaxis\":{\"automargin\":true,\"gridcolor\":\"white\",\"linecolor\":\"white\",\"ticks\":\"\",\"title\":{\"standoff\":15},\"zerolinecolor\":\"white\",\"zerolinewidth\":2}}},\"xaxis\":{\"anchor\":\"y\",\"domain\":[0.0,1.0],\"scaleanchor\":\"y\",\"constrain\":\"domain\",\"title\":{\"text\":\"Head\"}},\"yaxis\":{\"anchor\":\"x\",\"domain\":[0.0,1.0],\"autorange\":\"reversed\",\"constrain\":\"domain\",\"title\":{\"text\":\"Layer\"}},\"coloraxis\":{\"colorscale\":[[0.0,\"rgb(247,251,255)\"],[0.125,\"rgb(222,235,247)\"],[0.25,\"rgb(198,219,239)\"],[0.375,\"rgb(158,202,225)\"],[0.5,\"rgb(107,174,214)\"],[0.625,\"rgb(66,146,198)\"],[0.75,\"rgb(33,113,181)\"],[0.875,\"rgb(8,81,156)\"],[1.0,\"rgb(8,48,107)\"]]},\"margin\":{\"t\":60}},                        {\"responsive\": true}                    ).then(function(){\n",
              "                            \n",
              "var gd = document.getElementById('185c3792-7802-463f-acb2-6bde9721ed8a');\n",
              "var x = new MutationObserver(function (mutations, observer) {{\n",
              "        var display = window.getComputedStyle(gd).display;\n",
              "        if (!display || display === 'none') {{\n",
              "            console.log([gd, 'removed!']);\n",
              "            Plotly.purge(gd);\n",
              "            observer.disconnect();\n",
              "        }}\n",
              "}});\n",
              "\n",
              "// Listen for the removal of the full notebook cells\n",
              "var notebookContainer = gd.closest('#notebook-container');\n",
              "if (notebookContainer) {{\n",
              "    x.observe(notebookContainer, {childList: true});\n",
              "}}\n",
              "\n",
              "// Listen for the clearing of the current output cell\n",
              "var outputEl = gd.closest('.output');\n",
              "if (outputEl) {{\n",
              "    x.observe(outputEl, {childList: true});\n",
              "}}\n",
              "\n",
              "                        })                };                            </script>        </div>\n",
              "</body>\n",
              "</html>"
            ]
          },
          "metadata": {}
        }
      ],
      "source": [
        "seq_len = 100\n",
        "rand_tokens = torch.randint(1000, 10000, (4, seq_len))\n",
        "rand_tokens_repeat = einops.repeat(rand_tokens, \"batch pos -> batch (2 pos)\").to(device)\n",
        "\n",
        "induction_scores_array = np.zeros((model.cfg.n_layers, model.cfg.n_heads))\n",
        "\n",
        "\n",
        "def calc_induction_score(attn_pattern, hook):\n",
        "    # Pattern has shape [batch, index, query_pos, key_pos]\n",
        "    induction_stripe = attn_pattern.diagonal(1 - seq_len, dim1=-2, dim2=-1)\n",
        "    induction_scores = einops.reduce(\n",
        "        induction_stripe, \"batch index pos -> index\", \"mean\"\n",
        "    )\n",
        "    # Store the scores in a common array\n",
        "    induction_scores_array[hook.layer()] = induction_scores.detach().cpu().numpy()\n",
        "\n",
        "\n",
        "def filter_attn_hooks(hook_name):\n",
        "    split_name = hook_name.split(\".\")\n",
        "    return split_name[-1] == \"hook_attn\"\n",
        "\n",
        "\n",
        "induction_logits = model.run_with_hooks(\n",
        "    rand_tokens_repeat, fwd_hooks=[(filter_attn_hooks, calc_induction_score)]\n",
        ")\n",
        "px.imshow(\n",
        "    induction_scores_array,\n",
        "    labels={\"y\": \"Layer\", \"x\": \"Head\"},\n",
        "    color_continuous_scale=\"Blues\",\n",
        ")"
      ]
    },
    {
      "cell_type": "markdown",
      "metadata": {
        "id": "UssKuUqSIUx4"
      },
      "source": [
        "**Validation:** We can ablate the top few heads by this metric, and show that performance goes down substantially"
      ]
    },
    {
      "cell_type": "code",
      "execution_count": 28,
      "metadata": {
        "colab": {
          "base_uri": "https://localhost:8080/",
          "height": 0
        },
        "id": "xxu2OgFXIUx4",
        "outputId": "8a05de59-4b1d-4adc-f504-8d2fcc9dd9e7"
      },
      "outputs": [
        {
          "output_type": "stream",
          "name": "stdout",
          "text": [
            "Original loss on repeated sequence: tensor(-0.1509, grad_fn=<MeanBackward0>)\n",
            "Loss on repeated sequence without induction heads: tensor(-6.4192, grad_fn=<MeanBackward0>)\n"
          ]
        },
        {
          "output_type": "display_data",
          "data": {
            "text/html": [
              "<html>\n",
              "<head><meta charset=\"utf-8\" /></head>\n",
              "<body>\n",
              "    <div>            <script src=\"https://cdnjs.cloudflare.com/ajax/libs/mathjax/2.7.5/MathJax.js?config=TeX-AMS-MML_SVG\"></script><script type=\"text/javascript\">if (window.MathJax) {MathJax.Hub.Config({SVG: {font: \"STIX-Web\"}});}</script>                <script type=\"text/javascript\">window.PlotlyConfig = {MathJaxConfig: 'local'};</script>\n",
              "        <script src=\"https://cdn.plot.ly/plotly-2.8.3.min.js\"></script>                <div id=\"c4bdeaaf-f02d-448b-8b34-eba23b7206dd\" class=\"plotly-graph-div\" style=\"height:525px; width:100%;\"></div>            <script type=\"text/javascript\">                                    window.PLOTLYENV=window.PLOTLYENV || {};                                    if (document.getElementById(\"c4bdeaaf-f02d-448b-8b34-eba23b7206dd\")) {                    Plotly.newPlot(                        \"c4bdeaaf-f02d-448b-8b34-eba23b7206dd\",                        [{\"coloraxis\":\"coloraxis\",\"name\":\"0\",\"z\":[[0,0,0,0,0,0,0,0,0,0,0,0],[0,0,0,0,0,0,0,0,0,0,0,0],[0,0,0,0,0,0,0,0,0,0,0,0],[0,0,0,0,0,0,0,0,0,0,0,0],[0,0,0,0,0,0,0,0,0,0,0,0],[0,255,0,0,0,255,0,0,0,0,0,0],[0,0,0,0,0,0,0,0,0,255,0,0],[0,0,255,0,0,0,0,0,0,0,255,0],[0,0,0,0,0,0,0,0,0,0,0,0],[0,0,0,0,0,0,0,0,0,0,0,0],[0,0,0,0,0,0,0,0,0,0,0,0],[0,0,0,0,0,0,0,0,0,0,0,0]],\"type\":\"heatmap\",\"xaxis\":\"x\",\"yaxis\":\"y\",\"hovertemplate\":\"Head: %{x}<br>Layer: %{y}<br>color: %{z}<extra></extra>\"}],                        {\"template\":{\"data\":{\"bar\":[{\"error_x\":{\"color\":\"#2a3f5f\"},\"error_y\":{\"color\":\"#2a3f5f\"},\"marker\":{\"line\":{\"color\":\"#E5ECF6\",\"width\":0.5},\"pattern\":{\"fillmode\":\"overlay\",\"size\":10,\"solidity\":0.2}},\"type\":\"bar\"}],\"barpolar\":[{\"marker\":{\"line\":{\"color\":\"#E5ECF6\",\"width\":0.5},\"pattern\":{\"fillmode\":\"overlay\",\"size\":10,\"solidity\":0.2}},\"type\":\"barpolar\"}],\"carpet\":[{\"aaxis\":{\"endlinecolor\":\"#2a3f5f\",\"gridcolor\":\"white\",\"linecolor\":\"white\",\"minorgridcolor\":\"white\",\"startlinecolor\":\"#2a3f5f\"},\"baxis\":{\"endlinecolor\":\"#2a3f5f\",\"gridcolor\":\"white\",\"linecolor\":\"white\",\"minorgridcolor\":\"white\",\"startlinecolor\":\"#2a3f5f\"},\"type\":\"carpet\"}],\"choropleth\":[{\"colorbar\":{\"outlinewidth\":0,\"ticks\":\"\"},\"type\":\"choropleth\"}],\"contour\":[{\"colorbar\":{\"outlinewidth\":0,\"ticks\":\"\"},\"colorscale\":[[0.0,\"#0d0887\"],[0.1111111111111111,\"#46039f\"],[0.2222222222222222,\"#7201a8\"],[0.3333333333333333,\"#9c179e\"],[0.4444444444444444,\"#bd3786\"],[0.5555555555555556,\"#d8576b\"],[0.6666666666666666,\"#ed7953\"],[0.7777777777777778,\"#fb9f3a\"],[0.8888888888888888,\"#fdca26\"],[1.0,\"#f0f921\"]],\"type\":\"contour\"}],\"contourcarpet\":[{\"colorbar\":{\"outlinewidth\":0,\"ticks\":\"\"},\"type\":\"contourcarpet\"}],\"heatmap\":[{\"colorbar\":{\"outlinewidth\":0,\"ticks\":\"\"},\"colorscale\":[[0.0,\"#0d0887\"],[0.1111111111111111,\"#46039f\"],[0.2222222222222222,\"#7201a8\"],[0.3333333333333333,\"#9c179e\"],[0.4444444444444444,\"#bd3786\"],[0.5555555555555556,\"#d8576b\"],[0.6666666666666666,\"#ed7953\"],[0.7777777777777778,\"#fb9f3a\"],[0.8888888888888888,\"#fdca26\"],[1.0,\"#f0f921\"]],\"type\":\"heatmap\"}],\"heatmapgl\":[{\"colorbar\":{\"outlinewidth\":0,\"ticks\":\"\"},\"colorscale\":[[0.0,\"#0d0887\"],[0.1111111111111111,\"#46039f\"],[0.2222222222222222,\"#7201a8\"],[0.3333333333333333,\"#9c179e\"],[0.4444444444444444,\"#bd3786\"],[0.5555555555555556,\"#d8576b\"],[0.6666666666666666,\"#ed7953\"],[0.7777777777777778,\"#fb9f3a\"],[0.8888888888888888,\"#fdca26\"],[1.0,\"#f0f921\"]],\"type\":\"heatmapgl\"}],\"histogram\":[{\"marker\":{\"pattern\":{\"fillmode\":\"overlay\",\"size\":10,\"solidity\":0.2}},\"type\":\"histogram\"}],\"histogram2d\":[{\"colorbar\":{\"outlinewidth\":0,\"ticks\":\"\"},\"colorscale\":[[0.0,\"#0d0887\"],[0.1111111111111111,\"#46039f\"],[0.2222222222222222,\"#7201a8\"],[0.3333333333333333,\"#9c179e\"],[0.4444444444444444,\"#bd3786\"],[0.5555555555555556,\"#d8576b\"],[0.6666666666666666,\"#ed7953\"],[0.7777777777777778,\"#fb9f3a\"],[0.8888888888888888,\"#fdca26\"],[1.0,\"#f0f921\"]],\"type\":\"histogram2d\"}],\"histogram2dcontour\":[{\"colorbar\":{\"outlinewidth\":0,\"ticks\":\"\"},\"colorscale\":[[0.0,\"#0d0887\"],[0.1111111111111111,\"#46039f\"],[0.2222222222222222,\"#7201a8\"],[0.3333333333333333,\"#9c179e\"],[0.4444444444444444,\"#bd3786\"],[0.5555555555555556,\"#d8576b\"],[0.6666666666666666,\"#ed7953\"],[0.7777777777777778,\"#fb9f3a\"],[0.8888888888888888,\"#fdca26\"],[1.0,\"#f0f921\"]],\"type\":\"histogram2dcontour\"}],\"mesh3d\":[{\"colorbar\":{\"outlinewidth\":0,\"ticks\":\"\"},\"type\":\"mesh3d\"}],\"parcoords\":[{\"line\":{\"colorbar\":{\"outlinewidth\":0,\"ticks\":\"\"}},\"type\":\"parcoords\"}],\"pie\":[{\"automargin\":true,\"type\":\"pie\"}],\"scatter\":[{\"marker\":{\"colorbar\":{\"outlinewidth\":0,\"ticks\":\"\"}},\"type\":\"scatter\"}],\"scatter3d\":[{\"line\":{\"colorbar\":{\"outlinewidth\":0,\"ticks\":\"\"}},\"marker\":{\"colorbar\":{\"outlinewidth\":0,\"ticks\":\"\"}},\"type\":\"scatter3d\"}],\"scattercarpet\":[{\"marker\":{\"colorbar\":{\"outlinewidth\":0,\"ticks\":\"\"}},\"type\":\"scattercarpet\"}],\"scattergeo\":[{\"marker\":{\"colorbar\":{\"outlinewidth\":0,\"ticks\":\"\"}},\"type\":\"scattergeo\"}],\"scattergl\":[{\"marker\":{\"colorbar\":{\"outlinewidth\":0,\"ticks\":\"\"}},\"type\":\"scattergl\"}],\"scattermapbox\":[{\"marker\":{\"colorbar\":{\"outlinewidth\":0,\"ticks\":\"\"}},\"type\":\"scattermapbox\"}],\"scatterpolar\":[{\"marker\":{\"colorbar\":{\"outlinewidth\":0,\"ticks\":\"\"}},\"type\":\"scatterpolar\"}],\"scatterpolargl\":[{\"marker\":{\"colorbar\":{\"outlinewidth\":0,\"ticks\":\"\"}},\"type\":\"scatterpolargl\"}],\"scatterternary\":[{\"marker\":{\"colorbar\":{\"outlinewidth\":0,\"ticks\":\"\"}},\"type\":\"scatterternary\"}],\"surface\":[{\"colorbar\":{\"outlinewidth\":0,\"ticks\":\"\"},\"colorscale\":[[0.0,\"#0d0887\"],[0.1111111111111111,\"#46039f\"],[0.2222222222222222,\"#7201a8\"],[0.3333333333333333,\"#9c179e\"],[0.4444444444444444,\"#bd3786\"],[0.5555555555555556,\"#d8576b\"],[0.6666666666666666,\"#ed7953\"],[0.7777777777777778,\"#fb9f3a\"],[0.8888888888888888,\"#fdca26\"],[1.0,\"#f0f921\"]],\"type\":\"surface\"}],\"table\":[{\"cells\":{\"fill\":{\"color\":\"#EBF0F8\"},\"line\":{\"color\":\"white\"}},\"header\":{\"fill\":{\"color\":\"#C8D4E3\"},\"line\":{\"color\":\"white\"}},\"type\":\"table\"}]},\"layout\":{\"annotationdefaults\":{\"arrowcolor\":\"#2a3f5f\",\"arrowhead\":0,\"arrowwidth\":1},\"autotypenumbers\":\"strict\",\"coloraxis\":{\"colorbar\":{\"outlinewidth\":0,\"ticks\":\"\"}},\"colorscale\":{\"diverging\":[[0,\"#8e0152\"],[0.1,\"#c51b7d\"],[0.2,\"#de77ae\"],[0.3,\"#f1b6da\"],[0.4,\"#fde0ef\"],[0.5,\"#f7f7f7\"],[0.6,\"#e6f5d0\"],[0.7,\"#b8e186\"],[0.8,\"#7fbc41\"],[0.9,\"#4d9221\"],[1,\"#276419\"]],\"sequential\":[[0.0,\"#0d0887\"],[0.1111111111111111,\"#46039f\"],[0.2222222222222222,\"#7201a8\"],[0.3333333333333333,\"#9c179e\"],[0.4444444444444444,\"#bd3786\"],[0.5555555555555556,\"#d8576b\"],[0.6666666666666666,\"#ed7953\"],[0.7777777777777778,\"#fb9f3a\"],[0.8888888888888888,\"#fdca26\"],[1.0,\"#f0f921\"]],\"sequentialminus\":[[0.0,\"#0d0887\"],[0.1111111111111111,\"#46039f\"],[0.2222222222222222,\"#7201a8\"],[0.3333333333333333,\"#9c179e\"],[0.4444444444444444,\"#bd3786\"],[0.5555555555555556,\"#d8576b\"],[0.6666666666666666,\"#ed7953\"],[0.7777777777777778,\"#fb9f3a\"],[0.8888888888888888,\"#fdca26\"],[1.0,\"#f0f921\"]]},\"colorway\":[\"#636efa\",\"#EF553B\",\"#00cc96\",\"#ab63fa\",\"#FFA15A\",\"#19d3f3\",\"#FF6692\",\"#B6E880\",\"#FF97FF\",\"#FECB52\"],\"font\":{\"color\":\"#2a3f5f\"},\"geo\":{\"bgcolor\":\"white\",\"lakecolor\":\"white\",\"landcolor\":\"#E5ECF6\",\"showlakes\":true,\"showland\":true,\"subunitcolor\":\"white\"},\"hoverlabel\":{\"align\":\"left\"},\"hovermode\":\"closest\",\"mapbox\":{\"style\":\"light\"},\"paper_bgcolor\":\"white\",\"plot_bgcolor\":\"#E5ECF6\",\"polar\":{\"angularaxis\":{\"gridcolor\":\"white\",\"linecolor\":\"white\",\"ticks\":\"\"},\"bgcolor\":\"#E5ECF6\",\"radialaxis\":{\"gridcolor\":\"white\",\"linecolor\":\"white\",\"ticks\":\"\"}},\"scene\":{\"xaxis\":{\"backgroundcolor\":\"#E5ECF6\",\"gridcolor\":\"white\",\"gridwidth\":2,\"linecolor\":\"white\",\"showbackground\":true,\"ticks\":\"\",\"zerolinecolor\":\"white\"},\"yaxis\":{\"backgroundcolor\":\"#E5ECF6\",\"gridcolor\":\"white\",\"gridwidth\":2,\"linecolor\":\"white\",\"showbackground\":true,\"ticks\":\"\",\"zerolinecolor\":\"white\"},\"zaxis\":{\"backgroundcolor\":\"#E5ECF6\",\"gridcolor\":\"white\",\"gridwidth\":2,\"linecolor\":\"white\",\"showbackground\":true,\"ticks\":\"\",\"zerolinecolor\":\"white\"}},\"shapedefaults\":{\"line\":{\"color\":\"#2a3f5f\"}},\"ternary\":{\"aaxis\":{\"gridcolor\":\"white\",\"linecolor\":\"white\",\"ticks\":\"\"},\"baxis\":{\"gridcolor\":\"white\",\"linecolor\":\"white\",\"ticks\":\"\"},\"bgcolor\":\"#E5ECF6\",\"caxis\":{\"gridcolor\":\"white\",\"linecolor\":\"white\",\"ticks\":\"\"}},\"title\":{\"x\":0.05},\"xaxis\":{\"automargin\":true,\"gridcolor\":\"white\",\"linecolor\":\"white\",\"ticks\":\"\",\"title\":{\"standoff\":15},\"zerolinecolor\":\"white\",\"zerolinewidth\":2},\"yaxis\":{\"automargin\":true,\"gridcolor\":\"white\",\"linecolor\":\"white\",\"ticks\":\"\",\"title\":{\"standoff\":15},\"zerolinecolor\":\"white\",\"zerolinewidth\":2}}},\"xaxis\":{\"anchor\":\"y\",\"domain\":[0.0,1.0],\"scaleanchor\":\"y\",\"constrain\":\"domain\",\"title\":{\"text\":\"Head\"}},\"yaxis\":{\"anchor\":\"x\",\"domain\":[0.0,1.0],\"autorange\":\"reversed\",\"constrain\":\"domain\",\"title\":{\"text\":\"Layer\"}},\"coloraxis\":{\"colorscale\":[[0.0,\"rgb(247,251,255)\"],[0.125,\"rgb(222,235,247)\"],[0.25,\"rgb(198,219,239)\"],[0.375,\"rgb(158,202,225)\"],[0.5,\"rgb(107,174,214)\"],[0.625,\"rgb(66,146,198)\"],[0.75,\"rgb(33,113,181)\"],[0.875,\"rgb(8,81,156)\"],[1.0,\"rgb(8,48,107)\"]]},\"title\":{\"text\":\"Mask\"}},                        {\"responsive\": true}                    ).then(function(){\n",
              "                            \n",
              "var gd = document.getElementById('c4bdeaaf-f02d-448b-8b34-eba23b7206dd');\n",
              "var x = new MutationObserver(function (mutations, observer) {{\n",
              "        var display = window.getComputedStyle(gd).display;\n",
              "        if (!display || display === 'none') {{\n",
              "            console.log([gd, 'removed!']);\n",
              "            Plotly.purge(gd);\n",
              "            observer.disconnect();\n",
              "        }}\n",
              "}});\n",
              "\n",
              "// Listen for the removal of the full notebook cells\n",
              "var notebookContainer = gd.closest('#notebook-container');\n",
              "if (notebookContainer) {{\n",
              "    x.observe(notebookContainer, {childList: true});\n",
              "}}\n",
              "\n",
              "// Listen for the clearing of the current output cell\n",
              "var outputEl = gd.closest('.output');\n",
              "if (outputEl) {{\n",
              "    x.observe(outputEl, {childList: true});\n",
              "}}\n",
              "\n",
              "                        })                };                            </script>        </div>\n",
              "</body>\n",
              "</html>"
            ]
          },
          "metadata": {}
        }
      ],
      "source": [
        "induction_logits = model(rand_tokens_repeat)\n",
        "induction_log_probs = F.log_softmax(induction_logits, dim=-1)\n",
        "induction_pred_log_probs = torch.gather(\n",
        "    induction_log_probs[:, :-1], -1, rand_tokens_repeat[:, 1:, None]\n",
        ")[..., 0]\n",
        "print(\n",
        "    \"Original loss on repeated sequence:\", induction_pred_log_probs[:, seq_len:].mean()\n",
        ")\n",
        "\n",
        "# Mask out the heads with a high induction score\n",
        "attn_head_mask = induction_scores_array > 0.8\n",
        "\n",
        "\n",
        "def prune_attn_heads(value, hook):\n",
        "    # Value has shape [batch, pos, index, d_head]\n",
        "    mask = attn_head_mask[hook.layer()]\n",
        "    value[:, :, mask] = 0.0\n",
        "    return value\n",
        "\n",
        "\n",
        "def filter_value_hooks(name):\n",
        "    return name.split(\".\")[-1] == \"hook_v\"\n",
        "\n",
        "\n",
        "ablated_logits = model.run_with_hooks(\n",
        "    rand_tokens_repeat, fwd_hooks=[(filter_value_hooks, prune_attn_heads)]\n",
        ")\n",
        "ablated_log_probs = F.log_softmax(ablated_logits, dim=-1)\n",
        "ablated_pred_log_probs = torch.gather(\n",
        "    ablated_log_probs[:, :-1], -1, rand_tokens_repeat[:, 1:, None]\n",
        ")[..., 0]\n",
        "print(\n",
        "    \"Loss on repeated sequence without induction heads:\",\n",
        "    ablated_pred_log_probs[:, seq_len:].mean(),\n",
        ")\n",
        "\n",
        "px.imshow(\n",
        "    attn_head_mask,\n",
        "    labels={\"y\": \"Layer\", \"x\": \"Head\"},\n",
        "    color_continuous_scale=\"Blues\",\n",
        "    title=\"Mask\",\n",
        ").show()"
      ]
    },
    {
      "cell_type": "markdown",
      "metadata": {
        "id": "1SWBB8zGIUx4"
      },
      "source": [
        "# Further Examples + Features"
      ]
    },
    {
      "cell_type": "markdown",
      "metadata": {
        "id": "AbimZ_SEIUx4"
      },
      "source": [
        "## Ablation experiments"
      ]
    },
    {
      "cell_type": "markdown",
      "metadata": {
        "id": "Ml69Li3CIUx4"
      },
      "source": [
        "We provide a wrapper to facilitate ablations experiment. \n",
        "\n",
        "An `EasyAblation` object is the combinaison of:\n",
        "* The `EasyTransformer` model to be ablated\n",
        "* An `AblationConfig` object that store all the parameters of the ablation \n",
        "* An `ExperimentMetric` object that define how we will measure the effect of the ablation. This can be the loss on a given dataset or the attention score of a precise head.\n",
        "\n",
        "Here, we defined a metric function that takes in inputs the model and the dataset and output a tensor. You can use `model.run_with_hook()` in the metric function, by you *have* to use the option `reset_hooks_start=False`, else the ablation hooks will be ignored. \n",
        "\n",
        "You can specify the `target_module` from \"mlp\", \"attn_layer\", \"attn_head\". \n",
        "If you chose \"attn_head\" you can define which part of the head computation to ablate (\"z\", \"q\", \"v\", \"k\", \"attn\", \"attn_scores\") \n",
        "\n",
        "The supported ablation types are `mean`, `zero`, `neg` and `custom`. For mean ablations, you can specify a `mean_dataset` in the config that can be different to the one used in the metric. \n",
        "\n",
        "The `verbose` option prints all the experiment parameters before running the ablations."
      ]
    },
    {
      "cell_type": "code",
      "execution_count": 29,
      "metadata": {
        "colab": {
          "base_uri": "https://localhost:8080/",
          "height": 928
        },
        "id": "Oo4HRii5IUx4",
        "outputId": "d7b3713d-1279-43ca-a408-eb83fa00de51"
      },
      "outputs": [
        {
          "output_type": "stream",
          "name": "stdout",
          "text": [
            "--- AblationConfig: ---\n",
            "* nb_metric_iteration: 1\n",
            "* target_module: attn_head\n",
            "* head_circuit: z\n",
            "* layers: all\n",
            "* heads: [0, 1, 2, 3, 4, 5, 6, 7, 8, 9, 10, 11]\n",
            "* dataset: tensor([6461, 1966, 2353, 2307, 1273, 5264, 2514, 1789, 9899, 9984]) ... \n",
            "tensor([8734, 6457, 2185, 3355, 7274, 5841, 3293, 1214, 2225, 3041]) ... \n",
            "tensor([7305, 7663, 9866, 2232, 4894, 3846, 9074, 6260, 2053, 1081]) ... \n",
            "* verbose: True\n",
            "* beg_layer: 0\n",
            "* end_layer: 12\n",
            "* abl_type: zero\n",
            "* mean_dataset: None\n",
            "* cache_means: True\n",
            "* compute_means: False\n",
            "* abl_fn: <function zero_fn at 0x7f6582484a70>\n",
            "* batch_size: None\n",
            "* max_seq_len: None\n",
            "\n"
          ]
        },
        {
          "output_type": "stream",
          "name": "stderr",
          "text": [
            "100%|██████████| 12/12 [11:01<00:00, 55.13s/it]\n"
          ]
        },
        {
          "output_type": "display_data",
          "data": {
            "text/html": [
              "<html>\n",
              "<head><meta charset=\"utf-8\" /></head>\n",
              "<body>\n",
              "    <div>            <script src=\"https://cdnjs.cloudflare.com/ajax/libs/mathjax/2.7.5/MathJax.js?config=TeX-AMS-MML_SVG\"></script><script type=\"text/javascript\">if (window.MathJax) {MathJax.Hub.Config({SVG: {font: \"STIX-Web\"}});}</script>                <script type=\"text/javascript\">window.PlotlyConfig = {MathJaxConfig: 'local'};</script>\n",
              "        <script src=\"https://cdn.plot.ly/plotly-2.8.3.min.js\"></script>                <div id=\"43226650-f8b6-4056-8422-6a4396b9fd90\" class=\"plotly-graph-div\" style=\"height:525px; width:100%;\"></div>            <script type=\"text/javascript\">                                    window.PLOTLYENV=window.PLOTLYENV || {};                                    if (document.getElementById(\"43226650-f8b6-4056-8422-6a4396b9fd90\")) {                    Plotly.newPlot(                        \"43226650-f8b6-4056-8422-6a4396b9fd90\",                        [{\"coloraxis\":\"coloraxis\",\"name\":\"0\",\"z\":[[1.8068764209747314,1.9123444557189941,0.5309125185012817,1.1308515071868896,0.4670027494430542,1.5371861457824707,0.035093069076538086,1.3925256729125977,0.3143714666366577,1.780517816543579,1.1035499572753906,0.572415828704834],[0.09632563591003418,0.4052734375,2.7194130420684814,1.7523572444915771,0.8197289705276489,0.07185947895050049,0.0551302433013916,0.04303789138793945,-0.04300457239151001,0.0030372142791748047,3.6508092880249023,0.23857808113098145],[1.047243595123291,-0.01419079303741455,0.3689781427383423,1.2233006954193115,0.4538900852203369,1.1110756397247314,0.8880974054336548,0.5766174793243408,0.29330527782440186,1.0608479976654053,0.516037106513977,-0.14655303955078125],[0.3587226867675781,0.2187802791595459,0.36146581172943115,0.33788347244262695,0.10950350761413574,0.17049503326416016,1.1725144386291504,0.4538196325302124,0.25655829906463623,0.01470482349395752,-0.08595401048660278,0.061179161071777344],[-0.0002105236053466797,0.05476975440979004,-0.01743394136428833,-0.04499244689941406,0.050990939140319824,0.00019872188568115234,-0.033451855182647705,0.10782003402709961,0.32134199142456055,0.02116572856903076,0.0363537073135376,0.8114919662475586],[0.07759630680084229,2.4103877544403076,0.024051666259765625,-0.03455829620361328,-0.007331252098083496,0.2873793840408325,0.31524598598480225,0.07284927368164062,-0.17184513807296753,1.7362310886383057,-0.054718196392059326,0.059126973152160645],[-0.0468941330909729,0.025830507278442383,0.1033850908279419,0.16637933254241943,0.10186374187469482,-0.07099670171737671,0.23355185985565186,0.42052435874938965,-0.10710006952285767,0.29365694522857666,0.11315596103668213,-0.04763329029083252],[0.03694462776184082,0.0035570859909057617,0.2413233518600464,-0.06657040119171143,-0.022671937942504883,-0.00417017936706543,1.626058578491211,-0.1551128625869751,0.0038340091705322266,0.02039015293121338,-0.05182260274887085,0.02485477924346924],[-0.049885094165802,-0.005602538585662842,0.03519105911254883,-0.012563109397888184,-0.0012736320495605469,0.4853273630142212,-0.060303449630737305,-0.02504706382751465,-0.01883000135421753,-0.05714249610900879,0.17132079601287842,0.03847229480743408],[0.050916314125061035,0.005187869071960449,0.006412982940673828,0.10587728023529053,0.001671433448791504,0.11224806308746338,0.032509803771972656,0.051024556159973145,-0.00283050537109375,-0.09233212471008301,0.005664825439453125,-0.04258328676223755],[0.13138341903686523,0.012580037117004395,0.0439532995223999,0.03229999542236328,-0.03098362684249878,-0.003193676471710205,0.16983771324157715,-0.1814926266670227,0.06402921676635742,0.0021598339080810547,0.08645415306091309,-0.0029494762420654297],[0.44317007064819336,0.02315700054168701,0.0035010576248168945,0.005939841270446777,0.044558167457580566,0.038431406021118164,0.08301031589508057,0.06412971019744873,-0.1839916706085205,0.03510844707489014,-0.19574415683746338,-0.0023437142372131348]],\"type\":\"heatmap\",\"xaxis\":\"x\",\"yaxis\":\"y\",\"hovertemplate\":\"Head: %{x}<br>Layer: %{y}<br>color: %{z}<extra></extra>\"}],                        {\"template\":{\"data\":{\"bar\":[{\"error_x\":{\"color\":\"#2a3f5f\"},\"error_y\":{\"color\":\"#2a3f5f\"},\"marker\":{\"line\":{\"color\":\"#E5ECF6\",\"width\":0.5},\"pattern\":{\"fillmode\":\"overlay\",\"size\":10,\"solidity\":0.2}},\"type\":\"bar\"}],\"barpolar\":[{\"marker\":{\"line\":{\"color\":\"#E5ECF6\",\"width\":0.5},\"pattern\":{\"fillmode\":\"overlay\",\"size\":10,\"solidity\":0.2}},\"type\":\"barpolar\"}],\"carpet\":[{\"aaxis\":{\"endlinecolor\":\"#2a3f5f\",\"gridcolor\":\"white\",\"linecolor\":\"white\",\"minorgridcolor\":\"white\",\"startlinecolor\":\"#2a3f5f\"},\"baxis\":{\"endlinecolor\":\"#2a3f5f\",\"gridcolor\":\"white\",\"linecolor\":\"white\",\"minorgridcolor\":\"white\",\"startlinecolor\":\"#2a3f5f\"},\"type\":\"carpet\"}],\"choropleth\":[{\"colorbar\":{\"outlinewidth\":0,\"ticks\":\"\"},\"type\":\"choropleth\"}],\"contour\":[{\"colorbar\":{\"outlinewidth\":0,\"ticks\":\"\"},\"colorscale\":[[0.0,\"#0d0887\"],[0.1111111111111111,\"#46039f\"],[0.2222222222222222,\"#7201a8\"],[0.3333333333333333,\"#9c179e\"],[0.4444444444444444,\"#bd3786\"],[0.5555555555555556,\"#d8576b\"],[0.6666666666666666,\"#ed7953\"],[0.7777777777777778,\"#fb9f3a\"],[0.8888888888888888,\"#fdca26\"],[1.0,\"#f0f921\"]],\"type\":\"contour\"}],\"contourcarpet\":[{\"colorbar\":{\"outlinewidth\":0,\"ticks\":\"\"},\"type\":\"contourcarpet\"}],\"heatmap\":[{\"colorbar\":{\"outlinewidth\":0,\"ticks\":\"\"},\"colorscale\":[[0.0,\"#0d0887\"],[0.1111111111111111,\"#46039f\"],[0.2222222222222222,\"#7201a8\"],[0.3333333333333333,\"#9c179e\"],[0.4444444444444444,\"#bd3786\"],[0.5555555555555556,\"#d8576b\"],[0.6666666666666666,\"#ed7953\"],[0.7777777777777778,\"#fb9f3a\"],[0.8888888888888888,\"#fdca26\"],[1.0,\"#f0f921\"]],\"type\":\"heatmap\"}],\"heatmapgl\":[{\"colorbar\":{\"outlinewidth\":0,\"ticks\":\"\"},\"colorscale\":[[0.0,\"#0d0887\"],[0.1111111111111111,\"#46039f\"],[0.2222222222222222,\"#7201a8\"],[0.3333333333333333,\"#9c179e\"],[0.4444444444444444,\"#bd3786\"],[0.5555555555555556,\"#d8576b\"],[0.6666666666666666,\"#ed7953\"],[0.7777777777777778,\"#fb9f3a\"],[0.8888888888888888,\"#fdca26\"],[1.0,\"#f0f921\"]],\"type\":\"heatmapgl\"}],\"histogram\":[{\"marker\":{\"pattern\":{\"fillmode\":\"overlay\",\"size\":10,\"solidity\":0.2}},\"type\":\"histogram\"}],\"histogram2d\":[{\"colorbar\":{\"outlinewidth\":0,\"ticks\":\"\"},\"colorscale\":[[0.0,\"#0d0887\"],[0.1111111111111111,\"#46039f\"],[0.2222222222222222,\"#7201a8\"],[0.3333333333333333,\"#9c179e\"],[0.4444444444444444,\"#bd3786\"],[0.5555555555555556,\"#d8576b\"],[0.6666666666666666,\"#ed7953\"],[0.7777777777777778,\"#fb9f3a\"],[0.8888888888888888,\"#fdca26\"],[1.0,\"#f0f921\"]],\"type\":\"histogram2d\"}],\"histogram2dcontour\":[{\"colorbar\":{\"outlinewidth\":0,\"ticks\":\"\"},\"colorscale\":[[0.0,\"#0d0887\"],[0.1111111111111111,\"#46039f\"],[0.2222222222222222,\"#7201a8\"],[0.3333333333333333,\"#9c179e\"],[0.4444444444444444,\"#bd3786\"],[0.5555555555555556,\"#d8576b\"],[0.6666666666666666,\"#ed7953\"],[0.7777777777777778,\"#fb9f3a\"],[0.8888888888888888,\"#fdca26\"],[1.0,\"#f0f921\"]],\"type\":\"histogram2dcontour\"}],\"mesh3d\":[{\"colorbar\":{\"outlinewidth\":0,\"ticks\":\"\"},\"type\":\"mesh3d\"}],\"parcoords\":[{\"line\":{\"colorbar\":{\"outlinewidth\":0,\"ticks\":\"\"}},\"type\":\"parcoords\"}],\"pie\":[{\"automargin\":true,\"type\":\"pie\"}],\"scatter\":[{\"marker\":{\"colorbar\":{\"outlinewidth\":0,\"ticks\":\"\"}},\"type\":\"scatter\"}],\"scatter3d\":[{\"line\":{\"colorbar\":{\"outlinewidth\":0,\"ticks\":\"\"}},\"marker\":{\"colorbar\":{\"outlinewidth\":0,\"ticks\":\"\"}},\"type\":\"scatter3d\"}],\"scattercarpet\":[{\"marker\":{\"colorbar\":{\"outlinewidth\":0,\"ticks\":\"\"}},\"type\":\"scattercarpet\"}],\"scattergeo\":[{\"marker\":{\"colorbar\":{\"outlinewidth\":0,\"ticks\":\"\"}},\"type\":\"scattergeo\"}],\"scattergl\":[{\"marker\":{\"colorbar\":{\"outlinewidth\":0,\"ticks\":\"\"}},\"type\":\"scattergl\"}],\"scattermapbox\":[{\"marker\":{\"colorbar\":{\"outlinewidth\":0,\"ticks\":\"\"}},\"type\":\"scattermapbox\"}],\"scatterpolar\":[{\"marker\":{\"colorbar\":{\"outlinewidth\":0,\"ticks\":\"\"}},\"type\":\"scatterpolar\"}],\"scatterpolargl\":[{\"marker\":{\"colorbar\":{\"outlinewidth\":0,\"ticks\":\"\"}},\"type\":\"scatterpolargl\"}],\"scatterternary\":[{\"marker\":{\"colorbar\":{\"outlinewidth\":0,\"ticks\":\"\"}},\"type\":\"scatterternary\"}],\"surface\":[{\"colorbar\":{\"outlinewidth\":0,\"ticks\":\"\"},\"colorscale\":[[0.0,\"#0d0887\"],[0.1111111111111111,\"#46039f\"],[0.2222222222222222,\"#7201a8\"],[0.3333333333333333,\"#9c179e\"],[0.4444444444444444,\"#bd3786\"],[0.5555555555555556,\"#d8576b\"],[0.6666666666666666,\"#ed7953\"],[0.7777777777777778,\"#fb9f3a\"],[0.8888888888888888,\"#fdca26\"],[1.0,\"#f0f921\"]],\"type\":\"surface\"}],\"table\":[{\"cells\":{\"fill\":{\"color\":\"#EBF0F8\"},\"line\":{\"color\":\"white\"}},\"header\":{\"fill\":{\"color\":\"#C8D4E3\"},\"line\":{\"color\":\"white\"}},\"type\":\"table\"}]},\"layout\":{\"annotationdefaults\":{\"arrowcolor\":\"#2a3f5f\",\"arrowhead\":0,\"arrowwidth\":1},\"autotypenumbers\":\"strict\",\"coloraxis\":{\"colorbar\":{\"outlinewidth\":0,\"ticks\":\"\"}},\"colorscale\":{\"diverging\":[[0,\"#8e0152\"],[0.1,\"#c51b7d\"],[0.2,\"#de77ae\"],[0.3,\"#f1b6da\"],[0.4,\"#fde0ef\"],[0.5,\"#f7f7f7\"],[0.6,\"#e6f5d0\"],[0.7,\"#b8e186\"],[0.8,\"#7fbc41\"],[0.9,\"#4d9221\"],[1,\"#276419\"]],\"sequential\":[[0.0,\"#0d0887\"],[0.1111111111111111,\"#46039f\"],[0.2222222222222222,\"#7201a8\"],[0.3333333333333333,\"#9c179e\"],[0.4444444444444444,\"#bd3786\"],[0.5555555555555556,\"#d8576b\"],[0.6666666666666666,\"#ed7953\"],[0.7777777777777778,\"#fb9f3a\"],[0.8888888888888888,\"#fdca26\"],[1.0,\"#f0f921\"]],\"sequentialminus\":[[0.0,\"#0d0887\"],[0.1111111111111111,\"#46039f\"],[0.2222222222222222,\"#7201a8\"],[0.3333333333333333,\"#9c179e\"],[0.4444444444444444,\"#bd3786\"],[0.5555555555555556,\"#d8576b\"],[0.6666666666666666,\"#ed7953\"],[0.7777777777777778,\"#fb9f3a\"],[0.8888888888888888,\"#fdca26\"],[1.0,\"#f0f921\"]]},\"colorway\":[\"#636efa\",\"#EF553B\",\"#00cc96\",\"#ab63fa\",\"#FFA15A\",\"#19d3f3\",\"#FF6692\",\"#B6E880\",\"#FF97FF\",\"#FECB52\"],\"font\":{\"color\":\"#2a3f5f\"},\"geo\":{\"bgcolor\":\"white\",\"lakecolor\":\"white\",\"landcolor\":\"#E5ECF6\",\"showlakes\":true,\"showland\":true,\"subunitcolor\":\"white\"},\"hoverlabel\":{\"align\":\"left\"},\"hovermode\":\"closest\",\"mapbox\":{\"style\":\"light\"},\"paper_bgcolor\":\"white\",\"plot_bgcolor\":\"#E5ECF6\",\"polar\":{\"angularaxis\":{\"gridcolor\":\"white\",\"linecolor\":\"white\",\"ticks\":\"\"},\"bgcolor\":\"#E5ECF6\",\"radialaxis\":{\"gridcolor\":\"white\",\"linecolor\":\"white\",\"ticks\":\"\"}},\"scene\":{\"xaxis\":{\"backgroundcolor\":\"#E5ECF6\",\"gridcolor\":\"white\",\"gridwidth\":2,\"linecolor\":\"white\",\"showbackground\":true,\"ticks\":\"\",\"zerolinecolor\":\"white\"},\"yaxis\":{\"backgroundcolor\":\"#E5ECF6\",\"gridcolor\":\"white\",\"gridwidth\":2,\"linecolor\":\"white\",\"showbackground\":true,\"ticks\":\"\",\"zerolinecolor\":\"white\"},\"zaxis\":{\"backgroundcolor\":\"#E5ECF6\",\"gridcolor\":\"white\",\"gridwidth\":2,\"linecolor\":\"white\",\"showbackground\":true,\"ticks\":\"\",\"zerolinecolor\":\"white\"}},\"shapedefaults\":{\"line\":{\"color\":\"#2a3f5f\"}},\"ternary\":{\"aaxis\":{\"gridcolor\":\"white\",\"linecolor\":\"white\",\"ticks\":\"\"},\"baxis\":{\"gridcolor\":\"white\",\"linecolor\":\"white\",\"ticks\":\"\"},\"bgcolor\":\"#E5ECF6\",\"caxis\":{\"gridcolor\":\"white\",\"linecolor\":\"white\",\"ticks\":\"\"}},\"title\":{\"x\":0.05},\"xaxis\":{\"automargin\":true,\"gridcolor\":\"white\",\"linecolor\":\"white\",\"ticks\":\"\",\"title\":{\"standoff\":15},\"zerolinecolor\":\"white\",\"zerolinewidth\":2},\"yaxis\":{\"automargin\":true,\"gridcolor\":\"white\",\"linecolor\":\"white\",\"ticks\":\"\",\"title\":{\"standoff\":15},\"zerolinecolor\":\"white\",\"zerolinewidth\":2}}},\"xaxis\":{\"anchor\":\"y\",\"domain\":[0.0,1.0],\"scaleanchor\":\"y\",\"constrain\":\"domain\",\"title\":{\"text\":\"Head\"}},\"yaxis\":{\"anchor\":\"x\",\"domain\":[0.0,1.0],\"autorange\":\"reversed\",\"constrain\":\"domain\",\"title\":{\"text\":\"Layer\"}},\"coloraxis\":{\"colorscale\":[[0.0,\"rgb(247,251,255)\"],[0.125,\"rgb(222,235,247)\"],[0.25,\"rgb(198,219,239)\"],[0.375,\"rgb(158,202,225)\"],[0.5,\"rgb(107,174,214)\"],[0.625,\"rgb(66,146,198)\"],[0.75,\"rgb(33,113,181)\"],[0.875,\"rgb(8,81,156)\"],[1.0,\"rgb(8,48,107)\"]]},\"title\":{\"text\":\"Induction Score Variation after Ablation\"}},                        {\"responsive\": true}                    ).then(function(){\n",
              "                            \n",
              "var gd = document.getElementById('43226650-f8b6-4056-8422-6a4396b9fd90');\n",
              "var x = new MutationObserver(function (mutations, observer) {{\n",
              "        var display = window.getComputedStyle(gd).display;\n",
              "        if (!display || display === 'none') {{\n",
              "            console.log([gd, 'removed!']);\n",
              "            Plotly.purge(gd);\n",
              "            observer.disconnect();\n",
              "        }}\n",
              "}});\n",
              "\n",
              "// Listen for the removal of the full notebook cells\n",
              "var notebookContainer = gd.closest('#notebook-container');\n",
              "if (notebookContainer) {{\n",
              "    x.observe(notebookContainer, {childList: true});\n",
              "}}\n",
              "\n",
              "// Listen for the clearing of the current output cell\n",
              "var outputEl = gd.closest('.output');\n",
              "if (outputEl) {{\n",
              "    x.observe(outputEl, {childList: true});\n",
              "}}\n",
              "\n",
              "                        })                };                            </script>        </div>\n",
              "</body>\n",
              "</html>"
            ]
          },
          "metadata": {}
        }
      ],
      "source": [
        "def induction_loss(model, dataset):\n",
        "    induction_logits = model(dataset)\n",
        "    induction_log_probs = F.log_softmax(induction_logits, dim=-1)\n",
        "    induction_pred_log_probs = torch.gather(\n",
        "        induction_log_probs[:, :-1], -1, rand_tokens_repeat[:, 1:, None]\n",
        "    )[..., 0]\n",
        "    return induction_pred_log_probs[:, seq_len:].mean()\n",
        "\n",
        "\n",
        "metric = ExperimentMetric(\n",
        "    metric=induction_loss, dataset=rand_tokens_repeat, relative_metric=True\n",
        ")\n",
        "config = AblationConfig(\n",
        "    abl_type=\"zero\",\n",
        "    target_module=\"attn_head\",\n",
        "    head_circuit=\"z\",\n",
        "    cache_means=True,\n",
        "    verbose=True,\n",
        ")\n",
        "abl = EasyAblation(model, config, metric)\n",
        "result = abl.run_ablation()\n",
        "\n",
        "px.imshow(\n",
        "    result,\n",
        "    labels={\"y\": \"Layer\", \"x\": \"Head\"},\n",
        "    color_continuous_scale=\"Blues\",\n",
        "    title=\"Induction Score Variation after Ablation\",\n",
        ").show()"
      ]
    },
    {
      "cell_type": "markdown",
      "metadata": {
        "id": "abkEMH5fIUx5"
      },
      "source": [
        "You can also use the `EasyAblation` object to generate ablations hook, without using it to run ablations. This is useful when you want to ablate several heads at once. The ablations hooks generated will respect the configuration you used to generate the `EasyAblation` object.\n",
        "\n",
        "Here we can reproduce the revious results where we ablate the induction heads by replacing their activation by zero. You can notice that the combined effect of the ablations of the 5 heads is much greater than the sum of their individual effect."
      ]
    },
    {
      "cell_type": "code",
      "execution_count": 30,
      "metadata": {
        "colab": {
          "base_uri": "https://localhost:8080/"
        },
        "id": "X1gsb462IUx5",
        "outputId": "1c313242-6182-468e-9ad3-7ec19a6699eb"
      },
      "outputs": [
        {
          "output_type": "stream",
          "name": "stdout",
          "text": [
            "Loss on the repeated random token after zero-ablations of the induction heads -6.419174671173096\n"
          ]
        }
      ],
      "source": [
        "model.reset_hooks()\n",
        "for (l, h) in [(5, 1), (5, 5), (6, 9), (7, 2), (7, 10)]:\n",
        "    hook_name, hook = abl.get_hook(l, h)\n",
        "    model.add_hook(hook_name, hook)\n",
        "print(\n",
        "    f\"Loss on the repeated random token after zero-ablations of the induction heads {induction_loss(model, rand_tokens_repeat)}\"\n",
        ")"
      ]
    },
    {
      "cell_type": "markdown",
      "metadata": {
        "id": "23nYutGiIUx5"
      },
      "source": [
        "However, replacing the activation by zero is quite a weird thing to do as this could be really far from the baseline activation depending on the head. To fix this, we can instead replace the activation by its mean on the dataset. All the effect related to a particular sample will be washed out but the global contribution will be kept. The drop is still significant but not as much as zero ablation."
      ]
    },
    {
      "cell_type": "code",
      "execution_count": 31,
      "metadata": {
        "colab": {
          "base_uri": "https://localhost:8080/"
        },
        "id": "53gGwKFZIUx5",
        "outputId": "3f64f2b6-e949-4ec4-8ce5-3e676cd51a60"
      },
      "outputs": [
        {
          "output_type": "stream",
          "name": "stderr",
          "text": [
            "WARNING:root:cache_all is deprecated and will eventually be removed, use add_caching_hooks or run_with_cache\n"
          ]
        },
        {
          "output_type": "stream",
          "name": "stdout",
          "text": [
            "Loss on the repeated random token after mean-ablations of the induction heads -2.007183074951172\n"
          ]
        }
      ],
      "source": [
        "mean_abl_config = AblationConfig(\n",
        "    abl_type=\"mean\", target_module=\"attn_head\", head_circuit=\"z\", cache_means=True\n",
        ")\n",
        "mean_abl = EasyAblation(model, mean_abl_config, metric)\n",
        "model.reset_hooks()\n",
        "for (l, h) in [(5, 1), (5, 5), (6, 9), (7, 2), (7, 10)]:\n",
        "    hook_name, hook = mean_abl.get_hook(l, h)\n",
        "    model.add_hook(hook_name, hook)\n",
        "\n",
        "print(\n",
        "    f\"Loss on the repeated random token after mean-ablations of the induction heads {induction_loss(model, rand_tokens_repeat)}\"\n",
        ")"
      ]
    },
    {
      "cell_type": "markdown",
      "metadata": {
        "id": "p2eQUFHGIUx6"
      },
      "source": [
        "### Custom ablation function"
      ]
    },
    {
      "cell_type": "markdown",
      "metadata": {
        "id": "iXcx3m2BIUx6"
      },
      "source": [
        "When using `abl_type=\"custom\"` you can specify an arbitrary function `custom_abl_fn`. It has to take as input the normal output of the module, its mean activation, the hook object and output a tensor of the same shape as the normal output.\n",
        "\n",
        "The mean as the same shape as the normal output, its constant along the batch_size dimension. \n",
        "\n",
        "If `target_module=\"attn_head\"` the output is for a given head, its shape would be `(batch, seq_len, head_dim)` except for attention score and attention pattern : `(batch,seq_len, seq_len)`."
      ]
    },
    {
      "cell_type": "markdown",
      "metadata": {
        "id": "XC1uzAQ-IUx6"
      },
      "source": [
        "In the example below, we take the symetric of the activation with respect to its mean. It has for effect to reverse the contribution of the head without going too far in out of distribution activation space (as naively flipping the sign would do)."
      ]
    },
    {
      "cell_type": "code",
      "execution_count": 32,
      "metadata": {
        "colab": {
          "base_uri": "https://localhost:8080/",
          "height": 579
        },
        "id": "qwgDaINEIUx6",
        "outputId": "9959f073-b5be-474c-f68e-86eba5846cad"
      },
      "outputs": [
        {
          "output_type": "stream",
          "name": "stderr",
          "text": [
            "WARNING:root:cache_all is deprecated and will eventually be removed, use add_caching_hooks or run_with_cache\n",
            "100%|██████████| 12/12 [11:07<00:00, 55.64s/it]\n"
          ]
        },
        {
          "output_type": "display_data",
          "data": {
            "text/html": [
              "<html>\n",
              "<head><meta charset=\"utf-8\" /></head>\n",
              "<body>\n",
              "    <div>            <script src=\"https://cdnjs.cloudflare.com/ajax/libs/mathjax/2.7.5/MathJax.js?config=TeX-AMS-MML_SVG\"></script><script type=\"text/javascript\">if (window.MathJax) {MathJax.Hub.Config({SVG: {font: \"STIX-Web\"}});}</script>                <script type=\"text/javascript\">window.PlotlyConfig = {MathJaxConfig: 'local'};</script>\n",
              "        <script src=\"https://cdn.plot.ly/plotly-2.8.3.min.js\"></script>                <div id=\"e151a1a3-8ed7-4ca5-8da0-4c1d734b6c53\" class=\"plotly-graph-div\" style=\"height:525px; width:100%;\"></div>            <script type=\"text/javascript\">                                    window.PLOTLYENV=window.PLOTLYENV || {};                                    if (document.getElementById(\"e151a1a3-8ed7-4ca5-8da0-4c1d734b6c53\")) {                    Plotly.newPlot(                        \"e151a1a3-8ed7-4ca5-8da0-4c1d734b6c53\",                        [{\"coloraxis\":\"coloraxis\",\"name\":\"0\",\"z\":[[-0.02890104055404663,0.20998573303222656,0.0036597251892089844,0.05692946910858154,0.07644140720367432,0.17899882793426514,0.06611919403076172,0.27948105335235596,0.13274335861206055,0.39765381813049316,0.06061065196990967,-0.004467785358428955],[0.09449291229248047,0.606842041015625,0.03578794002532959,0.0034333467483520508,-0.00430375337600708,0.009467363357543945,-0.0013297200202941895,0.03342759609222412,0.041292667388916016,0.0012339353561401367,0.007908225059509277,0.17178881168365479],[0.17477202415466309,-0.057373106479644775,0.5416182279586792,0.3955487012863159,-0.02457064390182495,0.7836889028549194,0.694162130355835,0.01312863826751709,0.5300161838531494,1.0336377620697021,0.21815097332000732,-0.00531315803527832],[-0.027663767337799072,-0.08129727840423584,0.011726975440979004,0.288169264793396,0.00978541374206543,-0.023839116096496582,0.5311998128890991,1.3203651905059814,0.09611904621124268,0.008327364921569824,0.5305383205413818,-0.015984654426574707],[-0.013340473175048828,0.0021380186080932617,-0.007846474647521973,0.012286901473999023,-0.00024396181106567383,-0.024799644947052002,-0.014891564846038818,0.22450721263885498,-0.004637360572814941,-0.011182904243469238,0.0924386978149414,26.682180404663086],[0.04604673385620117,0.6730878353118896,-0.01643592119216919,-0.019897639751434326,0.004752755165100098,0.16726040840148926,0.6064772605895996,-0.0002620220184326172,-0.0027461647987365723,0.11648428440093994,-0.00024193525314331055,0.004511237144470215],[0.015504717826843262,0.019214987754821777,0.20402324199676514,0.008584022521972656,0.057967424392700195,-0.05655252933502197,0.012581348419189453,0.012500524520874023,0.009889364242553711,1.695371389389038,-0.00013756752014160156,0.02101755142211914],[0.00888669490814209,0.07362759113311768,2.1664631366729736,0.012910008430480957,0.0014312267303466797,0.010423541069030762,0.04186415672302246,0.1817610263824463,0.008897662162780762,-0.0011764764785766602,0.45511937141418457,-0.05447763204574585],[0.014299392700195312,0.19307708740234375,0.02851259708404541,0.011058807373046875,0.000652313232421875,0.0021213293075561523,0.09520244598388672,0.053511738777160645,0.011417984962463379,-0.017451107501983643,-0.05123203992843628,0.015049934387207031],[0.016674041748046875,0.2583197355270386,0.03165459632873535,0.037274718284606934,-0.017048656940460205,-0.0031935572624206543,0.19646239280700684,0.006031513214111328,0.012829899787902832,0.33161163330078125,0.002727508544921875,0.10490226745605469],[0.42998647689819336,0.6472983360290527,0.030342936515808105,0.16978538036346436,0.005414009094238281,0.004502534866333008,0.3748842477798462,-0.28281545639038086,0.05091738700866699,0.003048419952392578,0.12285768985748291,0.08917081356048584],[0.0690162181854248,0.09751760959625244,0.01949775218963623,0.027288079261779785,0.02676844596862793,0.056850314140319824,0.08673298358917236,0.11322319507598877,-0.046223223209381104,0.5451235771179199,-0.21387600898742676,0.035372257232666016]],\"type\":\"heatmap\",\"xaxis\":\"x\",\"yaxis\":\"y\",\"hovertemplate\":\"Head: %{x}<br>Layer: %{y}<br>color: %{z}<extra></extra>\"}],                        {\"template\":{\"data\":{\"bar\":[{\"error_x\":{\"color\":\"#2a3f5f\"},\"error_y\":{\"color\":\"#2a3f5f\"},\"marker\":{\"line\":{\"color\":\"#E5ECF6\",\"width\":0.5},\"pattern\":{\"fillmode\":\"overlay\",\"size\":10,\"solidity\":0.2}},\"type\":\"bar\"}],\"barpolar\":[{\"marker\":{\"line\":{\"color\":\"#E5ECF6\",\"width\":0.5},\"pattern\":{\"fillmode\":\"overlay\",\"size\":10,\"solidity\":0.2}},\"type\":\"barpolar\"}],\"carpet\":[{\"aaxis\":{\"endlinecolor\":\"#2a3f5f\",\"gridcolor\":\"white\",\"linecolor\":\"white\",\"minorgridcolor\":\"white\",\"startlinecolor\":\"#2a3f5f\"},\"baxis\":{\"endlinecolor\":\"#2a3f5f\",\"gridcolor\":\"white\",\"linecolor\":\"white\",\"minorgridcolor\":\"white\",\"startlinecolor\":\"#2a3f5f\"},\"type\":\"carpet\"}],\"choropleth\":[{\"colorbar\":{\"outlinewidth\":0,\"ticks\":\"\"},\"type\":\"choropleth\"}],\"contour\":[{\"colorbar\":{\"outlinewidth\":0,\"ticks\":\"\"},\"colorscale\":[[0.0,\"#0d0887\"],[0.1111111111111111,\"#46039f\"],[0.2222222222222222,\"#7201a8\"],[0.3333333333333333,\"#9c179e\"],[0.4444444444444444,\"#bd3786\"],[0.5555555555555556,\"#d8576b\"],[0.6666666666666666,\"#ed7953\"],[0.7777777777777778,\"#fb9f3a\"],[0.8888888888888888,\"#fdca26\"],[1.0,\"#f0f921\"]],\"type\":\"contour\"}],\"contourcarpet\":[{\"colorbar\":{\"outlinewidth\":0,\"ticks\":\"\"},\"type\":\"contourcarpet\"}],\"heatmap\":[{\"colorbar\":{\"outlinewidth\":0,\"ticks\":\"\"},\"colorscale\":[[0.0,\"#0d0887\"],[0.1111111111111111,\"#46039f\"],[0.2222222222222222,\"#7201a8\"],[0.3333333333333333,\"#9c179e\"],[0.4444444444444444,\"#bd3786\"],[0.5555555555555556,\"#d8576b\"],[0.6666666666666666,\"#ed7953\"],[0.7777777777777778,\"#fb9f3a\"],[0.8888888888888888,\"#fdca26\"],[1.0,\"#f0f921\"]],\"type\":\"heatmap\"}],\"heatmapgl\":[{\"colorbar\":{\"outlinewidth\":0,\"ticks\":\"\"},\"colorscale\":[[0.0,\"#0d0887\"],[0.1111111111111111,\"#46039f\"],[0.2222222222222222,\"#7201a8\"],[0.3333333333333333,\"#9c179e\"],[0.4444444444444444,\"#bd3786\"],[0.5555555555555556,\"#d8576b\"],[0.6666666666666666,\"#ed7953\"],[0.7777777777777778,\"#fb9f3a\"],[0.8888888888888888,\"#fdca26\"],[1.0,\"#f0f921\"]],\"type\":\"heatmapgl\"}],\"histogram\":[{\"marker\":{\"pattern\":{\"fillmode\":\"overlay\",\"size\":10,\"solidity\":0.2}},\"type\":\"histogram\"}],\"histogram2d\":[{\"colorbar\":{\"outlinewidth\":0,\"ticks\":\"\"},\"colorscale\":[[0.0,\"#0d0887\"],[0.1111111111111111,\"#46039f\"],[0.2222222222222222,\"#7201a8\"],[0.3333333333333333,\"#9c179e\"],[0.4444444444444444,\"#bd3786\"],[0.5555555555555556,\"#d8576b\"],[0.6666666666666666,\"#ed7953\"],[0.7777777777777778,\"#fb9f3a\"],[0.8888888888888888,\"#fdca26\"],[1.0,\"#f0f921\"]],\"type\":\"histogram2d\"}],\"histogram2dcontour\":[{\"colorbar\":{\"outlinewidth\":0,\"ticks\":\"\"},\"colorscale\":[[0.0,\"#0d0887\"],[0.1111111111111111,\"#46039f\"],[0.2222222222222222,\"#7201a8\"],[0.3333333333333333,\"#9c179e\"],[0.4444444444444444,\"#bd3786\"],[0.5555555555555556,\"#d8576b\"],[0.6666666666666666,\"#ed7953\"],[0.7777777777777778,\"#fb9f3a\"],[0.8888888888888888,\"#fdca26\"],[1.0,\"#f0f921\"]],\"type\":\"histogram2dcontour\"}],\"mesh3d\":[{\"colorbar\":{\"outlinewidth\":0,\"ticks\":\"\"},\"type\":\"mesh3d\"}],\"parcoords\":[{\"line\":{\"colorbar\":{\"outlinewidth\":0,\"ticks\":\"\"}},\"type\":\"parcoords\"}],\"pie\":[{\"automargin\":true,\"type\":\"pie\"}],\"scatter\":[{\"marker\":{\"colorbar\":{\"outlinewidth\":0,\"ticks\":\"\"}},\"type\":\"scatter\"}],\"scatter3d\":[{\"line\":{\"colorbar\":{\"outlinewidth\":0,\"ticks\":\"\"}},\"marker\":{\"colorbar\":{\"outlinewidth\":0,\"ticks\":\"\"}},\"type\":\"scatter3d\"}],\"scattercarpet\":[{\"marker\":{\"colorbar\":{\"outlinewidth\":0,\"ticks\":\"\"}},\"type\":\"scattercarpet\"}],\"scattergeo\":[{\"marker\":{\"colorbar\":{\"outlinewidth\":0,\"ticks\":\"\"}},\"type\":\"scattergeo\"}],\"scattergl\":[{\"marker\":{\"colorbar\":{\"outlinewidth\":0,\"ticks\":\"\"}},\"type\":\"scattergl\"}],\"scattermapbox\":[{\"marker\":{\"colorbar\":{\"outlinewidth\":0,\"ticks\":\"\"}},\"type\":\"scattermapbox\"}],\"scatterpolar\":[{\"marker\":{\"colorbar\":{\"outlinewidth\":0,\"ticks\":\"\"}},\"type\":\"scatterpolar\"}],\"scatterpolargl\":[{\"marker\":{\"colorbar\":{\"outlinewidth\":0,\"ticks\":\"\"}},\"type\":\"scatterpolargl\"}],\"scatterternary\":[{\"marker\":{\"colorbar\":{\"outlinewidth\":0,\"ticks\":\"\"}},\"type\":\"scatterternary\"}],\"surface\":[{\"colorbar\":{\"outlinewidth\":0,\"ticks\":\"\"},\"colorscale\":[[0.0,\"#0d0887\"],[0.1111111111111111,\"#46039f\"],[0.2222222222222222,\"#7201a8\"],[0.3333333333333333,\"#9c179e\"],[0.4444444444444444,\"#bd3786\"],[0.5555555555555556,\"#d8576b\"],[0.6666666666666666,\"#ed7953\"],[0.7777777777777778,\"#fb9f3a\"],[0.8888888888888888,\"#fdca26\"],[1.0,\"#f0f921\"]],\"type\":\"surface\"}],\"table\":[{\"cells\":{\"fill\":{\"color\":\"#EBF0F8\"},\"line\":{\"color\":\"white\"}},\"header\":{\"fill\":{\"color\":\"#C8D4E3\"},\"line\":{\"color\":\"white\"}},\"type\":\"table\"}]},\"layout\":{\"annotationdefaults\":{\"arrowcolor\":\"#2a3f5f\",\"arrowhead\":0,\"arrowwidth\":1},\"autotypenumbers\":\"strict\",\"coloraxis\":{\"colorbar\":{\"outlinewidth\":0,\"ticks\":\"\"}},\"colorscale\":{\"diverging\":[[0,\"#8e0152\"],[0.1,\"#c51b7d\"],[0.2,\"#de77ae\"],[0.3,\"#f1b6da\"],[0.4,\"#fde0ef\"],[0.5,\"#f7f7f7\"],[0.6,\"#e6f5d0\"],[0.7,\"#b8e186\"],[0.8,\"#7fbc41\"],[0.9,\"#4d9221\"],[1,\"#276419\"]],\"sequential\":[[0.0,\"#0d0887\"],[0.1111111111111111,\"#46039f\"],[0.2222222222222222,\"#7201a8\"],[0.3333333333333333,\"#9c179e\"],[0.4444444444444444,\"#bd3786\"],[0.5555555555555556,\"#d8576b\"],[0.6666666666666666,\"#ed7953\"],[0.7777777777777778,\"#fb9f3a\"],[0.8888888888888888,\"#fdca26\"],[1.0,\"#f0f921\"]],\"sequentialminus\":[[0.0,\"#0d0887\"],[0.1111111111111111,\"#46039f\"],[0.2222222222222222,\"#7201a8\"],[0.3333333333333333,\"#9c179e\"],[0.4444444444444444,\"#bd3786\"],[0.5555555555555556,\"#d8576b\"],[0.6666666666666666,\"#ed7953\"],[0.7777777777777778,\"#fb9f3a\"],[0.8888888888888888,\"#fdca26\"],[1.0,\"#f0f921\"]]},\"colorway\":[\"#636efa\",\"#EF553B\",\"#00cc96\",\"#ab63fa\",\"#FFA15A\",\"#19d3f3\",\"#FF6692\",\"#B6E880\",\"#FF97FF\",\"#FECB52\"],\"font\":{\"color\":\"#2a3f5f\"},\"geo\":{\"bgcolor\":\"white\",\"lakecolor\":\"white\",\"landcolor\":\"#E5ECF6\",\"showlakes\":true,\"showland\":true,\"subunitcolor\":\"white\"},\"hoverlabel\":{\"align\":\"left\"},\"hovermode\":\"closest\",\"mapbox\":{\"style\":\"light\"},\"paper_bgcolor\":\"white\",\"plot_bgcolor\":\"#E5ECF6\",\"polar\":{\"angularaxis\":{\"gridcolor\":\"white\",\"linecolor\":\"white\",\"ticks\":\"\"},\"bgcolor\":\"#E5ECF6\",\"radialaxis\":{\"gridcolor\":\"white\",\"linecolor\":\"white\",\"ticks\":\"\"}},\"scene\":{\"xaxis\":{\"backgroundcolor\":\"#E5ECF6\",\"gridcolor\":\"white\",\"gridwidth\":2,\"linecolor\":\"white\",\"showbackground\":true,\"ticks\":\"\",\"zerolinecolor\":\"white\"},\"yaxis\":{\"backgroundcolor\":\"#E5ECF6\",\"gridcolor\":\"white\",\"gridwidth\":2,\"linecolor\":\"white\",\"showbackground\":true,\"ticks\":\"\",\"zerolinecolor\":\"white\"},\"zaxis\":{\"backgroundcolor\":\"#E5ECF6\",\"gridcolor\":\"white\",\"gridwidth\":2,\"linecolor\":\"white\",\"showbackground\":true,\"ticks\":\"\",\"zerolinecolor\":\"white\"}},\"shapedefaults\":{\"line\":{\"color\":\"#2a3f5f\"}},\"ternary\":{\"aaxis\":{\"gridcolor\":\"white\",\"linecolor\":\"white\",\"ticks\":\"\"},\"baxis\":{\"gridcolor\":\"white\",\"linecolor\":\"white\",\"ticks\":\"\"},\"bgcolor\":\"#E5ECF6\",\"caxis\":{\"gridcolor\":\"white\",\"linecolor\":\"white\",\"ticks\":\"\"}},\"title\":{\"x\":0.05},\"xaxis\":{\"automargin\":true,\"gridcolor\":\"white\",\"linecolor\":\"white\",\"ticks\":\"\",\"title\":{\"standoff\":15},\"zerolinecolor\":\"white\",\"zerolinewidth\":2},\"yaxis\":{\"automargin\":true,\"gridcolor\":\"white\",\"linecolor\":\"white\",\"ticks\":\"\",\"title\":{\"standoff\":15},\"zerolinecolor\":\"white\",\"zerolinewidth\":2}}},\"xaxis\":{\"anchor\":\"y\",\"domain\":[0.0,1.0],\"scaleanchor\":\"y\",\"constrain\":\"domain\",\"title\":{\"text\":\"Head\"}},\"yaxis\":{\"anchor\":\"x\",\"domain\":[0.0,1.0],\"autorange\":\"reversed\",\"constrain\":\"domain\",\"title\":{\"text\":\"Layer\"}},\"coloraxis\":{\"colorscale\":[[0.0,\"rgb(247,251,255)\"],[0.125,\"rgb(222,235,247)\"],[0.25,\"rgb(198,219,239)\"],[0.375,\"rgb(158,202,225)\"],[0.5,\"rgb(107,174,214)\"],[0.625,\"rgb(66,146,198)\"],[0.75,\"rgb(33,113,181)\"],[0.875,\"rgb(8,81,156)\"],[1.0,\"rgb(8,48,107)\"]]},\"title\":{\"text\":\"Induction Score Variation after Custom Ablation\"}},                        {\"responsive\": true}                    ).then(function(){\n",
              "                            \n",
              "var gd = document.getElementById('e151a1a3-8ed7-4ca5-8da0-4c1d734b6c53');\n",
              "var x = new MutationObserver(function (mutations, observer) {{\n",
              "        var display = window.getComputedStyle(gd).display;\n",
              "        if (!display || display === 'none') {{\n",
              "            console.log([gd, 'removed!']);\n",
              "            Plotly.purge(gd);\n",
              "            observer.disconnect();\n",
              "        }}\n",
              "}});\n",
              "\n",
              "// Listen for the removal of the full notebook cells\n",
              "var notebookContainer = gd.closest('#notebook-container');\n",
              "if (notebookContainer) {{\n",
              "    x.observe(notebookContainer, {childList: true});\n",
              "}}\n",
              "\n",
              "// Listen for the clearing of the current output cell\n",
              "var outputEl = gd.closest('.output');\n",
              "if (outputEl) {{\n",
              "    x.observe(outputEl, {childList: true});\n",
              "}}\n",
              "\n",
              "                        })                };                            </script>        </div>\n",
              "</body>\n",
              "</html>"
            ]
          },
          "metadata": {}
        }
      ],
      "source": [
        "def sym_mean(z, mean, hook):\n",
        "    return mean - (z - mean)\n",
        "\n",
        "\n",
        "metric = ExperimentMetric(induction_loss, rand_tokens_repeat, relative_metric=True)\n",
        "config = AblationConfig(\n",
        "    abl_type=\"custom\",\n",
        "    abl_fn=sym_mean,\n",
        "    target_module=\"attn_head\",\n",
        "    head_circuit=\"v\",\n",
        "    cache_means=True,\n",
        "    verbose=False,\n",
        ")\n",
        "abl = EasyAblation(model, config, metric)\n",
        "result = abl.run_ablation()\n",
        "fig = px.imshow(\n",
        "    result,\n",
        "    labels={\"y\": \"Layer\", \"x\": \"Head\"},\n",
        "    color_continuous_scale=\"Blues\",\n",
        "    title=\"Induction Score Variation after Custom Ablation\",\n",
        ")\n",
        "# fig.update_xtick()\n",
        "fig.show()"
      ]
    },
    {
      "cell_type": "markdown",
      "metadata": {
        "id": "6vBqPKnHIUx6"
      },
      "source": [
        "## Patching experiments"
      ]
    },
    {
      "cell_type": "markdown",
      "metadata": {
        "id": "pw3TaC78IUx6"
      },
      "source": [
        "We can also run patching experiment were we take activation from a source dataset and copy them in the model while processing the target dataset. We can then mesure wich module causes the model to change its output.\n",
        "Similarly to the `EasyAblation`, we use an `EasyPatching` object that depends on a `PatchingConfig` and an `ExperimentMetric`.\n",
        "\n",
        "In the example bellow we can locate which head influences the predicted next token at \"founded\" to got from \"Microsoft\" to \"Apple\" if the sentence is \"Bill Gates founded\". It seems that head 10.0 plays the major role here, by only changing its activation we can make the next token prediction switch from \"Microsoft\" to \"Apple\"."
      ]
    },
    {
      "cell_type": "code",
      "execution_count": 33,
      "metadata": {
        "colab": {
          "base_uri": "https://localhost:8080/",
          "height": 579
        },
        "id": "KLCbZM0yIUx7",
        "outputId": "a90c7220-c1dd-43ef-d0fd-9cc052cacf2d"
      },
      "outputs": [
        {
          "output_type": "stream",
          "name": "stderr",
          "text": [
            "WARNING:root:cache_all is deprecated and will eventually be removed, use add_caching_hooks or run_with_cache\n",
            "100%|██████████| 12/12 [00:28<00:00,  2.37s/it]\n"
          ]
        },
        {
          "output_type": "display_data",
          "data": {
            "text/html": [
              "<html>\n",
              "<head><meta charset=\"utf-8\" /></head>\n",
              "<body>\n",
              "    <div>            <script src=\"https://cdnjs.cloudflare.com/ajax/libs/mathjax/2.7.5/MathJax.js?config=TeX-AMS-MML_SVG\"></script><script type=\"text/javascript\">if (window.MathJax) {MathJax.Hub.Config({SVG: {font: \"STIX-Web\"}});}</script>                <script type=\"text/javascript\">window.PlotlyConfig = {MathJaxConfig: 'local'};</script>\n",
              "        <script src=\"https://cdn.plot.ly/plotly-2.8.3.min.js\"></script>                <div id=\"91570ebe-a737-49d3-a851-b87a3ce4bf29\" class=\"plotly-graph-div\" style=\"height:525px; width:100%;\"></div>            <script type=\"text/javascript\">                                    window.PLOTLYENV=window.PLOTLYENV || {};                                    if (document.getElementById(\"91570ebe-a737-49d3-a851-b87a3ce4bf29\")) {                    Plotly.newPlot(                        \"91570ebe-a737-49d3-a851-b87a3ce4bf29\",                        [{\"coloraxis\":\"coloraxis\",\"name\":\"0\",\"z\":[[0.6488771438598633,0.5744242668151855,0.6290364265441895,0.6221466064453125,0.5451202392578125,0.5578951835632324,0.647179126739502,0.8530135154724121,0.6614818572998047,0.6567440032958984,0.6823592185974121,0.7170009613037109],[0.6941447257995605,0.6684246063232422,0.6638689041137695,0.6744871139526367,0.6681609153747559,0.6649847030639648,0.6578073501586914,0.6814570426940918,0.6562881469726562,0.6675324440002441,0.6965365409851074,0.6690897941589355],[0.6591434478759766,0.6742825508117676,0.7084736824035645,0.6809744834899902,0.6721577644348145,0.6716175079345703,0.6560807228088379,0.6800131797790527,0.6431107521057129,0.6812992095947266,0.6628475189208984,0.6678948402404785],[0.6741771697998047,0.66033935546875,0.6640810966491699,0.6541600227355957,0.6527271270751953,0.6927318572998047,0.6571211814880371,0.6876273155212402,0.6618337631225586,0.6576604843139648,0.6758441925048828,0.6519370079040527],[0.6661028861999512,0.6720695495605469,0.6428971290588379,0.6828804016113281,0.6519651412963867,0.6692771911621094,0.6794233322143555,0.6650733947753906,0.6538281440734863,0.6611566543579102,0.7282543182373047,0.7223763465881348],[0.6623015403747559,0.6641921997070312,0.6756653785705566,0.6597456932067871,0.661712646484375,0.6648654937744141,0.6664681434631348,0.6604204177856445,0.6615138053894043,0.6747512817382812,0.5744338035583496,0.6771588325500488],[0.6540317535400391,0.6657619476318359,0.6819286346435547,0.6635885238647461,0.6290073394775391,0.6593637466430664,0.6585321426391602,0.6554508209228516,0.6738977432250977,0.6633667945861816,0.65521240234375,0.6665205955505371],[0.6670217514038086,0.6614260673522949,0.6611623764038086,0.662106990814209,0.665684700012207,0.6149911880493164,0.6993875503540039,0.6600804328918457,0.6595253944396973,0.6644001007080078,0.6572222709655762,0.6609487533569336],[0.6679978370666504,0.6560611724853516,0.652155876159668,0.6646246910095215,0.6531286239624023,0.6583294868469238,0.6559748649597168,0.657618522644043,0.671485424041748,0.6564517021179199,0.6917939186096191,0.5306944847106934],[0.6434721946716309,0.6635937690734863,0.6657657623291016,0.6503725051879883,0.6580591201782227,0.6873698234558105,0.6293106079101562,0.6744594573974609,0.48038625717163086,0.6301026344299316,0.6687650680541992,0.6564540863037109],[0.2765188217163086,0.6659140586853027,0.6610946655273438,0.6418967247009277,0.6689414978027344,0.6197662353515625,0.6362004280090332,0.7116384506225586,0.6710500717163086,0.6858987808227539,0.6460590362548828,0.655848503112793],[0.7617206573486328,0.663482666015625,0.5205864906311035,0.5740213394165039,0.6757397651672363,0.667388916015625,0.6579489707946777,0.6551060676574707,0.6933817863464355,0.6645960807800293,0.7143068313598633,0.6424379348754883]],\"type\":\"heatmap\",\"xaxis\":\"x\",\"yaxis\":\"y\",\"hovertemplate\":\"Head: %{x}<br>Layer: %{y}<br>color: %{z}<extra></extra>\"}],                        {\"template\":{\"data\":{\"bar\":[{\"error_x\":{\"color\":\"#2a3f5f\"},\"error_y\":{\"color\":\"#2a3f5f\"},\"marker\":{\"line\":{\"color\":\"#E5ECF6\",\"width\":0.5},\"pattern\":{\"fillmode\":\"overlay\",\"size\":10,\"solidity\":0.2}},\"type\":\"bar\"}],\"barpolar\":[{\"marker\":{\"line\":{\"color\":\"#E5ECF6\",\"width\":0.5},\"pattern\":{\"fillmode\":\"overlay\",\"size\":10,\"solidity\":0.2}},\"type\":\"barpolar\"}],\"carpet\":[{\"aaxis\":{\"endlinecolor\":\"#2a3f5f\",\"gridcolor\":\"white\",\"linecolor\":\"white\",\"minorgridcolor\":\"white\",\"startlinecolor\":\"#2a3f5f\"},\"baxis\":{\"endlinecolor\":\"#2a3f5f\",\"gridcolor\":\"white\",\"linecolor\":\"white\",\"minorgridcolor\":\"white\",\"startlinecolor\":\"#2a3f5f\"},\"type\":\"carpet\"}],\"choropleth\":[{\"colorbar\":{\"outlinewidth\":0,\"ticks\":\"\"},\"type\":\"choropleth\"}],\"contour\":[{\"colorbar\":{\"outlinewidth\":0,\"ticks\":\"\"},\"colorscale\":[[0.0,\"#0d0887\"],[0.1111111111111111,\"#46039f\"],[0.2222222222222222,\"#7201a8\"],[0.3333333333333333,\"#9c179e\"],[0.4444444444444444,\"#bd3786\"],[0.5555555555555556,\"#d8576b\"],[0.6666666666666666,\"#ed7953\"],[0.7777777777777778,\"#fb9f3a\"],[0.8888888888888888,\"#fdca26\"],[1.0,\"#f0f921\"]],\"type\":\"contour\"}],\"contourcarpet\":[{\"colorbar\":{\"outlinewidth\":0,\"ticks\":\"\"},\"type\":\"contourcarpet\"}],\"heatmap\":[{\"colorbar\":{\"outlinewidth\":0,\"ticks\":\"\"},\"colorscale\":[[0.0,\"#0d0887\"],[0.1111111111111111,\"#46039f\"],[0.2222222222222222,\"#7201a8\"],[0.3333333333333333,\"#9c179e\"],[0.4444444444444444,\"#bd3786\"],[0.5555555555555556,\"#d8576b\"],[0.6666666666666666,\"#ed7953\"],[0.7777777777777778,\"#fb9f3a\"],[0.8888888888888888,\"#fdca26\"],[1.0,\"#f0f921\"]],\"type\":\"heatmap\"}],\"heatmapgl\":[{\"colorbar\":{\"outlinewidth\":0,\"ticks\":\"\"},\"colorscale\":[[0.0,\"#0d0887\"],[0.1111111111111111,\"#46039f\"],[0.2222222222222222,\"#7201a8\"],[0.3333333333333333,\"#9c179e\"],[0.4444444444444444,\"#bd3786\"],[0.5555555555555556,\"#d8576b\"],[0.6666666666666666,\"#ed7953\"],[0.7777777777777778,\"#fb9f3a\"],[0.8888888888888888,\"#fdca26\"],[1.0,\"#f0f921\"]],\"type\":\"heatmapgl\"}],\"histogram\":[{\"marker\":{\"pattern\":{\"fillmode\":\"overlay\",\"size\":10,\"solidity\":0.2}},\"type\":\"histogram\"}],\"histogram2d\":[{\"colorbar\":{\"outlinewidth\":0,\"ticks\":\"\"},\"colorscale\":[[0.0,\"#0d0887\"],[0.1111111111111111,\"#46039f\"],[0.2222222222222222,\"#7201a8\"],[0.3333333333333333,\"#9c179e\"],[0.4444444444444444,\"#bd3786\"],[0.5555555555555556,\"#d8576b\"],[0.6666666666666666,\"#ed7953\"],[0.7777777777777778,\"#fb9f3a\"],[0.8888888888888888,\"#fdca26\"],[1.0,\"#f0f921\"]],\"type\":\"histogram2d\"}],\"histogram2dcontour\":[{\"colorbar\":{\"outlinewidth\":0,\"ticks\":\"\"},\"colorscale\":[[0.0,\"#0d0887\"],[0.1111111111111111,\"#46039f\"],[0.2222222222222222,\"#7201a8\"],[0.3333333333333333,\"#9c179e\"],[0.4444444444444444,\"#bd3786\"],[0.5555555555555556,\"#d8576b\"],[0.6666666666666666,\"#ed7953\"],[0.7777777777777778,\"#fb9f3a\"],[0.8888888888888888,\"#fdca26\"],[1.0,\"#f0f921\"]],\"type\":\"histogram2dcontour\"}],\"mesh3d\":[{\"colorbar\":{\"outlinewidth\":0,\"ticks\":\"\"},\"type\":\"mesh3d\"}],\"parcoords\":[{\"line\":{\"colorbar\":{\"outlinewidth\":0,\"ticks\":\"\"}},\"type\":\"parcoords\"}],\"pie\":[{\"automargin\":true,\"type\":\"pie\"}],\"scatter\":[{\"marker\":{\"colorbar\":{\"outlinewidth\":0,\"ticks\":\"\"}},\"type\":\"scatter\"}],\"scatter3d\":[{\"line\":{\"colorbar\":{\"outlinewidth\":0,\"ticks\":\"\"}},\"marker\":{\"colorbar\":{\"outlinewidth\":0,\"ticks\":\"\"}},\"type\":\"scatter3d\"}],\"scattercarpet\":[{\"marker\":{\"colorbar\":{\"outlinewidth\":0,\"ticks\":\"\"}},\"type\":\"scattercarpet\"}],\"scattergeo\":[{\"marker\":{\"colorbar\":{\"outlinewidth\":0,\"ticks\":\"\"}},\"type\":\"scattergeo\"}],\"scattergl\":[{\"marker\":{\"colorbar\":{\"outlinewidth\":0,\"ticks\":\"\"}},\"type\":\"scattergl\"}],\"scattermapbox\":[{\"marker\":{\"colorbar\":{\"outlinewidth\":0,\"ticks\":\"\"}},\"type\":\"scattermapbox\"}],\"scatterpolar\":[{\"marker\":{\"colorbar\":{\"outlinewidth\":0,\"ticks\":\"\"}},\"type\":\"scatterpolar\"}],\"scatterpolargl\":[{\"marker\":{\"colorbar\":{\"outlinewidth\":0,\"ticks\":\"\"}},\"type\":\"scatterpolargl\"}],\"scatterternary\":[{\"marker\":{\"colorbar\":{\"outlinewidth\":0,\"ticks\":\"\"}},\"type\":\"scatterternary\"}],\"surface\":[{\"colorbar\":{\"outlinewidth\":0,\"ticks\":\"\"},\"colorscale\":[[0.0,\"#0d0887\"],[0.1111111111111111,\"#46039f\"],[0.2222222222222222,\"#7201a8\"],[0.3333333333333333,\"#9c179e\"],[0.4444444444444444,\"#bd3786\"],[0.5555555555555556,\"#d8576b\"],[0.6666666666666666,\"#ed7953\"],[0.7777777777777778,\"#fb9f3a\"],[0.8888888888888888,\"#fdca26\"],[1.0,\"#f0f921\"]],\"type\":\"surface\"}],\"table\":[{\"cells\":{\"fill\":{\"color\":\"#EBF0F8\"},\"line\":{\"color\":\"white\"}},\"header\":{\"fill\":{\"color\":\"#C8D4E3\"},\"line\":{\"color\":\"white\"}},\"type\":\"table\"}]},\"layout\":{\"annotationdefaults\":{\"arrowcolor\":\"#2a3f5f\",\"arrowhead\":0,\"arrowwidth\":1},\"autotypenumbers\":\"strict\",\"coloraxis\":{\"colorbar\":{\"outlinewidth\":0,\"ticks\":\"\"}},\"colorscale\":{\"diverging\":[[0,\"#8e0152\"],[0.1,\"#c51b7d\"],[0.2,\"#de77ae\"],[0.3,\"#f1b6da\"],[0.4,\"#fde0ef\"],[0.5,\"#f7f7f7\"],[0.6,\"#e6f5d0\"],[0.7,\"#b8e186\"],[0.8,\"#7fbc41\"],[0.9,\"#4d9221\"],[1,\"#276419\"]],\"sequential\":[[0.0,\"#0d0887\"],[0.1111111111111111,\"#46039f\"],[0.2222222222222222,\"#7201a8\"],[0.3333333333333333,\"#9c179e\"],[0.4444444444444444,\"#bd3786\"],[0.5555555555555556,\"#d8576b\"],[0.6666666666666666,\"#ed7953\"],[0.7777777777777778,\"#fb9f3a\"],[0.8888888888888888,\"#fdca26\"],[1.0,\"#f0f921\"]],\"sequentialminus\":[[0.0,\"#0d0887\"],[0.1111111111111111,\"#46039f\"],[0.2222222222222222,\"#7201a8\"],[0.3333333333333333,\"#9c179e\"],[0.4444444444444444,\"#bd3786\"],[0.5555555555555556,\"#d8576b\"],[0.6666666666666666,\"#ed7953\"],[0.7777777777777778,\"#fb9f3a\"],[0.8888888888888888,\"#fdca26\"],[1.0,\"#f0f921\"]]},\"colorway\":[\"#636efa\",\"#EF553B\",\"#00cc96\",\"#ab63fa\",\"#FFA15A\",\"#19d3f3\",\"#FF6692\",\"#B6E880\",\"#FF97FF\",\"#FECB52\"],\"font\":{\"color\":\"#2a3f5f\"},\"geo\":{\"bgcolor\":\"white\",\"lakecolor\":\"white\",\"landcolor\":\"#E5ECF6\",\"showlakes\":true,\"showland\":true,\"subunitcolor\":\"white\"},\"hoverlabel\":{\"align\":\"left\"},\"hovermode\":\"closest\",\"mapbox\":{\"style\":\"light\"},\"paper_bgcolor\":\"white\",\"plot_bgcolor\":\"#E5ECF6\",\"polar\":{\"angularaxis\":{\"gridcolor\":\"white\",\"linecolor\":\"white\",\"ticks\":\"\"},\"bgcolor\":\"#E5ECF6\",\"radialaxis\":{\"gridcolor\":\"white\",\"linecolor\":\"white\",\"ticks\":\"\"}},\"scene\":{\"xaxis\":{\"backgroundcolor\":\"#E5ECF6\",\"gridcolor\":\"white\",\"gridwidth\":2,\"linecolor\":\"white\",\"showbackground\":true,\"ticks\":\"\",\"zerolinecolor\":\"white\"},\"yaxis\":{\"backgroundcolor\":\"#E5ECF6\",\"gridcolor\":\"white\",\"gridwidth\":2,\"linecolor\":\"white\",\"showbackground\":true,\"ticks\":\"\",\"zerolinecolor\":\"white\"},\"zaxis\":{\"backgroundcolor\":\"#E5ECF6\",\"gridcolor\":\"white\",\"gridwidth\":2,\"linecolor\":\"white\",\"showbackground\":true,\"ticks\":\"\",\"zerolinecolor\":\"white\"}},\"shapedefaults\":{\"line\":{\"color\":\"#2a3f5f\"}},\"ternary\":{\"aaxis\":{\"gridcolor\":\"white\",\"linecolor\":\"white\",\"ticks\":\"\"},\"baxis\":{\"gridcolor\":\"white\",\"linecolor\":\"white\",\"ticks\":\"\"},\"bgcolor\":\"#E5ECF6\",\"caxis\":{\"gridcolor\":\"white\",\"linecolor\":\"white\",\"ticks\":\"\"}},\"title\":{\"x\":0.05},\"xaxis\":{\"automargin\":true,\"gridcolor\":\"white\",\"linecolor\":\"white\",\"ticks\":\"\",\"title\":{\"standoff\":15},\"zerolinecolor\":\"white\",\"zerolinewidth\":2},\"yaxis\":{\"automargin\":true,\"gridcolor\":\"white\",\"linecolor\":\"white\",\"ticks\":\"\",\"title\":{\"standoff\":15},\"zerolinecolor\":\"white\",\"zerolinewidth\":2}}},\"xaxis\":{\"anchor\":\"y\",\"domain\":[0.0,1.0],\"scaleanchor\":\"y\",\"constrain\":\"domain\",\"title\":{\"text\":\"Head\"}},\"yaxis\":{\"anchor\":\"x\",\"domain\":[0.0,1.0],\"autorange\":\"reversed\",\"constrain\":\"domain\",\"title\":{\"text\":\"Layer\"}},\"coloraxis\":{\"colorscale\":[[0.0,\"rgb(247,251,255)\"],[0.125,\"rgb(222,235,247)\"],[0.25,\"rgb(198,219,239)\"],[0.375,\"rgb(158,202,225)\"],[0.5,\"rgb(107,174,214)\"],[0.625,\"rgb(66,146,198)\"],[0.75,\"rgb(33,113,181)\"],[0.875,\"rgb(8,81,156)\"],[1.0,\"rgb(8,48,107)\"]]},\"title\":{\"text\":\"Absolute Log Logit Prob Difference After Patching\"}},                        {\"responsive\": true}                    ).then(function(){\n",
              "                            \n",
              "var gd = document.getElementById('91570ebe-a737-49d3-a851-b87a3ce4bf29');\n",
              "var x = new MutationObserver(function (mutations, observer) {{\n",
              "        var display = window.getComputedStyle(gd).display;\n",
              "        if (!display || display === 'none') {{\n",
              "            console.log([gd, 'removed!']);\n",
              "            Plotly.purge(gd);\n",
              "            observer.disconnect();\n",
              "        }}\n",
              "}});\n",
              "\n",
              "// Listen for the removal of the full notebook cells\n",
              "var notebookContainer = gd.closest('#notebook-container');\n",
              "if (notebookContainer) {{\n",
              "    x.observe(notebookContainer, {childList: true});\n",
              "}}\n",
              "\n",
              "// Listen for the clearing of the current output cell\n",
              "var outputEl = gd.closest('.output');\n",
              "if (outputEl) {{\n",
              "    x.observe(outputEl, {childList: true});\n",
              "}}\n",
              "\n",
              "                        })                };                            </script>        </div>\n",
              "</body>\n",
              "</html>"
            ]
          },
          "metadata": {}
        }
      ],
      "source": [
        "from easy_transformer.experiments import EasyPatching, PatchingConfig\n",
        "\n",
        "source_facts = [\"Steve Jobs founded Apple\", \"Bill Gates founded Microsoft\"]\n",
        "target_facts = [\"Bill Gates founded Microsoft\", \"Steve Jobs founded Apple\"]\n",
        "\n",
        "source_labels = [\" Apple\", \" Microsoft\"]\n",
        "target_labels = [\" Microsoft\", \" Apple\"]\n",
        "\n",
        "source_logits = model.to_tokens(source_labels).squeeze()\n",
        "target_logits = model.to_tokens(target_labels).squeeze()\n",
        "\n",
        "tokens_pos = [\n",
        "    2,\n",
        "    2,\n",
        "]  # The position of \"founded\" in the target sentences, where to get the next token prediction\n",
        "\n",
        "\n",
        "def fact_transfer_score(model, target_dataset):\n",
        "    logits = model(target_dataset)\n",
        "    log_probs = F.log_softmax(logits, dim=-1)\n",
        "    logit_diff = (\n",
        "        log_probs[torch.arange(len(target_logits)), tokens_pos, target_logits]\n",
        "        - log_probs[  # logit target - logit source (positive by default)\n",
        "            torch.arange(len(source_logits)), tokens_pos, source_logits\n",
        "        ]\n",
        "    )\n",
        "\n",
        "    return logit_diff.mean()\n",
        "\n",
        "\n",
        "metric = ExperimentMetric(fact_transfer_score, target_facts, relative_metric=False)\n",
        "config = PatchingConfig(\n",
        "    source_dataset=source_facts,\n",
        "    target_dataset=target_facts,\n",
        "    target_module=\"attn_head\",\n",
        "    head_circuit=\"v\",\n",
        "    cache_act=True,\n",
        "    verbose=False,\n",
        ")\n",
        "patching = EasyPatching(model, config, metric)\n",
        "result = patching.run_patching()\n",
        "px.imshow(\n",
        "    result,\n",
        "    labels={\"y\": \"Layer\", \"x\": \"Head\"},\n",
        "    color_continuous_scale=\"Blues\",\n",
        "    title=\"Absolute Log Logit Prob Difference After Patching\",\n",
        ").show()"
      ]
    },
    {
      "cell_type": "markdown",
      "metadata": {
        "id": "VSwOfjXYIUx7"
      },
      "source": [
        "We can be more precise and patch at only certain token position. For that, we can use custom patching functions. Below we show that patching at the last name position is enough to recover the previous plot."
      ]
    },
    {
      "cell_type": "code",
      "execution_count": 34,
      "metadata": {
        "colab": {
          "base_uri": "https://localhost:8080/",
          "height": 579
        },
        "id": "FXJw3hkLIUx7",
        "outputId": "5efd7df0-ef0f-4e7a-bc96-50fb9d160fbd"
      },
      "outputs": [
        {
          "output_type": "stream",
          "name": "stderr",
          "text": [
            "WARNING:root:cache_all is deprecated and will eventually be removed, use add_caching_hooks or run_with_cache\n",
            "100%|██████████| 12/12 [00:28<00:00,  2.38s/it]\n"
          ]
        },
        {
          "output_type": "display_data",
          "data": {
            "text/html": [
              "<html>\n",
              "<head><meta charset=\"utf-8\" /></head>\n",
              "<body>\n",
              "    <div>            <script src=\"https://cdnjs.cloudflare.com/ajax/libs/mathjax/2.7.5/MathJax.js?config=TeX-AMS-MML_SVG\"></script><script type=\"text/javascript\">if (window.MathJax) {MathJax.Hub.Config({SVG: {font: \"STIX-Web\"}});}</script>                <script type=\"text/javascript\">window.PlotlyConfig = {MathJaxConfig: 'local'};</script>\n",
              "        <script src=\"https://cdn.plot.ly/plotly-2.8.3.min.js\"></script>                <div id=\"ffb993d2-14dd-4cc9-b824-bf605d6b0ee2\" class=\"plotly-graph-div\" style=\"height:525px; width:100%;\"></div>            <script type=\"text/javascript\">                                    window.PLOTLYENV=window.PLOTLYENV || {};                                    if (document.getElementById(\"ffb993d2-14dd-4cc9-b824-bf605d6b0ee2\")) {                    Plotly.newPlot(                        \"ffb993d2-14dd-4cc9-b824-bf605d6b0ee2\",                        [{\"coloraxis\":\"coloraxis\",\"name\":\"0\",\"z\":[[0.6590232849121094,0.6659364700317383,0.6706056594848633,0.6858916282653809,0.6231722831726074,0.6586098670959473,0.6658802032470703,0.8554153442382812,0.6571249961853027,0.6602039337158203,0.6710667610168457,0.6913537979125977],[0.698387622833252,0.6682639122009277,0.6625161170959473,0.6704087257385254,0.6717591285705566,0.6654977798461914,0.6587624549865723,0.6772346496582031,0.6603765487670898,0.6633186340332031,0.6862449645996094,0.6613402366638184],[0.6509370803833008,0.6631903648376465,0.7068014144897461,0.6817326545715332,0.6713557243347168,0.6653857231140137,0.6615400314331055,0.6640911102294922,0.6491141319274902,0.6780838966369629,0.6645870208740234,0.6660490036010742],[0.6661028861999512,0.6579866409301758,0.6639161109924316,0.6525392532348633,0.6557517051696777,0.6636056900024414,0.6688838005065918,0.6677331924438477,0.662665843963623,0.6608757972717285,0.666377067565918,0.65093994140625],[0.6669082641601562,0.6675448417663574,0.6424083709716797,0.6707992553710938,0.6690244674682617,0.6551575660705566,0.658912181854248,0.6667690277099609,0.6611990928649902,0.6604132652282715,0.6627874374389648,0.7223777770996094],[0.6640644073486328,0.6644001007080078,0.6766872406005859,0.6665220260620117,0.6641845703125,0.6643223762512207,0.6669325828552246,0.6669106483459473,0.6644983291625977,0.6627941131591797,0.6607761383056641,0.664158821105957],[0.6593546867370605,0.6658034324645996,0.6721200942993164,0.6720485687255859,0.6509008407592773,0.6625218391418457,0.6616950035095215,0.6667633056640625,0.6728119850158691,0.6644830703735352,0.6601171493530273,0.6643476486206055],[0.6679320335388184,0.6640796661376953,0.6643333435058594,0.662447452545166,0.6661224365234375,0.6626105308532715,0.6683001518249512,0.6666803359985352,0.6637735366821289,0.662930965423584,0.6641511917114258,0.6631045341491699],[0.6665735244750977,0.6635966300964355,0.6665058135986328,0.6637434959411621,0.6601448059082031,0.6649913787841797,0.6629123687744141,0.6632590293884277,0.6622014045715332,0.663933277130127,0.6639227867126465,0.6513724327087402],[0.6620731353759766,0.6641912460327148,0.6607789993286133,0.6518168449401855,0.6608514785766602,0.6718716621398926,0.6561899185180664,0.6679573059082031,0.6552815437316895,0.6642661094665527,0.6678338050842285,0.6634974479675293],[0.6016101837158203,0.6641769409179688,0.6673369407653809,0.6651530265808105,0.6666483879089355,0.6629533767700195,0.6601924896240234,0.6632647514343262,0.6643853187561035,0.6702866554260254,0.6560115814208984,0.6669454574584961],[0.6975069046020508,0.65594482421875,0.6583786010742188,0.6614847183227539,0.6632323265075684,0.661259651184082,0.6605243682861328,0.6638846397399902,0.7054924964904785,0.6647481918334961,0.6712408065795898,0.6539316177368164]],\"type\":\"heatmap\",\"xaxis\":\"x\",\"yaxis\":\"y\",\"hovertemplate\":\"Head: %{x}<br>Layer: %{y}<br>color: %{z}<extra></extra>\"}],                        {\"template\":{\"data\":{\"bar\":[{\"error_x\":{\"color\":\"#2a3f5f\"},\"error_y\":{\"color\":\"#2a3f5f\"},\"marker\":{\"line\":{\"color\":\"#E5ECF6\",\"width\":0.5},\"pattern\":{\"fillmode\":\"overlay\",\"size\":10,\"solidity\":0.2}},\"type\":\"bar\"}],\"barpolar\":[{\"marker\":{\"line\":{\"color\":\"#E5ECF6\",\"width\":0.5},\"pattern\":{\"fillmode\":\"overlay\",\"size\":10,\"solidity\":0.2}},\"type\":\"barpolar\"}],\"carpet\":[{\"aaxis\":{\"endlinecolor\":\"#2a3f5f\",\"gridcolor\":\"white\",\"linecolor\":\"white\",\"minorgridcolor\":\"white\",\"startlinecolor\":\"#2a3f5f\"},\"baxis\":{\"endlinecolor\":\"#2a3f5f\",\"gridcolor\":\"white\",\"linecolor\":\"white\",\"minorgridcolor\":\"white\",\"startlinecolor\":\"#2a3f5f\"},\"type\":\"carpet\"}],\"choropleth\":[{\"colorbar\":{\"outlinewidth\":0,\"ticks\":\"\"},\"type\":\"choropleth\"}],\"contour\":[{\"colorbar\":{\"outlinewidth\":0,\"ticks\":\"\"},\"colorscale\":[[0.0,\"#0d0887\"],[0.1111111111111111,\"#46039f\"],[0.2222222222222222,\"#7201a8\"],[0.3333333333333333,\"#9c179e\"],[0.4444444444444444,\"#bd3786\"],[0.5555555555555556,\"#d8576b\"],[0.6666666666666666,\"#ed7953\"],[0.7777777777777778,\"#fb9f3a\"],[0.8888888888888888,\"#fdca26\"],[1.0,\"#f0f921\"]],\"type\":\"contour\"}],\"contourcarpet\":[{\"colorbar\":{\"outlinewidth\":0,\"ticks\":\"\"},\"type\":\"contourcarpet\"}],\"heatmap\":[{\"colorbar\":{\"outlinewidth\":0,\"ticks\":\"\"},\"colorscale\":[[0.0,\"#0d0887\"],[0.1111111111111111,\"#46039f\"],[0.2222222222222222,\"#7201a8\"],[0.3333333333333333,\"#9c179e\"],[0.4444444444444444,\"#bd3786\"],[0.5555555555555556,\"#d8576b\"],[0.6666666666666666,\"#ed7953\"],[0.7777777777777778,\"#fb9f3a\"],[0.8888888888888888,\"#fdca26\"],[1.0,\"#f0f921\"]],\"type\":\"heatmap\"}],\"heatmapgl\":[{\"colorbar\":{\"outlinewidth\":0,\"ticks\":\"\"},\"colorscale\":[[0.0,\"#0d0887\"],[0.1111111111111111,\"#46039f\"],[0.2222222222222222,\"#7201a8\"],[0.3333333333333333,\"#9c179e\"],[0.4444444444444444,\"#bd3786\"],[0.5555555555555556,\"#d8576b\"],[0.6666666666666666,\"#ed7953\"],[0.7777777777777778,\"#fb9f3a\"],[0.8888888888888888,\"#fdca26\"],[1.0,\"#f0f921\"]],\"type\":\"heatmapgl\"}],\"histogram\":[{\"marker\":{\"pattern\":{\"fillmode\":\"overlay\",\"size\":10,\"solidity\":0.2}},\"type\":\"histogram\"}],\"histogram2d\":[{\"colorbar\":{\"outlinewidth\":0,\"ticks\":\"\"},\"colorscale\":[[0.0,\"#0d0887\"],[0.1111111111111111,\"#46039f\"],[0.2222222222222222,\"#7201a8\"],[0.3333333333333333,\"#9c179e\"],[0.4444444444444444,\"#bd3786\"],[0.5555555555555556,\"#d8576b\"],[0.6666666666666666,\"#ed7953\"],[0.7777777777777778,\"#fb9f3a\"],[0.8888888888888888,\"#fdca26\"],[1.0,\"#f0f921\"]],\"type\":\"histogram2d\"}],\"histogram2dcontour\":[{\"colorbar\":{\"outlinewidth\":0,\"ticks\":\"\"},\"colorscale\":[[0.0,\"#0d0887\"],[0.1111111111111111,\"#46039f\"],[0.2222222222222222,\"#7201a8\"],[0.3333333333333333,\"#9c179e\"],[0.4444444444444444,\"#bd3786\"],[0.5555555555555556,\"#d8576b\"],[0.6666666666666666,\"#ed7953\"],[0.7777777777777778,\"#fb9f3a\"],[0.8888888888888888,\"#fdca26\"],[1.0,\"#f0f921\"]],\"type\":\"histogram2dcontour\"}],\"mesh3d\":[{\"colorbar\":{\"outlinewidth\":0,\"ticks\":\"\"},\"type\":\"mesh3d\"}],\"parcoords\":[{\"line\":{\"colorbar\":{\"outlinewidth\":0,\"ticks\":\"\"}},\"type\":\"parcoords\"}],\"pie\":[{\"automargin\":true,\"type\":\"pie\"}],\"scatter\":[{\"marker\":{\"colorbar\":{\"outlinewidth\":0,\"ticks\":\"\"}},\"type\":\"scatter\"}],\"scatter3d\":[{\"line\":{\"colorbar\":{\"outlinewidth\":0,\"ticks\":\"\"}},\"marker\":{\"colorbar\":{\"outlinewidth\":0,\"ticks\":\"\"}},\"type\":\"scatter3d\"}],\"scattercarpet\":[{\"marker\":{\"colorbar\":{\"outlinewidth\":0,\"ticks\":\"\"}},\"type\":\"scattercarpet\"}],\"scattergeo\":[{\"marker\":{\"colorbar\":{\"outlinewidth\":0,\"ticks\":\"\"}},\"type\":\"scattergeo\"}],\"scattergl\":[{\"marker\":{\"colorbar\":{\"outlinewidth\":0,\"ticks\":\"\"}},\"type\":\"scattergl\"}],\"scattermapbox\":[{\"marker\":{\"colorbar\":{\"outlinewidth\":0,\"ticks\":\"\"}},\"type\":\"scattermapbox\"}],\"scatterpolar\":[{\"marker\":{\"colorbar\":{\"outlinewidth\":0,\"ticks\":\"\"}},\"type\":\"scatterpolar\"}],\"scatterpolargl\":[{\"marker\":{\"colorbar\":{\"outlinewidth\":0,\"ticks\":\"\"}},\"type\":\"scatterpolargl\"}],\"scatterternary\":[{\"marker\":{\"colorbar\":{\"outlinewidth\":0,\"ticks\":\"\"}},\"type\":\"scatterternary\"}],\"surface\":[{\"colorbar\":{\"outlinewidth\":0,\"ticks\":\"\"},\"colorscale\":[[0.0,\"#0d0887\"],[0.1111111111111111,\"#46039f\"],[0.2222222222222222,\"#7201a8\"],[0.3333333333333333,\"#9c179e\"],[0.4444444444444444,\"#bd3786\"],[0.5555555555555556,\"#d8576b\"],[0.6666666666666666,\"#ed7953\"],[0.7777777777777778,\"#fb9f3a\"],[0.8888888888888888,\"#fdca26\"],[1.0,\"#f0f921\"]],\"type\":\"surface\"}],\"table\":[{\"cells\":{\"fill\":{\"color\":\"#EBF0F8\"},\"line\":{\"color\":\"white\"}},\"header\":{\"fill\":{\"color\":\"#C8D4E3\"},\"line\":{\"color\":\"white\"}},\"type\":\"table\"}]},\"layout\":{\"annotationdefaults\":{\"arrowcolor\":\"#2a3f5f\",\"arrowhead\":0,\"arrowwidth\":1},\"autotypenumbers\":\"strict\",\"coloraxis\":{\"colorbar\":{\"outlinewidth\":0,\"ticks\":\"\"}},\"colorscale\":{\"diverging\":[[0,\"#8e0152\"],[0.1,\"#c51b7d\"],[0.2,\"#de77ae\"],[0.3,\"#f1b6da\"],[0.4,\"#fde0ef\"],[0.5,\"#f7f7f7\"],[0.6,\"#e6f5d0\"],[0.7,\"#b8e186\"],[0.8,\"#7fbc41\"],[0.9,\"#4d9221\"],[1,\"#276419\"]],\"sequential\":[[0.0,\"#0d0887\"],[0.1111111111111111,\"#46039f\"],[0.2222222222222222,\"#7201a8\"],[0.3333333333333333,\"#9c179e\"],[0.4444444444444444,\"#bd3786\"],[0.5555555555555556,\"#d8576b\"],[0.6666666666666666,\"#ed7953\"],[0.7777777777777778,\"#fb9f3a\"],[0.8888888888888888,\"#fdca26\"],[1.0,\"#f0f921\"]],\"sequentialminus\":[[0.0,\"#0d0887\"],[0.1111111111111111,\"#46039f\"],[0.2222222222222222,\"#7201a8\"],[0.3333333333333333,\"#9c179e\"],[0.4444444444444444,\"#bd3786\"],[0.5555555555555556,\"#d8576b\"],[0.6666666666666666,\"#ed7953\"],[0.7777777777777778,\"#fb9f3a\"],[0.8888888888888888,\"#fdca26\"],[1.0,\"#f0f921\"]]},\"colorway\":[\"#636efa\",\"#EF553B\",\"#00cc96\",\"#ab63fa\",\"#FFA15A\",\"#19d3f3\",\"#FF6692\",\"#B6E880\",\"#FF97FF\",\"#FECB52\"],\"font\":{\"color\":\"#2a3f5f\"},\"geo\":{\"bgcolor\":\"white\",\"lakecolor\":\"white\",\"landcolor\":\"#E5ECF6\",\"showlakes\":true,\"showland\":true,\"subunitcolor\":\"white\"},\"hoverlabel\":{\"align\":\"left\"},\"hovermode\":\"closest\",\"mapbox\":{\"style\":\"light\"},\"paper_bgcolor\":\"white\",\"plot_bgcolor\":\"#E5ECF6\",\"polar\":{\"angularaxis\":{\"gridcolor\":\"white\",\"linecolor\":\"white\",\"ticks\":\"\"},\"bgcolor\":\"#E5ECF6\",\"radialaxis\":{\"gridcolor\":\"white\",\"linecolor\":\"white\",\"ticks\":\"\"}},\"scene\":{\"xaxis\":{\"backgroundcolor\":\"#E5ECF6\",\"gridcolor\":\"white\",\"gridwidth\":2,\"linecolor\":\"white\",\"showbackground\":true,\"ticks\":\"\",\"zerolinecolor\":\"white\"},\"yaxis\":{\"backgroundcolor\":\"#E5ECF6\",\"gridcolor\":\"white\",\"gridwidth\":2,\"linecolor\":\"white\",\"showbackground\":true,\"ticks\":\"\",\"zerolinecolor\":\"white\"},\"zaxis\":{\"backgroundcolor\":\"#E5ECF6\",\"gridcolor\":\"white\",\"gridwidth\":2,\"linecolor\":\"white\",\"showbackground\":true,\"ticks\":\"\",\"zerolinecolor\":\"white\"}},\"shapedefaults\":{\"line\":{\"color\":\"#2a3f5f\"}},\"ternary\":{\"aaxis\":{\"gridcolor\":\"white\",\"linecolor\":\"white\",\"ticks\":\"\"},\"baxis\":{\"gridcolor\":\"white\",\"linecolor\":\"white\",\"ticks\":\"\"},\"bgcolor\":\"#E5ECF6\",\"caxis\":{\"gridcolor\":\"white\",\"linecolor\":\"white\",\"ticks\":\"\"}},\"title\":{\"x\":0.05},\"xaxis\":{\"automargin\":true,\"gridcolor\":\"white\",\"linecolor\":\"white\",\"ticks\":\"\",\"title\":{\"standoff\":15},\"zerolinecolor\":\"white\",\"zerolinewidth\":2},\"yaxis\":{\"automargin\":true,\"gridcolor\":\"white\",\"linecolor\":\"white\",\"ticks\":\"\",\"title\":{\"standoff\":15},\"zerolinecolor\":\"white\",\"zerolinewidth\":2}}},\"xaxis\":{\"anchor\":\"y\",\"domain\":[0.0,1.0],\"scaleanchor\":\"y\",\"constrain\":\"domain\",\"title\":{\"text\":\"Head\"}},\"yaxis\":{\"anchor\":\"x\",\"domain\":[0.0,1.0],\"autorange\":\"reversed\",\"constrain\":\"domain\",\"title\":{\"text\":\"Layer\"}},\"coloraxis\":{\"colorscale\":[[0.0,\"rgb(247,251,255)\"],[0.125,\"rgb(222,235,247)\"],[0.25,\"rgb(198,219,239)\"],[0.375,\"rgb(158,202,225)\"],[0.5,\"rgb(107,174,214)\"],[0.625,\"rgb(66,146,198)\"],[0.75,\"rgb(33,113,181)\"],[0.875,\"rgb(8,81,156)\"],[1.0,\"rgb(8,48,107)\"]]},\"title\":{\"text\":\"Log Logit Prob difference after Patching\"}},                        {\"responsive\": true}                    ).then(function(){\n",
              "                            \n",
              "var gd = document.getElementById('ffb993d2-14dd-4cc9-b824-bf605d6b0ee2');\n",
              "var x = new MutationObserver(function (mutations, observer) {{\n",
              "        var display = window.getComputedStyle(gd).display;\n",
              "        if (!display || display === 'none') {{\n",
              "            console.log([gd, 'removed!']);\n",
              "            Plotly.purge(gd);\n",
              "            observer.disconnect();\n",
              "        }}\n",
              "}});\n",
              "\n",
              "// Listen for the removal of the full notebook cells\n",
              "var notebookContainer = gd.closest('#notebook-container');\n",
              "if (notebookContainer) {{\n",
              "    x.observe(notebookContainer, {childList: true});\n",
              "}}\n",
              "\n",
              "// Listen for the clearing of the current output cell\n",
              "var outputEl = gd.closest('.output');\n",
              "if (outputEl) {{\n",
              "    x.observe(outputEl, {childList: true});\n",
              "}}\n",
              "\n",
              "                        })                };                            </script>        </div>\n",
              "</body>\n",
              "</html>"
            ]
          },
          "metadata": {}
        }
      ],
      "source": [
        "def patch_last_name(z, source_act, hook):\n",
        "    z[:, 1, :] = source_act[:, 1, :]  # We patch at the token of the last name\n",
        "    return z\n",
        "\n",
        "\n",
        "config = PatchingConfig(\n",
        "    source_dataset=source_facts,\n",
        "    target_dataset=target_facts,\n",
        "    patch_fn=patch_last_name,\n",
        "    target_module=\"attn_head\",\n",
        "    head_circuit=\"v\",\n",
        "    cache_act=True,\n",
        "    verbose=False,\n",
        ")\n",
        "patching = EasyPatching(model, config, metric)\n",
        "result = patching.run_patching()\n",
        "px.imshow(\n",
        "    result,\n",
        "    labels={\"y\": \"Layer\", \"x\": \"Head\"},\n",
        "    color_continuous_scale=\"Blues\",\n",
        "    title=\"Log Logit Prob difference after Patching\",\n",
        ").show()"
      ]
    },
    {
      "cell_type": "markdown",
      "metadata": {
        "id": "fL228lpXIUx8"
      },
      "source": [
        "## Loading Checkpointed Models\n",
        "Researchers at the Stanford Center for Research on Foundation Models kindly [created and open sourced 5 training runs of GPT-2 Small and GPT-2 Medium](https://huggingface.co/stanford-crfm), with 600 checkpoints taken during training. These can be loaded in via the same interface as above\n",
        "\n",
        "These are called `stanford-gpt2-small-A`, (with `small` or `medium` and `A`, `B`, `C`, `D`, `E` as the possible options)\n",
        "\n",
        "You can see the available checkpoints [here](https://huggingface.co/stanford-crfm/alias-gpt2-small-x21/tree/main) (each checkpoint has a separate Git branch)"
      ]
    },
    {
      "cell_type": "code",
      "execution_count": 35,
      "metadata": {
        "colab": {
          "base_uri": "https://localhost:8080/"
        },
        "id": "OxCUtgHvIUx8",
        "outputId": "19efd622-4638-4248-924f-039a9d4ccac0"
      },
      "outputs": [
        {
          "output_type": "stream",
          "name": "stdout",
          "text": [
            "Available checkpoints - it's long, so toggle the flag to print\n"
          ]
        }
      ],
      "source": [
        "print_checkpoints = False  # @param [False, True]\n",
        "if print_checkpoints:\n",
        "    print(EasyTransformer.STANFORD_CRFM_CHECKPOINTS)\n",
        "else:\n",
        "    print(\"Available checkpoints - it's long, so toggle the flag to print\")"
      ]
    },
    {
      "cell_type": "markdown",
      "metadata": {
        "id": "6sQu8V0CIUx8"
      },
      "source": [
        "### Looking for induction heads\n",
        "We can use this to analyse whether models contain induction heads during training (by checking whether they can predict repeated sequences of random tokens), and can see something of a phase change early in training"
      ]
    },
    {
      "cell_type": "code",
      "execution_count": 36,
      "metadata": {
        "colab": {
          "base_uri": "https://localhost:8080/",
          "height": 474,
          "referenced_widgets": [
            "2e75afd80eb5466ab410b6223c606a22",
            "758d2f6817d44997b61935b45814a7eb",
            "953dd8db7caa468ca23441da7c7ec62f",
            "2a08e385f049424191056ae50bcb4ed6",
            "bf75ce48555a485da28fe691af7f57f5",
            "25bbc73fa7d54a9c9db3ea3330e5c8aa",
            "7436bdcc745b4a15b1735f7e02bafb36",
            "b3375c5993164f1f8348d433d29a2faa",
            "568d11317bc84151a6a27aedb3eb9d88",
            "b4fb82c2a5f84430865dffda8abbf529",
            "318ff83d18334a4bb8c8179bac4b812d",
            "224fd336fcda4618811e5ee26393c61b",
            "7e045d5216214f86aae4dc40538d0792",
            "3d962a70b7be477ba3493528ebf521d5",
            "5144ce7ff2804e618bbfaa26a3ff6b62",
            "c5261a7f7e134038bf5b9c2d06bfe95c",
            "b5a161b50f30417a831705afed275445",
            "8bd73ae2e849439ea6c5ee3bfc870d3c",
            "d9a49b373f5b40809c2eec9c1859350d",
            "9482cac182ed4708b93690ff32661ced",
            "de90c6a6b1ec41a2a76155d27bfe13c7",
            "26db5dbf575e46b5a7eeb5d0ab59476d"
          ]
        },
        "id": "Dn46d-8pIUx8",
        "outputId": "7f57bf65-4a40-40fd-b288-6db5b123491a"
      },
      "outputs": [
        {
          "output_type": "stream",
          "name": "stdout",
          "text": [
            "Loading model: stanford-gpt2-small-E\n"
          ]
        },
        {
          "output_type": "display_data",
          "data": {
            "text/plain": [
              "Downloading:   0%|          | 0.00/946 [00:00<?, ?B/s]"
            ],
            "application/vnd.jupyter.widget-view+json": {
              "version_major": 2,
              "version_minor": 0,
              "model_id": "2e75afd80eb5466ab410b6223c606a22"
            }
          },
          "metadata": {}
        },
        {
          "output_type": "display_data",
          "data": {
            "text/plain": [
              "Downloading:   0%|          | 0.00/261M [00:00<?, ?B/s]"
            ],
            "application/vnd.jupyter.widget-view+json": {
              "version_major": 2,
              "version_minor": 0,
              "model_id": "224fd336fcda4618811e5ee26393c61b"
            }
          },
          "metadata": {}
        },
        {
          "output_type": "error",
          "ename": "TypeError",
          "evalue": "ignored",
          "traceback": [
            "\u001b[0;31m---------------------------------------------------------------------------\u001b[0m",
            "\u001b[0;31mTypeError\u001b[0m                                 Traceback (most recent call last)",
            "\u001b[0;32m<ipython-input-36-6c1cdce8fb09>\u001b[0m in \u001b[0;36m<module>\u001b[0;34m\u001b[0m\n\u001b[1;32m      4\u001b[0m \u001b[0;32mfor\u001b[0m \u001b[0mcheck\u001b[0m \u001b[0;32min\u001b[0m \u001b[0;34m[\u001b[0m\u001b[0;36m1000\u001b[0m\u001b[0;34m,\u001b[0m \u001b[0;36m2500\u001b[0m\u001b[0;34m,\u001b[0m \u001b[0;36m5000\u001b[0m\u001b[0;34m]\u001b[0m\u001b[0;34m:\u001b[0m\u001b[0;34m\u001b[0m\u001b[0;34m\u001b[0m\u001b[0m\n\u001b[1;32m      5\u001b[0m     checkpointed_model = EasyTransformer.from_pretrained(\n\u001b[0;32m----> 6\u001b[0;31m         \u001b[0;34m\"stanford-gpt2-small-E\"\u001b[0m\u001b[0;34m,\u001b[0m \u001b[0mcheckpoint\u001b[0m\u001b[0;34m=\u001b[0m\u001b[0mcheck\u001b[0m\u001b[0;34m\u001b[0m\u001b[0;34m\u001b[0m\u001b[0m\n\u001b[0m\u001b[1;32m      7\u001b[0m     )\n\u001b[1;32m      8\u001b[0m     \u001b[0mlogits\u001b[0m \u001b[0;34m=\u001b[0m \u001b[0mcheckpointed_model\u001b[0m\u001b[0;34m(\u001b[0m\u001b[0mtokens\u001b[0m\u001b[0;34m)\u001b[0m\u001b[0;34m\u001b[0m\u001b[0;34m\u001b[0m\u001b[0m\n",
            "\u001b[0;32m/usr/local/lib/python3.7/dist-packages/easy_transformer/EasyTransformer.py\u001b[0m in \u001b[0;36mfrom_pretrained\u001b[0;34m(cls, model_name, fold_ln, center_writing_weights, center_unembed, refactor_factored_attn_matrices, checkpoint_index, checkpoint_value, hf_model, device, move_state_dict_to_device, **model_kwargs)\u001b[0m\n\u001b[1;32m    525\u001b[0m \u001b[0;34m\u001b[0m\u001b[0m\n\u001b[1;32m    526\u001b[0m         \u001b[0;31m# Create the EasyTransformer object\u001b[0m\u001b[0;34m\u001b[0m\u001b[0;34m\u001b[0m\u001b[0;34m\u001b[0m\u001b[0m\n\u001b[0;32m--> 527\u001b[0;31m         \u001b[0mmodel\u001b[0m \u001b[0;34m=\u001b[0m \u001b[0mcls\u001b[0m\u001b[0;34m(\u001b[0m\u001b[0mcfg\u001b[0m\u001b[0;34m,\u001b[0m \u001b[0;34m**\u001b[0m\u001b[0mmodel_kwargs\u001b[0m\u001b[0;34m)\u001b[0m\u001b[0;34m\u001b[0m\u001b[0;34m\u001b[0m\u001b[0m\n\u001b[0m\u001b[1;32m    528\u001b[0m \u001b[0;34m\u001b[0m\u001b[0m\n\u001b[1;32m    529\u001b[0m         model.load_and_process_state_dict(\n",
            "\u001b[0;31mTypeError\u001b[0m: __init__() got an unexpected keyword argument 'checkpoint'"
          ]
        }
      ],
      "source": [
        "plps = {}\n",
        "tokens = torch.randint(1000, 20000, (1, 100))\n",
        "tokens = torch.concat([tokens, tokens], axis=1).to(device)\n",
        "for check in [1000, 2500, 5000]:\n",
        "    checkpointed_model = EasyTransformer.from_pretrained(\n",
        "        \"stanford-gpt2-small-E\", checkpoint=check\n",
        "    )\n",
        "    logits = checkpointed_model(tokens)\n",
        "    log_probs = F.log_softmax(logits, dim=-1)\n",
        "    plp = torch.gather(log_probs[:, :-1], -1, tokens[:, 1:, None])[0, :, 0]\n",
        "    plps[check] = plp.detach().cpu().numpy()\n",
        "px.line(plps).show()"
      ]
    },
    {
      "cell_type": "markdown",
      "metadata": {
        "id": "vVgBu2s4IUx8"
      },
      "source": [
        "## Visualisations\n",
        "\n",
        "Visualisations are an extremely important tool for doing good interpretability work - fundamentally, neural networks are complex, high-dimensional objects and we want to understand how to decompose them and understand them. \n",
        "\n",
        "It's important to get as close as you can to the ground truth of what's really going on, and easy to trick yourself and shoot yourself in the foot, so it's hard to get by with just things like summary statistics - which is where data visualisation techniques come in!\n",
        "\n",
        "Visualisations are not currently planned to be part of EasyTransformer, but Anthropic released a very rough library for doing nice and transformer-relevant visualisations within Python called PySvelte, a slightly less rough fork can be found here: https://github.com/neelnanda-io/pysvelte (Note - this library is under active development by a friend of mine and will hopefully be much more stable and usable by October-ish - I don't recommend putting significant effort into understanding how to edit and write your own components unless you already have a bunch of webdev experience). Credit to Oliver Balfour for helping me figure out how to get it to work!"
      ]
    },
    {
      "cell_type": "markdown",
      "metadata": {
        "id": "34h_JtUlIUx8"
      },
      "source": [
        "### Installation"
      ]
    },
    {
      "cell_type": "code",
      "execution_count": null,
      "metadata": {
        "id": "3W5C8omlIUx9"
      },
      "outputs": [],
      "source": [
        "%%capture\n",
        "# Install the right version of node - this is needed to install Svelte which is used to build components\n",
        "# v16, an older version, seems to work more reliably than v18 on the systems I've tried it on.\n",
        "!curl -fsSL https://deb.nodesource.com/setup_16.x | sudo -E bash -; sudo apt-get install -y nodejs\n",
        "# Get an up-to-date PySvelte, deleting old versions if present\n",
        "!touch PySvelte\n",
        "!rm -r PySvelte\n",
        "!git clone https://github.com/neelnanda-io/PySvelte.git\n",
        "import sys\n",
        "\n",
        "sys.path.append(\"/content/PySvelte\")"
      ]
    },
    {
      "cell_type": "code",
      "execution_count": null,
      "metadata": {
        "id": "dYSf9MhSIUx9"
      },
      "outputs": [],
      "source": [
        "import pysvelte\n",
        "import numpy as np"
      ]
    },
    {
      "cell_type": "code",
      "execution_count": null,
      "metadata": {
        "id": "brHX9_aVIUx9"
      },
      "outputs": [],
      "source": [
        "# Running pysvelte the first time will re-compile the Svelte UI code, which might take a while\n",
        "pysvelte.Hello(name=\"World\")"
      ]
    },
    {
      "cell_type": "markdown",
      "metadata": {
        "id": "5A718gJTIUx9"
      },
      "source": [
        "### Visualising Attention Patterns\n",
        "\n",
        "A component to visualise attention patterns over some text. This is a particularly hard problem, as attention patterns are rank 3 tensors - with a destination_pos, source_pos and num_heads dimension. \n",
        "\n",
        "This plots the attention pattern as a dest_pos x source_pos grid in the top left, showing the average across the heads, and along the bottom shows the tokenized text, each token highlighted with the average attention paid to it. \n",
        "\n",
        "Each head gets a colour, and by default the colours are averaged, but we can hover over or click on a head to focus on just that head's colour.\n",
        "\n",
        "If we hover over or click on a token, it instead shows that the shading over other tokens according to attention paid from that token to them.\n",
        "\n",
        "There's a toggle to flip the token view to show tokens attending TO the current token (ie, from later in the sequence attending back)"
      ]
    },
    {
      "cell_type": "code",
      "execution_count": null,
      "metadata": {
        "id": "NJX-sLfzIUx9"
      },
      "outputs": [],
      "source": [
        "model = EasyTransformer.from_pretrained(\"gpt2\")\n",
        "vis_text = \"Help, I live in three dimensions but need to interact with models with too many dimensions!! Help, I live in three dimensions but need to interact with models with too many dimensions!\"\n",
        "logits, vis_cache = model.run_with_cache(vis_text)"
      ]
    },
    {
      "cell_type": "code",
      "execution_count": null,
      "metadata": {
        "id": "UsWyi9wjIUx9"
      },
      "outputs": [],
      "source": [
        "layer = 5\n",
        "attn_pattern = einops.rearrange(\n",
        "    vis_cache[f\"blocks.{layer}.attn.hook_attn\"][0],\n",
        "    \"num_heads dest_pos src_pos -> dest_pos src_pos num_heads\",\n",
        ")  # Indexing into shape [batch, n_heads, dest_pos, src_pos]\n",
        "\n",
        "tokenized_text = model.to_str_tokens(vis_text)\n",
        "html_object = pysvelte.AttentionMulti(\n",
        "    tokens=tokenized_text, attention=attn_pattern, head_labels=None\n",
        ")\n",
        "html_object.show()"
      ]
    },
    {
      "cell_type": "markdown",
      "metadata": {
        "id": "JSQ2xzvCIUx-"
      },
      "source": [
        "Earlier we saw that layer 5 contained some induction heads - can you figure out what they are from the above diagram? \n",
        "\n",
        "(Hint: What should the attention pattern visualised as a grid for each head look like?)\n",
        "\n",
        "\n",
        "<details> <summary> Answer: </summary> Heads 1 and 5 strongly, head 0 weakly. Weirdly, head 8 seems somewhat induction-y here, but wasn't at all earlier - I'm not sure what's happening here, if you figure it out then please let me know! </details>"
      ]
    },
    {
      "cell_type": "markdown",
      "metadata": {
        "id": "Qh533oB5IUx-"
      },
      "source": [
        "### Visualising Neuron Activations\n",
        "\n",
        "We can also plot neuron activations over text - we input a list of the token in the text, and 1D array of activations, one per token. \n",
        "\n",
        "Positive activations are coloured green and negative are red, and it's automatically normalised to be in [-1, 1] (the max and min are printed at the top)\n",
        "\n",
        "(This currently just supports activations for a single neuron, though wouldn't be too hard to extend)"
      ]
    },
    {
      "cell_type": "code",
      "execution_count": null,
      "metadata": {
        "id": "zgSQfyYpIUx-"
      },
      "outputs": [],
      "source": [
        "layer = 7\n",
        "neuron = 124\n",
        "neuron_activations = vis_cache[f\"blocks.{layer}.mlp.hook_post\"][\n",
        "    0, :, neuron\n",
        "]  # Indexing into shape [batch, pos, d_mlp]\n",
        "\n",
        "html_object = pysvelte.TextSingle(\n",
        "    tokens=tokenized_text, activations=neuron_activations, neuron_name=\"Test neuron\"\n",
        ")\n",
        "html_object.show()"
      ]
    },
    {
      "cell_type": "markdown",
      "metadata": {
        "id": "9zp2nwBmIUx-"
      },
      "source": [
        "## Training an Algorithmic Model\n",
        "\n",
        "EasyTransformer also supports passing in custom config and initialising weights to create your own model. This isn't optimised for performance, so is likely best for training small LMs or small transformers for algorithmic tasks.\n",
        "\n",
        "We demonstrate training a (very!) small model to predict a string of consecutive numbers (with a random initial offset)"
      ]
    },
    {
      "cell_type": "code",
      "execution_count": null,
      "metadata": {
        "id": "-EGoQop1IUx-"
      },
      "outputs": [],
      "source": [
        "tiny_cfg = EasyTransformerConfig(\n",
        "    d_model=32,\n",
        "    d_head=16,\n",
        "    n_heads=2,\n",
        "    d_mlp=128,\n",
        "    n_layers=1,\n",
        "    n_ctx=50,\n",
        "    act_fn=\"solu_ln\",\n",
        "    d_vocab=150,\n",
        "    normalization_type=\"LN\",\n",
        "    seed=23,  # Now we're training a custom model, it's good to set the seed to get reproducible results. It defaults to 42.\n",
        ")\n",
        "\n",
        "tiny_model = EasyTransformer(tiny_cfg).to(device)\n",
        "tiny_optimizer = torch.optim.Adam(tiny_model.parameters(), lr=1e-3)\n",
        "batch_size = 20\n",
        "num_epochs = 301"
      ]
    },
    {
      "cell_type": "code",
      "execution_count": null,
      "metadata": {
        "id": "ate02c2fIUx_"
      },
      "outputs": [],
      "source": [
        "for epoch in tqdm.tqdm(range(301)):\n",
        "    batch_offset = torch.randint(0, 100, (20,))\n",
        "    range_over_ctx = torch.arange(tiny_model.cfg.n_ctx)\n",
        "    # Fancy indexing to get a batch of consecutive tokens, with each row starting with batch_offset\n",
        "    batch = batch_offset[:, None] + range_over_ctx[None, :]\n",
        "    loss = tiny_model(batch, return_type=\"loss\")\n",
        "    loss.backward()\n",
        "    tiny_optimizer.step()\n",
        "    tiny_optimizer.zero_grad()\n",
        "    if epoch % 100 == 0:\n",
        "        print(f\"Epoch: {epoch}. Loss: {loss}\")"
      ]
    },
    {
      "cell_type": "code",
      "execution_count": null,
      "metadata": {
        "id": "JdS7NCqRIUx_"
      },
      "outputs": [],
      "source": [
        "loss, tiny_cache = tiny_model.run_with_cache(batch, return_type=\"loss\")"
      ]
    },
    {
      "cell_type": "markdown",
      "metadata": {
        "id": "kp8_coHzIUx_"
      },
      "source": [
        "## Training a Language Model\n",
        "\n",
        "Though EasyTransformer is not designed for high-performance model training, we provide some utilities for training small language models.\n",
        "\n",
        "See train.py for an example training script, the following is how to use it for a simple training task:"
      ]
    },
    {
      "cell_type": "code",
      "execution_count": null,
      "metadata": {
        "id": "iITt6-mnIUx_"
      },
      "outputs": [],
      "source": [
        "micro_gpt_cfg = EasyTransformerConfig(\n",
        "    d_model=64,\n",
        "    d_head=32,\n",
        "    n_heads=2,\n",
        "    d_mlp=256,\n",
        "    n_layers=3,\n",
        "    n_ctx=512,\n",
        "    act_fn=\"gelu_new\",\n",
        "    normalization_type=\"LN\",\n",
        "    tokenizer_name=\"EleutherAI/gpt-neox-20b\",\n",
        ")\n",
        "micro_gpt = EasyTransformer(micro_gpt_cfg)"
      ]
    },
    {
      "cell_type": "markdown",
      "metadata": {
        "id": "zNo5_VA_IUx_"
      },
      "source": [
        "We download 10K samples of the Pile (via a small utility dataset on HuggingFace), and use a utility to tokenize them, concatenate them (separated by EOS tokens), and reshape them into batches of size n_ctx"
      ]
    },
    {
      "cell_type": "code",
      "execution_count": null,
      "metadata": {
        "id": "tF-6Pl_7IUx_"
      },
      "outputs": [],
      "source": [
        "dataset = datasets.load_dataset(\"NeelNanda/pile-10k\", split=\"train\")\n",
        "dataset = easy_transformer.utils.tokenize_and_concatenate(\n",
        "    dataset, micro_gpt.tokenizer, max_length=micro_gpt.cfg.n_ctx, add_bos_token=False\n",
        ")"
      ]
    },
    {
      "cell_type": "markdown",
      "metadata": {
        "id": "fpRUvNi8IUyA"
      },
      "source": [
        "As an example, we train our tiny model for 500 steps, of batch size 2, with AdamW"
      ]
    },
    {
      "cell_type": "code",
      "execution_count": null,
      "metadata": {
        "id": "P1TXF5iyIUyA"
      },
      "outputs": [],
      "source": [
        "training_cfg = easy_transformer.train.EasyTransformerTrainConfig(\n",
        "    num_epochs=1,\n",
        "    batch_size=2,\n",
        "    weight_decay=0.01,\n",
        "    optimizer_name=\"AdamW\",\n",
        "    max_steps=500,\n",
        ")\n",
        "micro_gpt = easy_transformer.train.train(micro_gpt, training_cfg, dataset)"
      ]
    },
    {
      "cell_type": "code",
      "execution_count": null,
      "metadata": {
        "id": "FTt4eDZUIUyA"
      },
      "outputs": [],
      "source": [
        "from neel.imports import *"
      ]
    },
    {
      "cell_type": "markdown",
      "metadata": {
        "id": "YmuQ8fLoIUyA"
      },
      "source": [
        "## Generating Text\n",
        "\n",
        "This isn't a core feature of the library, but is pretty useful to have! A key move in both ML and interpretability is to really get your hands dirty, play around with your models and your data, and try to understand what's going on. Generating a bunch of text and playing around is a good way to engage with that.\n",
        "\n",
        "\n",
        "Thanks to Ansh Rahhakrishnan for adding this feature!"
      ]
    },
    {
      "cell_type": "code",
      "execution_count": null,
      "metadata": {
        "id": "guX1VVhaIUyA"
      },
      "outputs": [],
      "source": [
        "model = EasyTransformer.from_pretrained(\"gpt2-medium\")"
      ]
    },
    {
      "cell_type": "code",
      "execution_count": null,
      "metadata": {
        "id": "SFQwWz05IUyB"
      },
      "outputs": [],
      "source": [
        "prompt = \"The following work gives an insightful and original solution to the alignment problem:\"\n",
        "model.generate(prompt, max_new_tokens=50, temperature=0.9, top_k=5)"
      ]
    },
    {
      "cell_type": "code",
      "execution_count": null,
      "metadata": {
        "id": "Xlv1umfLIUyB"
      },
      "outputs": [],
      "source": []
    }
  ],
  "metadata": {
    "kernelspec": {
      "display_name": "Python 3.9.12 ('base')",
      "language": "python",
      "name": "python3"
    },
    "language_info": {
      "codemirror_mode": {
        "name": "ipython",
        "version": 3
      },
      "file_extension": ".py",
      "mimetype": "text/x-python",
      "name": "python",
      "nbconvert_exporter": "python",
      "pygments_lexer": "ipython3",
      "version": "3.9.12"
    },
    "vscode": {
      "interpreter": {
        "hash": "8859a5491331dba93123a91c2831400aced845b502848170e05fcb48b2c144be"
      }
    },
    "colab": {
      "provenance": [],
      "include_colab_link": true
    },
    "widgets": {
      "application/vnd.jupyter.widget-state+json": {
        "92b600bd4b024b33ba52f802143e40b7": {
          "model_module": "@jupyter-widgets/controls",
          "model_name": "HBoxModel",
          "model_module_version": "1.5.0",
          "state": {
            "_dom_classes": [],
            "_model_module": "@jupyter-widgets/controls",
            "_model_module_version": "1.5.0",
            "_model_name": "HBoxModel",
            "_view_count": null,
            "_view_module": "@jupyter-widgets/controls",
            "_view_module_version": "1.5.0",
            "_view_name": "HBoxView",
            "box_style": "",
            "children": [
              "IPY_MODEL_ba3a813175b741ba903049715646cfcc",
              "IPY_MODEL_8fd580e8dfb84c6fb7bb9e241ba35eb6",
              "IPY_MODEL_5dec855700b340f3b302ee198e339bc9"
            ],
            "layout": "IPY_MODEL_1110a14ccac247eaafdbd75b3f4345c7"
          }
        },
        "ba3a813175b741ba903049715646cfcc": {
          "model_module": "@jupyter-widgets/controls",
          "model_name": "HTMLModel",
          "model_module_version": "1.5.0",
          "state": {
            "_dom_classes": [],
            "_model_module": "@jupyter-widgets/controls",
            "_model_module_version": "1.5.0",
            "_model_name": "HTMLModel",
            "_view_count": null,
            "_view_module": "@jupyter-widgets/controls",
            "_view_module_version": "1.5.0",
            "_view_name": "HTMLView",
            "description": "",
            "description_tooltip": null,
            "layout": "IPY_MODEL_32ed7fc465e848a0a822524f17190b99",
            "placeholder": "​",
            "style": "IPY_MODEL_aaa89c28c5a84b08a47bd28661ba636a",
            "value": "Downloading: 100%"
          }
        },
        "8fd580e8dfb84c6fb7bb9e241ba35eb6": {
          "model_module": "@jupyter-widgets/controls",
          "model_name": "FloatProgressModel",
          "model_module_version": "1.5.0",
          "state": {
            "_dom_classes": [],
            "_model_module": "@jupyter-widgets/controls",
            "_model_module_version": "1.5.0",
            "_model_name": "FloatProgressModel",
            "_view_count": null,
            "_view_module": "@jupyter-widgets/controls",
            "_view_module_version": "1.5.0",
            "_view_name": "ProgressView",
            "bar_style": "success",
            "description": "",
            "description_tooltip": null,
            "layout": "IPY_MODEL_b10d97ecbe3749bfab3d39b2356450e4",
            "max": 665,
            "min": 0,
            "orientation": "horizontal",
            "style": "IPY_MODEL_cf2fe6de6cdc481d9da7bce86cd2386e",
            "value": 665
          }
        },
        "5dec855700b340f3b302ee198e339bc9": {
          "model_module": "@jupyter-widgets/controls",
          "model_name": "HTMLModel",
          "model_module_version": "1.5.0",
          "state": {
            "_dom_classes": [],
            "_model_module": "@jupyter-widgets/controls",
            "_model_module_version": "1.5.0",
            "_model_name": "HTMLModel",
            "_view_count": null,
            "_view_module": "@jupyter-widgets/controls",
            "_view_module_version": "1.5.0",
            "_view_name": "HTMLView",
            "description": "",
            "description_tooltip": null,
            "layout": "IPY_MODEL_519d69ce6e964d48b5c3b3f51e3400ea",
            "placeholder": "​",
            "style": "IPY_MODEL_15cdff93eaae48ab9d1249dc694118d3",
            "value": " 665/665 [00:00&lt;00:00, 14.7kB/s]"
          }
        },
        "1110a14ccac247eaafdbd75b3f4345c7": {
          "model_module": "@jupyter-widgets/base",
          "model_name": "LayoutModel",
          "model_module_version": "1.2.0",
          "state": {
            "_model_module": "@jupyter-widgets/base",
            "_model_module_version": "1.2.0",
            "_model_name": "LayoutModel",
            "_view_count": null,
            "_view_module": "@jupyter-widgets/base",
            "_view_module_version": "1.2.0",
            "_view_name": "LayoutView",
            "align_content": null,
            "align_items": null,
            "align_self": null,
            "border": null,
            "bottom": null,
            "display": null,
            "flex": null,
            "flex_flow": null,
            "grid_area": null,
            "grid_auto_columns": null,
            "grid_auto_flow": null,
            "grid_auto_rows": null,
            "grid_column": null,
            "grid_gap": null,
            "grid_row": null,
            "grid_template_areas": null,
            "grid_template_columns": null,
            "grid_template_rows": null,
            "height": null,
            "justify_content": null,
            "justify_items": null,
            "left": null,
            "margin": null,
            "max_height": null,
            "max_width": null,
            "min_height": null,
            "min_width": null,
            "object_fit": null,
            "object_position": null,
            "order": null,
            "overflow": null,
            "overflow_x": null,
            "overflow_y": null,
            "padding": null,
            "right": null,
            "top": null,
            "visibility": null,
            "width": null
          }
        },
        "32ed7fc465e848a0a822524f17190b99": {
          "model_module": "@jupyter-widgets/base",
          "model_name": "LayoutModel",
          "model_module_version": "1.2.0",
          "state": {
            "_model_module": "@jupyter-widgets/base",
            "_model_module_version": "1.2.0",
            "_model_name": "LayoutModel",
            "_view_count": null,
            "_view_module": "@jupyter-widgets/base",
            "_view_module_version": "1.2.0",
            "_view_name": "LayoutView",
            "align_content": null,
            "align_items": null,
            "align_self": null,
            "border": null,
            "bottom": null,
            "display": null,
            "flex": null,
            "flex_flow": null,
            "grid_area": null,
            "grid_auto_columns": null,
            "grid_auto_flow": null,
            "grid_auto_rows": null,
            "grid_column": null,
            "grid_gap": null,
            "grid_row": null,
            "grid_template_areas": null,
            "grid_template_columns": null,
            "grid_template_rows": null,
            "height": null,
            "justify_content": null,
            "justify_items": null,
            "left": null,
            "margin": null,
            "max_height": null,
            "max_width": null,
            "min_height": null,
            "min_width": null,
            "object_fit": null,
            "object_position": null,
            "order": null,
            "overflow": null,
            "overflow_x": null,
            "overflow_y": null,
            "padding": null,
            "right": null,
            "top": null,
            "visibility": null,
            "width": null
          }
        },
        "aaa89c28c5a84b08a47bd28661ba636a": {
          "model_module": "@jupyter-widgets/controls",
          "model_name": "DescriptionStyleModel",
          "model_module_version": "1.5.0",
          "state": {
            "_model_module": "@jupyter-widgets/controls",
            "_model_module_version": "1.5.0",
            "_model_name": "DescriptionStyleModel",
            "_view_count": null,
            "_view_module": "@jupyter-widgets/base",
            "_view_module_version": "1.2.0",
            "_view_name": "StyleView",
            "description_width": ""
          }
        },
        "b10d97ecbe3749bfab3d39b2356450e4": {
          "model_module": "@jupyter-widgets/base",
          "model_name": "LayoutModel",
          "model_module_version": "1.2.0",
          "state": {
            "_model_module": "@jupyter-widgets/base",
            "_model_module_version": "1.2.0",
            "_model_name": "LayoutModel",
            "_view_count": null,
            "_view_module": "@jupyter-widgets/base",
            "_view_module_version": "1.2.0",
            "_view_name": "LayoutView",
            "align_content": null,
            "align_items": null,
            "align_self": null,
            "border": null,
            "bottom": null,
            "display": null,
            "flex": null,
            "flex_flow": null,
            "grid_area": null,
            "grid_auto_columns": null,
            "grid_auto_flow": null,
            "grid_auto_rows": null,
            "grid_column": null,
            "grid_gap": null,
            "grid_row": null,
            "grid_template_areas": null,
            "grid_template_columns": null,
            "grid_template_rows": null,
            "height": null,
            "justify_content": null,
            "justify_items": null,
            "left": null,
            "margin": null,
            "max_height": null,
            "max_width": null,
            "min_height": null,
            "min_width": null,
            "object_fit": null,
            "object_position": null,
            "order": null,
            "overflow": null,
            "overflow_x": null,
            "overflow_y": null,
            "padding": null,
            "right": null,
            "top": null,
            "visibility": null,
            "width": null
          }
        },
        "cf2fe6de6cdc481d9da7bce86cd2386e": {
          "model_module": "@jupyter-widgets/controls",
          "model_name": "ProgressStyleModel",
          "model_module_version": "1.5.0",
          "state": {
            "_model_module": "@jupyter-widgets/controls",
            "_model_module_version": "1.5.0",
            "_model_name": "ProgressStyleModel",
            "_view_count": null,
            "_view_module": "@jupyter-widgets/base",
            "_view_module_version": "1.2.0",
            "_view_name": "StyleView",
            "bar_color": null,
            "description_width": ""
          }
        },
        "519d69ce6e964d48b5c3b3f51e3400ea": {
          "model_module": "@jupyter-widgets/base",
          "model_name": "LayoutModel",
          "model_module_version": "1.2.0",
          "state": {
            "_model_module": "@jupyter-widgets/base",
            "_model_module_version": "1.2.0",
            "_model_name": "LayoutModel",
            "_view_count": null,
            "_view_module": "@jupyter-widgets/base",
            "_view_module_version": "1.2.0",
            "_view_name": "LayoutView",
            "align_content": null,
            "align_items": null,
            "align_self": null,
            "border": null,
            "bottom": null,
            "display": null,
            "flex": null,
            "flex_flow": null,
            "grid_area": null,
            "grid_auto_columns": null,
            "grid_auto_flow": null,
            "grid_auto_rows": null,
            "grid_column": null,
            "grid_gap": null,
            "grid_row": null,
            "grid_template_areas": null,
            "grid_template_columns": null,
            "grid_template_rows": null,
            "height": null,
            "justify_content": null,
            "justify_items": null,
            "left": null,
            "margin": null,
            "max_height": null,
            "max_width": null,
            "min_height": null,
            "min_width": null,
            "object_fit": null,
            "object_position": null,
            "order": null,
            "overflow": null,
            "overflow_x": null,
            "overflow_y": null,
            "padding": null,
            "right": null,
            "top": null,
            "visibility": null,
            "width": null
          }
        },
        "15cdff93eaae48ab9d1249dc694118d3": {
          "model_module": "@jupyter-widgets/controls",
          "model_name": "DescriptionStyleModel",
          "model_module_version": "1.5.0",
          "state": {
            "_model_module": "@jupyter-widgets/controls",
            "_model_module_version": "1.5.0",
            "_model_name": "DescriptionStyleModel",
            "_view_count": null,
            "_view_module": "@jupyter-widgets/base",
            "_view_module_version": "1.2.0",
            "_view_name": "StyleView",
            "description_width": ""
          }
        },
        "a10b128df126491cb1ef280fbe6604cd": {
          "model_module": "@jupyter-widgets/controls",
          "model_name": "HBoxModel",
          "model_module_version": "1.5.0",
          "state": {
            "_dom_classes": [],
            "_model_module": "@jupyter-widgets/controls",
            "_model_module_version": "1.5.0",
            "_model_name": "HBoxModel",
            "_view_count": null,
            "_view_module": "@jupyter-widgets/controls",
            "_view_module_version": "1.5.0",
            "_view_name": "HBoxView",
            "box_style": "",
            "children": [
              "IPY_MODEL_d270441e56eb4874ba19ae5d4fdfacd9",
              "IPY_MODEL_f2030beba2454398ac6258c65b61ea3c",
              "IPY_MODEL_478dc00d90614b1eae995fd56610d642"
            ],
            "layout": "IPY_MODEL_9e46b5c18334422a80f3f846b359ed79"
          }
        },
        "d270441e56eb4874ba19ae5d4fdfacd9": {
          "model_module": "@jupyter-widgets/controls",
          "model_name": "HTMLModel",
          "model_module_version": "1.5.0",
          "state": {
            "_dom_classes": [],
            "_model_module": "@jupyter-widgets/controls",
            "_model_module_version": "1.5.0",
            "_model_name": "HTMLModel",
            "_view_count": null,
            "_view_module": "@jupyter-widgets/controls",
            "_view_module_version": "1.5.0",
            "_view_name": "HTMLView",
            "description": "",
            "description_tooltip": null,
            "layout": "IPY_MODEL_74392ea59b3146a6adcf0139b1d4feee",
            "placeholder": "​",
            "style": "IPY_MODEL_1776688ab3584976b16d60bcb3577263",
            "value": "Downloading: 100%"
          }
        },
        "f2030beba2454398ac6258c65b61ea3c": {
          "model_module": "@jupyter-widgets/controls",
          "model_name": "FloatProgressModel",
          "model_module_version": "1.5.0",
          "state": {
            "_dom_classes": [],
            "_model_module": "@jupyter-widgets/controls",
            "_model_module_version": "1.5.0",
            "_model_name": "FloatProgressModel",
            "_view_count": null,
            "_view_module": "@jupyter-widgets/controls",
            "_view_module_version": "1.5.0",
            "_view_name": "ProgressView",
            "bar_style": "success",
            "description": "",
            "description_tooltip": null,
            "layout": "IPY_MODEL_4326c93f2bb34762bfdad92574365fb0",
            "max": 548118077,
            "min": 0,
            "orientation": "horizontal",
            "style": "IPY_MODEL_46624a24912d4143b498fc3b0de9e14d",
            "value": 548118077
          }
        },
        "478dc00d90614b1eae995fd56610d642": {
          "model_module": "@jupyter-widgets/controls",
          "model_name": "HTMLModel",
          "model_module_version": "1.5.0",
          "state": {
            "_dom_classes": [],
            "_model_module": "@jupyter-widgets/controls",
            "_model_module_version": "1.5.0",
            "_model_name": "HTMLModel",
            "_view_count": null,
            "_view_module": "@jupyter-widgets/controls",
            "_view_module_version": "1.5.0",
            "_view_name": "HTMLView",
            "description": "",
            "description_tooltip": null,
            "layout": "IPY_MODEL_d6a68a406186436eaf12f0d4a61a7b11",
            "placeholder": "​",
            "style": "IPY_MODEL_1f537f1fcd4d42498d59441107f2335f",
            "value": " 548M/548M [00:24&lt;00:00, 22.1MB/s]"
          }
        },
        "9e46b5c18334422a80f3f846b359ed79": {
          "model_module": "@jupyter-widgets/base",
          "model_name": "LayoutModel",
          "model_module_version": "1.2.0",
          "state": {
            "_model_module": "@jupyter-widgets/base",
            "_model_module_version": "1.2.0",
            "_model_name": "LayoutModel",
            "_view_count": null,
            "_view_module": "@jupyter-widgets/base",
            "_view_module_version": "1.2.0",
            "_view_name": "LayoutView",
            "align_content": null,
            "align_items": null,
            "align_self": null,
            "border": null,
            "bottom": null,
            "display": null,
            "flex": null,
            "flex_flow": null,
            "grid_area": null,
            "grid_auto_columns": null,
            "grid_auto_flow": null,
            "grid_auto_rows": null,
            "grid_column": null,
            "grid_gap": null,
            "grid_row": null,
            "grid_template_areas": null,
            "grid_template_columns": null,
            "grid_template_rows": null,
            "height": null,
            "justify_content": null,
            "justify_items": null,
            "left": null,
            "margin": null,
            "max_height": null,
            "max_width": null,
            "min_height": null,
            "min_width": null,
            "object_fit": null,
            "object_position": null,
            "order": null,
            "overflow": null,
            "overflow_x": null,
            "overflow_y": null,
            "padding": null,
            "right": null,
            "top": null,
            "visibility": null,
            "width": null
          }
        },
        "74392ea59b3146a6adcf0139b1d4feee": {
          "model_module": "@jupyter-widgets/base",
          "model_name": "LayoutModel",
          "model_module_version": "1.2.0",
          "state": {
            "_model_module": "@jupyter-widgets/base",
            "_model_module_version": "1.2.0",
            "_model_name": "LayoutModel",
            "_view_count": null,
            "_view_module": "@jupyter-widgets/base",
            "_view_module_version": "1.2.0",
            "_view_name": "LayoutView",
            "align_content": null,
            "align_items": null,
            "align_self": null,
            "border": null,
            "bottom": null,
            "display": null,
            "flex": null,
            "flex_flow": null,
            "grid_area": null,
            "grid_auto_columns": null,
            "grid_auto_flow": null,
            "grid_auto_rows": null,
            "grid_column": null,
            "grid_gap": null,
            "grid_row": null,
            "grid_template_areas": null,
            "grid_template_columns": null,
            "grid_template_rows": null,
            "height": null,
            "justify_content": null,
            "justify_items": null,
            "left": null,
            "margin": null,
            "max_height": null,
            "max_width": null,
            "min_height": null,
            "min_width": null,
            "object_fit": null,
            "object_position": null,
            "order": null,
            "overflow": null,
            "overflow_x": null,
            "overflow_y": null,
            "padding": null,
            "right": null,
            "top": null,
            "visibility": null,
            "width": null
          }
        },
        "1776688ab3584976b16d60bcb3577263": {
          "model_module": "@jupyter-widgets/controls",
          "model_name": "DescriptionStyleModel",
          "model_module_version": "1.5.0",
          "state": {
            "_model_module": "@jupyter-widgets/controls",
            "_model_module_version": "1.5.0",
            "_model_name": "DescriptionStyleModel",
            "_view_count": null,
            "_view_module": "@jupyter-widgets/base",
            "_view_module_version": "1.2.0",
            "_view_name": "StyleView",
            "description_width": ""
          }
        },
        "4326c93f2bb34762bfdad92574365fb0": {
          "model_module": "@jupyter-widgets/base",
          "model_name": "LayoutModel",
          "model_module_version": "1.2.0",
          "state": {
            "_model_module": "@jupyter-widgets/base",
            "_model_module_version": "1.2.0",
            "_model_name": "LayoutModel",
            "_view_count": null,
            "_view_module": "@jupyter-widgets/base",
            "_view_module_version": "1.2.0",
            "_view_name": "LayoutView",
            "align_content": null,
            "align_items": null,
            "align_self": null,
            "border": null,
            "bottom": null,
            "display": null,
            "flex": null,
            "flex_flow": null,
            "grid_area": null,
            "grid_auto_columns": null,
            "grid_auto_flow": null,
            "grid_auto_rows": null,
            "grid_column": null,
            "grid_gap": null,
            "grid_row": null,
            "grid_template_areas": null,
            "grid_template_columns": null,
            "grid_template_rows": null,
            "height": null,
            "justify_content": null,
            "justify_items": null,
            "left": null,
            "margin": null,
            "max_height": null,
            "max_width": null,
            "min_height": null,
            "min_width": null,
            "object_fit": null,
            "object_position": null,
            "order": null,
            "overflow": null,
            "overflow_x": null,
            "overflow_y": null,
            "padding": null,
            "right": null,
            "top": null,
            "visibility": null,
            "width": null
          }
        },
        "46624a24912d4143b498fc3b0de9e14d": {
          "model_module": "@jupyter-widgets/controls",
          "model_name": "ProgressStyleModel",
          "model_module_version": "1.5.0",
          "state": {
            "_model_module": "@jupyter-widgets/controls",
            "_model_module_version": "1.5.0",
            "_model_name": "ProgressStyleModel",
            "_view_count": null,
            "_view_module": "@jupyter-widgets/base",
            "_view_module_version": "1.2.0",
            "_view_name": "StyleView",
            "bar_color": null,
            "description_width": ""
          }
        },
        "d6a68a406186436eaf12f0d4a61a7b11": {
          "model_module": "@jupyter-widgets/base",
          "model_name": "LayoutModel",
          "model_module_version": "1.2.0",
          "state": {
            "_model_module": "@jupyter-widgets/base",
            "_model_module_version": "1.2.0",
            "_model_name": "LayoutModel",
            "_view_count": null,
            "_view_module": "@jupyter-widgets/base",
            "_view_module_version": "1.2.0",
            "_view_name": "LayoutView",
            "align_content": null,
            "align_items": null,
            "align_self": null,
            "border": null,
            "bottom": null,
            "display": null,
            "flex": null,
            "flex_flow": null,
            "grid_area": null,
            "grid_auto_columns": null,
            "grid_auto_flow": null,
            "grid_auto_rows": null,
            "grid_column": null,
            "grid_gap": null,
            "grid_row": null,
            "grid_template_areas": null,
            "grid_template_columns": null,
            "grid_template_rows": null,
            "height": null,
            "justify_content": null,
            "justify_items": null,
            "left": null,
            "margin": null,
            "max_height": null,
            "max_width": null,
            "min_height": null,
            "min_width": null,
            "object_fit": null,
            "object_position": null,
            "order": null,
            "overflow": null,
            "overflow_x": null,
            "overflow_y": null,
            "padding": null,
            "right": null,
            "top": null,
            "visibility": null,
            "width": null
          }
        },
        "1f537f1fcd4d42498d59441107f2335f": {
          "model_module": "@jupyter-widgets/controls",
          "model_name": "DescriptionStyleModel",
          "model_module_version": "1.5.0",
          "state": {
            "_model_module": "@jupyter-widgets/controls",
            "_model_module_version": "1.5.0",
            "_model_name": "DescriptionStyleModel",
            "_view_count": null,
            "_view_module": "@jupyter-widgets/base",
            "_view_module_version": "1.2.0",
            "_view_name": "StyleView",
            "description_width": ""
          }
        },
        "357db9fb433e492084d36cde7d7f6cb6": {
          "model_module": "@jupyter-widgets/controls",
          "model_name": "HBoxModel",
          "model_module_version": "1.5.0",
          "state": {
            "_dom_classes": [],
            "_model_module": "@jupyter-widgets/controls",
            "_model_module_version": "1.5.0",
            "_model_name": "HBoxModel",
            "_view_count": null,
            "_view_module": "@jupyter-widgets/controls",
            "_view_module_version": "1.5.0",
            "_view_name": "HBoxView",
            "box_style": "",
            "children": [
              "IPY_MODEL_38247fab7a204b25a4594d8ec8d34ab5",
              "IPY_MODEL_14991547f04741b6af35e7f0e53a475c",
              "IPY_MODEL_fd31420870b742939a924e160121635a"
            ],
            "layout": "IPY_MODEL_c282ac40f18446f6935d2ffbe4088660"
          }
        },
        "38247fab7a204b25a4594d8ec8d34ab5": {
          "model_module": "@jupyter-widgets/controls",
          "model_name": "HTMLModel",
          "model_module_version": "1.5.0",
          "state": {
            "_dom_classes": [],
            "_model_module": "@jupyter-widgets/controls",
            "_model_module_version": "1.5.0",
            "_model_name": "HTMLModel",
            "_view_count": null,
            "_view_module": "@jupyter-widgets/controls",
            "_view_module_version": "1.5.0",
            "_view_name": "HTMLView",
            "description": "",
            "description_tooltip": null,
            "layout": "IPY_MODEL_4b86b5fda44c4f66b691b0473d52c080",
            "placeholder": "​",
            "style": "IPY_MODEL_11b8eeba55e34f46af802a0f0cab4a64",
            "value": "Downloading: 100%"
          }
        },
        "14991547f04741b6af35e7f0e53a475c": {
          "model_module": "@jupyter-widgets/controls",
          "model_name": "FloatProgressModel",
          "model_module_version": "1.5.0",
          "state": {
            "_dom_classes": [],
            "_model_module": "@jupyter-widgets/controls",
            "_model_module_version": "1.5.0",
            "_model_name": "FloatProgressModel",
            "_view_count": null,
            "_view_module": "@jupyter-widgets/controls",
            "_view_module_version": "1.5.0",
            "_view_name": "ProgressView",
            "bar_style": "success",
            "description": "",
            "description_tooltip": null,
            "layout": "IPY_MODEL_b21bf32f034043009b93ecefa25206a6",
            "max": 1042301,
            "min": 0,
            "orientation": "horizontal",
            "style": "IPY_MODEL_e47434dc9b204cf69c64d6291f60e33a",
            "value": 1042301
          }
        },
        "fd31420870b742939a924e160121635a": {
          "model_module": "@jupyter-widgets/controls",
          "model_name": "HTMLModel",
          "model_module_version": "1.5.0",
          "state": {
            "_dom_classes": [],
            "_model_module": "@jupyter-widgets/controls",
            "_model_module_version": "1.5.0",
            "_model_name": "HTMLModel",
            "_view_count": null,
            "_view_module": "@jupyter-widgets/controls",
            "_view_module_version": "1.5.0",
            "_view_name": "HTMLView",
            "description": "",
            "description_tooltip": null,
            "layout": "IPY_MODEL_42917b90b94141468f3102b2a1299189",
            "placeholder": "​",
            "style": "IPY_MODEL_c1380d935c504f679181ddbaf9a0f1df",
            "value": " 1.04M/1.04M [00:00&lt;00:00, 936kB/s]"
          }
        },
        "c282ac40f18446f6935d2ffbe4088660": {
          "model_module": "@jupyter-widgets/base",
          "model_name": "LayoutModel",
          "model_module_version": "1.2.0",
          "state": {
            "_model_module": "@jupyter-widgets/base",
            "_model_module_version": "1.2.0",
            "_model_name": "LayoutModel",
            "_view_count": null,
            "_view_module": "@jupyter-widgets/base",
            "_view_module_version": "1.2.0",
            "_view_name": "LayoutView",
            "align_content": null,
            "align_items": null,
            "align_self": null,
            "border": null,
            "bottom": null,
            "display": null,
            "flex": null,
            "flex_flow": null,
            "grid_area": null,
            "grid_auto_columns": null,
            "grid_auto_flow": null,
            "grid_auto_rows": null,
            "grid_column": null,
            "grid_gap": null,
            "grid_row": null,
            "grid_template_areas": null,
            "grid_template_columns": null,
            "grid_template_rows": null,
            "height": null,
            "justify_content": null,
            "justify_items": null,
            "left": null,
            "margin": null,
            "max_height": null,
            "max_width": null,
            "min_height": null,
            "min_width": null,
            "object_fit": null,
            "object_position": null,
            "order": null,
            "overflow": null,
            "overflow_x": null,
            "overflow_y": null,
            "padding": null,
            "right": null,
            "top": null,
            "visibility": null,
            "width": null
          }
        },
        "4b86b5fda44c4f66b691b0473d52c080": {
          "model_module": "@jupyter-widgets/base",
          "model_name": "LayoutModel",
          "model_module_version": "1.2.0",
          "state": {
            "_model_module": "@jupyter-widgets/base",
            "_model_module_version": "1.2.0",
            "_model_name": "LayoutModel",
            "_view_count": null,
            "_view_module": "@jupyter-widgets/base",
            "_view_module_version": "1.2.0",
            "_view_name": "LayoutView",
            "align_content": null,
            "align_items": null,
            "align_self": null,
            "border": null,
            "bottom": null,
            "display": null,
            "flex": null,
            "flex_flow": null,
            "grid_area": null,
            "grid_auto_columns": null,
            "grid_auto_flow": null,
            "grid_auto_rows": null,
            "grid_column": null,
            "grid_gap": null,
            "grid_row": null,
            "grid_template_areas": null,
            "grid_template_columns": null,
            "grid_template_rows": null,
            "height": null,
            "justify_content": null,
            "justify_items": null,
            "left": null,
            "margin": null,
            "max_height": null,
            "max_width": null,
            "min_height": null,
            "min_width": null,
            "object_fit": null,
            "object_position": null,
            "order": null,
            "overflow": null,
            "overflow_x": null,
            "overflow_y": null,
            "padding": null,
            "right": null,
            "top": null,
            "visibility": null,
            "width": null
          }
        },
        "11b8eeba55e34f46af802a0f0cab4a64": {
          "model_module": "@jupyter-widgets/controls",
          "model_name": "DescriptionStyleModel",
          "model_module_version": "1.5.0",
          "state": {
            "_model_module": "@jupyter-widgets/controls",
            "_model_module_version": "1.5.0",
            "_model_name": "DescriptionStyleModel",
            "_view_count": null,
            "_view_module": "@jupyter-widgets/base",
            "_view_module_version": "1.2.0",
            "_view_name": "StyleView",
            "description_width": ""
          }
        },
        "b21bf32f034043009b93ecefa25206a6": {
          "model_module": "@jupyter-widgets/base",
          "model_name": "LayoutModel",
          "model_module_version": "1.2.0",
          "state": {
            "_model_module": "@jupyter-widgets/base",
            "_model_module_version": "1.2.0",
            "_model_name": "LayoutModel",
            "_view_count": null,
            "_view_module": "@jupyter-widgets/base",
            "_view_module_version": "1.2.0",
            "_view_name": "LayoutView",
            "align_content": null,
            "align_items": null,
            "align_self": null,
            "border": null,
            "bottom": null,
            "display": null,
            "flex": null,
            "flex_flow": null,
            "grid_area": null,
            "grid_auto_columns": null,
            "grid_auto_flow": null,
            "grid_auto_rows": null,
            "grid_column": null,
            "grid_gap": null,
            "grid_row": null,
            "grid_template_areas": null,
            "grid_template_columns": null,
            "grid_template_rows": null,
            "height": null,
            "justify_content": null,
            "justify_items": null,
            "left": null,
            "margin": null,
            "max_height": null,
            "max_width": null,
            "min_height": null,
            "min_width": null,
            "object_fit": null,
            "object_position": null,
            "order": null,
            "overflow": null,
            "overflow_x": null,
            "overflow_y": null,
            "padding": null,
            "right": null,
            "top": null,
            "visibility": null,
            "width": null
          }
        },
        "e47434dc9b204cf69c64d6291f60e33a": {
          "model_module": "@jupyter-widgets/controls",
          "model_name": "ProgressStyleModel",
          "model_module_version": "1.5.0",
          "state": {
            "_model_module": "@jupyter-widgets/controls",
            "_model_module_version": "1.5.0",
            "_model_name": "ProgressStyleModel",
            "_view_count": null,
            "_view_module": "@jupyter-widgets/base",
            "_view_module_version": "1.2.0",
            "_view_name": "StyleView",
            "bar_color": null,
            "description_width": ""
          }
        },
        "42917b90b94141468f3102b2a1299189": {
          "model_module": "@jupyter-widgets/base",
          "model_name": "LayoutModel",
          "model_module_version": "1.2.0",
          "state": {
            "_model_module": "@jupyter-widgets/base",
            "_model_module_version": "1.2.0",
            "_model_name": "LayoutModel",
            "_view_count": null,
            "_view_module": "@jupyter-widgets/base",
            "_view_module_version": "1.2.0",
            "_view_name": "LayoutView",
            "align_content": null,
            "align_items": null,
            "align_self": null,
            "border": null,
            "bottom": null,
            "display": null,
            "flex": null,
            "flex_flow": null,
            "grid_area": null,
            "grid_auto_columns": null,
            "grid_auto_flow": null,
            "grid_auto_rows": null,
            "grid_column": null,
            "grid_gap": null,
            "grid_row": null,
            "grid_template_areas": null,
            "grid_template_columns": null,
            "grid_template_rows": null,
            "height": null,
            "justify_content": null,
            "justify_items": null,
            "left": null,
            "margin": null,
            "max_height": null,
            "max_width": null,
            "min_height": null,
            "min_width": null,
            "object_fit": null,
            "object_position": null,
            "order": null,
            "overflow": null,
            "overflow_x": null,
            "overflow_y": null,
            "padding": null,
            "right": null,
            "top": null,
            "visibility": null,
            "width": null
          }
        },
        "c1380d935c504f679181ddbaf9a0f1df": {
          "model_module": "@jupyter-widgets/controls",
          "model_name": "DescriptionStyleModel",
          "model_module_version": "1.5.0",
          "state": {
            "_model_module": "@jupyter-widgets/controls",
            "_model_module_version": "1.5.0",
            "_model_name": "DescriptionStyleModel",
            "_view_count": null,
            "_view_module": "@jupyter-widgets/base",
            "_view_module_version": "1.2.0",
            "_view_name": "StyleView",
            "description_width": ""
          }
        },
        "e2c9eb65f4344723a9cebebbaa350211": {
          "model_module": "@jupyter-widgets/controls",
          "model_name": "HBoxModel",
          "model_module_version": "1.5.0",
          "state": {
            "_dom_classes": [],
            "_model_module": "@jupyter-widgets/controls",
            "_model_module_version": "1.5.0",
            "_model_name": "HBoxModel",
            "_view_count": null,
            "_view_module": "@jupyter-widgets/controls",
            "_view_module_version": "1.5.0",
            "_view_name": "HBoxView",
            "box_style": "",
            "children": [
              "IPY_MODEL_1524bc2df62341b38a042b1158b4e357",
              "IPY_MODEL_a8e37d3a5e1a4a8dbc903ad89f283509",
              "IPY_MODEL_6131b25767ed4a9c8a91b1476a139700"
            ],
            "layout": "IPY_MODEL_a7936a29569b461985577986e527832b"
          }
        },
        "1524bc2df62341b38a042b1158b4e357": {
          "model_module": "@jupyter-widgets/controls",
          "model_name": "HTMLModel",
          "model_module_version": "1.5.0",
          "state": {
            "_dom_classes": [],
            "_model_module": "@jupyter-widgets/controls",
            "_model_module_version": "1.5.0",
            "_model_name": "HTMLModel",
            "_view_count": null,
            "_view_module": "@jupyter-widgets/controls",
            "_view_module_version": "1.5.0",
            "_view_name": "HTMLView",
            "description": "",
            "description_tooltip": null,
            "layout": "IPY_MODEL_94507e0787c44a92ba4f972520d0dbbc",
            "placeholder": "​",
            "style": "IPY_MODEL_10c0b3110ed64bdb9afaa2ecf6b742c0",
            "value": "Downloading: 100%"
          }
        },
        "a8e37d3a5e1a4a8dbc903ad89f283509": {
          "model_module": "@jupyter-widgets/controls",
          "model_name": "FloatProgressModel",
          "model_module_version": "1.5.0",
          "state": {
            "_dom_classes": [],
            "_model_module": "@jupyter-widgets/controls",
            "_model_module_version": "1.5.0",
            "_model_name": "FloatProgressModel",
            "_view_count": null,
            "_view_module": "@jupyter-widgets/controls",
            "_view_module_version": "1.5.0",
            "_view_name": "ProgressView",
            "bar_style": "success",
            "description": "",
            "description_tooltip": null,
            "layout": "IPY_MODEL_cdfd4bc805e34b5e99d9f60e34229c45",
            "max": 456318,
            "min": 0,
            "orientation": "horizontal",
            "style": "IPY_MODEL_d97ea3e5926643679fae3e1e3c8d3162",
            "value": 456318
          }
        },
        "6131b25767ed4a9c8a91b1476a139700": {
          "model_module": "@jupyter-widgets/controls",
          "model_name": "HTMLModel",
          "model_module_version": "1.5.0",
          "state": {
            "_dom_classes": [],
            "_model_module": "@jupyter-widgets/controls",
            "_model_module_version": "1.5.0",
            "_model_name": "HTMLModel",
            "_view_count": null,
            "_view_module": "@jupyter-widgets/controls",
            "_view_module_version": "1.5.0",
            "_view_name": "HTMLView",
            "description": "",
            "description_tooltip": null,
            "layout": "IPY_MODEL_00d16a1cd07149f288a1d4282d928fa9",
            "placeholder": "​",
            "style": "IPY_MODEL_c64e7c699bca489288207c965f13a1cf",
            "value": " 456k/456k [00:00&lt;00:00, 1.82kB/s]"
          }
        },
        "a7936a29569b461985577986e527832b": {
          "model_module": "@jupyter-widgets/base",
          "model_name": "LayoutModel",
          "model_module_version": "1.2.0",
          "state": {
            "_model_module": "@jupyter-widgets/base",
            "_model_module_version": "1.2.0",
            "_model_name": "LayoutModel",
            "_view_count": null,
            "_view_module": "@jupyter-widgets/base",
            "_view_module_version": "1.2.0",
            "_view_name": "LayoutView",
            "align_content": null,
            "align_items": null,
            "align_self": null,
            "border": null,
            "bottom": null,
            "display": null,
            "flex": null,
            "flex_flow": null,
            "grid_area": null,
            "grid_auto_columns": null,
            "grid_auto_flow": null,
            "grid_auto_rows": null,
            "grid_column": null,
            "grid_gap": null,
            "grid_row": null,
            "grid_template_areas": null,
            "grid_template_columns": null,
            "grid_template_rows": null,
            "height": null,
            "justify_content": null,
            "justify_items": null,
            "left": null,
            "margin": null,
            "max_height": null,
            "max_width": null,
            "min_height": null,
            "min_width": null,
            "object_fit": null,
            "object_position": null,
            "order": null,
            "overflow": null,
            "overflow_x": null,
            "overflow_y": null,
            "padding": null,
            "right": null,
            "top": null,
            "visibility": null,
            "width": null
          }
        },
        "94507e0787c44a92ba4f972520d0dbbc": {
          "model_module": "@jupyter-widgets/base",
          "model_name": "LayoutModel",
          "model_module_version": "1.2.0",
          "state": {
            "_model_module": "@jupyter-widgets/base",
            "_model_module_version": "1.2.0",
            "_model_name": "LayoutModel",
            "_view_count": null,
            "_view_module": "@jupyter-widgets/base",
            "_view_module_version": "1.2.0",
            "_view_name": "LayoutView",
            "align_content": null,
            "align_items": null,
            "align_self": null,
            "border": null,
            "bottom": null,
            "display": null,
            "flex": null,
            "flex_flow": null,
            "grid_area": null,
            "grid_auto_columns": null,
            "grid_auto_flow": null,
            "grid_auto_rows": null,
            "grid_column": null,
            "grid_gap": null,
            "grid_row": null,
            "grid_template_areas": null,
            "grid_template_columns": null,
            "grid_template_rows": null,
            "height": null,
            "justify_content": null,
            "justify_items": null,
            "left": null,
            "margin": null,
            "max_height": null,
            "max_width": null,
            "min_height": null,
            "min_width": null,
            "object_fit": null,
            "object_position": null,
            "order": null,
            "overflow": null,
            "overflow_x": null,
            "overflow_y": null,
            "padding": null,
            "right": null,
            "top": null,
            "visibility": null,
            "width": null
          }
        },
        "10c0b3110ed64bdb9afaa2ecf6b742c0": {
          "model_module": "@jupyter-widgets/controls",
          "model_name": "DescriptionStyleModel",
          "model_module_version": "1.5.0",
          "state": {
            "_model_module": "@jupyter-widgets/controls",
            "_model_module_version": "1.5.0",
            "_model_name": "DescriptionStyleModel",
            "_view_count": null,
            "_view_module": "@jupyter-widgets/base",
            "_view_module_version": "1.2.0",
            "_view_name": "StyleView",
            "description_width": ""
          }
        },
        "cdfd4bc805e34b5e99d9f60e34229c45": {
          "model_module": "@jupyter-widgets/base",
          "model_name": "LayoutModel",
          "model_module_version": "1.2.0",
          "state": {
            "_model_module": "@jupyter-widgets/base",
            "_model_module_version": "1.2.0",
            "_model_name": "LayoutModel",
            "_view_count": null,
            "_view_module": "@jupyter-widgets/base",
            "_view_module_version": "1.2.0",
            "_view_name": "LayoutView",
            "align_content": null,
            "align_items": null,
            "align_self": null,
            "border": null,
            "bottom": null,
            "display": null,
            "flex": null,
            "flex_flow": null,
            "grid_area": null,
            "grid_auto_columns": null,
            "grid_auto_flow": null,
            "grid_auto_rows": null,
            "grid_column": null,
            "grid_gap": null,
            "grid_row": null,
            "grid_template_areas": null,
            "grid_template_columns": null,
            "grid_template_rows": null,
            "height": null,
            "justify_content": null,
            "justify_items": null,
            "left": null,
            "margin": null,
            "max_height": null,
            "max_width": null,
            "min_height": null,
            "min_width": null,
            "object_fit": null,
            "object_position": null,
            "order": null,
            "overflow": null,
            "overflow_x": null,
            "overflow_y": null,
            "padding": null,
            "right": null,
            "top": null,
            "visibility": null,
            "width": null
          }
        },
        "d97ea3e5926643679fae3e1e3c8d3162": {
          "model_module": "@jupyter-widgets/controls",
          "model_name": "ProgressStyleModel",
          "model_module_version": "1.5.0",
          "state": {
            "_model_module": "@jupyter-widgets/controls",
            "_model_module_version": "1.5.0",
            "_model_name": "ProgressStyleModel",
            "_view_count": null,
            "_view_module": "@jupyter-widgets/base",
            "_view_module_version": "1.2.0",
            "_view_name": "StyleView",
            "bar_color": null,
            "description_width": ""
          }
        },
        "00d16a1cd07149f288a1d4282d928fa9": {
          "model_module": "@jupyter-widgets/base",
          "model_name": "LayoutModel",
          "model_module_version": "1.2.0",
          "state": {
            "_model_module": "@jupyter-widgets/base",
            "_model_module_version": "1.2.0",
            "_model_name": "LayoutModel",
            "_view_count": null,
            "_view_module": "@jupyter-widgets/base",
            "_view_module_version": "1.2.0",
            "_view_name": "LayoutView",
            "align_content": null,
            "align_items": null,
            "align_self": null,
            "border": null,
            "bottom": null,
            "display": null,
            "flex": null,
            "flex_flow": null,
            "grid_area": null,
            "grid_auto_columns": null,
            "grid_auto_flow": null,
            "grid_auto_rows": null,
            "grid_column": null,
            "grid_gap": null,
            "grid_row": null,
            "grid_template_areas": null,
            "grid_template_columns": null,
            "grid_template_rows": null,
            "height": null,
            "justify_content": null,
            "justify_items": null,
            "left": null,
            "margin": null,
            "max_height": null,
            "max_width": null,
            "min_height": null,
            "min_width": null,
            "object_fit": null,
            "object_position": null,
            "order": null,
            "overflow": null,
            "overflow_x": null,
            "overflow_y": null,
            "padding": null,
            "right": null,
            "top": null,
            "visibility": null,
            "width": null
          }
        },
        "c64e7c699bca489288207c965f13a1cf": {
          "model_module": "@jupyter-widgets/controls",
          "model_name": "DescriptionStyleModel",
          "model_module_version": "1.5.0",
          "state": {
            "_model_module": "@jupyter-widgets/controls",
            "_model_module_version": "1.5.0",
            "_model_name": "DescriptionStyleModel",
            "_view_count": null,
            "_view_module": "@jupyter-widgets/base",
            "_view_module_version": "1.2.0",
            "_view_name": "StyleView",
            "description_width": ""
          }
        },
        "a015f0ec8f7d46099e57f393fd2c4d0f": {
          "model_module": "@jupyter-widgets/controls",
          "model_name": "HBoxModel",
          "model_module_version": "1.5.0",
          "state": {
            "_dom_classes": [],
            "_model_module": "@jupyter-widgets/controls",
            "_model_module_version": "1.5.0",
            "_model_name": "HBoxModel",
            "_view_count": null,
            "_view_module": "@jupyter-widgets/controls",
            "_view_module_version": "1.5.0",
            "_view_name": "HBoxView",
            "box_style": "",
            "children": [
              "IPY_MODEL_d4b48faa12a5453e911345b200889caf",
              "IPY_MODEL_efa4937711284a109b54261b3151517a",
              "IPY_MODEL_d2cdc7cd07074676bd514b32d39a4a89"
            ],
            "layout": "IPY_MODEL_85c460262f8340e88a9d280f5c255331"
          }
        },
        "d4b48faa12a5453e911345b200889caf": {
          "model_module": "@jupyter-widgets/controls",
          "model_name": "HTMLModel",
          "model_module_version": "1.5.0",
          "state": {
            "_dom_classes": [],
            "_model_module": "@jupyter-widgets/controls",
            "_model_module_version": "1.5.0",
            "_model_name": "HTMLModel",
            "_view_count": null,
            "_view_module": "@jupyter-widgets/controls",
            "_view_module_version": "1.5.0",
            "_view_name": "HTMLView",
            "description": "",
            "description_tooltip": null,
            "layout": "IPY_MODEL_35440ce2d36f4761bce1ea8239966b6c",
            "placeholder": "​",
            "style": "IPY_MODEL_3e30bfbefccd45a99a0e3a47d4c3bc12",
            "value": "Downloading: 100%"
          }
        },
        "efa4937711284a109b54261b3151517a": {
          "model_module": "@jupyter-widgets/controls",
          "model_name": "FloatProgressModel",
          "model_module_version": "1.5.0",
          "state": {
            "_dom_classes": [],
            "_model_module": "@jupyter-widgets/controls",
            "_model_module_version": "1.5.0",
            "_model_name": "FloatProgressModel",
            "_view_count": null,
            "_view_module": "@jupyter-widgets/controls",
            "_view_module_version": "1.5.0",
            "_view_name": "ProgressView",
            "bar_style": "success",
            "description": "",
            "description_tooltip": null,
            "layout": "IPY_MODEL_d1cf15c57df244f880833500e9ac8e02",
            "max": 1355256,
            "min": 0,
            "orientation": "horizontal",
            "style": "IPY_MODEL_ffe3077a6333488da1a19221f4968efc",
            "value": 1355256
          }
        },
        "d2cdc7cd07074676bd514b32d39a4a89": {
          "model_module": "@jupyter-widgets/controls",
          "model_name": "HTMLModel",
          "model_module_version": "1.5.0",
          "state": {
            "_dom_classes": [],
            "_model_module": "@jupyter-widgets/controls",
            "_model_module_version": "1.5.0",
            "_model_name": "HTMLModel",
            "_view_count": null,
            "_view_module": "@jupyter-widgets/controls",
            "_view_module_version": "1.5.0",
            "_view_name": "HTMLView",
            "description": "",
            "description_tooltip": null,
            "layout": "IPY_MODEL_f1b7f63cab6742db9073684e295d0bb5",
            "placeholder": "​",
            "style": "IPY_MODEL_c7d01edba45a4f57a96194b45a69f3bd",
            "value": " 1.36M/1.36M [00:00&lt;00:00, 2.46MB/s]"
          }
        },
        "85c460262f8340e88a9d280f5c255331": {
          "model_module": "@jupyter-widgets/base",
          "model_name": "LayoutModel",
          "model_module_version": "1.2.0",
          "state": {
            "_model_module": "@jupyter-widgets/base",
            "_model_module_version": "1.2.0",
            "_model_name": "LayoutModel",
            "_view_count": null,
            "_view_module": "@jupyter-widgets/base",
            "_view_module_version": "1.2.0",
            "_view_name": "LayoutView",
            "align_content": null,
            "align_items": null,
            "align_self": null,
            "border": null,
            "bottom": null,
            "display": null,
            "flex": null,
            "flex_flow": null,
            "grid_area": null,
            "grid_auto_columns": null,
            "grid_auto_flow": null,
            "grid_auto_rows": null,
            "grid_column": null,
            "grid_gap": null,
            "grid_row": null,
            "grid_template_areas": null,
            "grid_template_columns": null,
            "grid_template_rows": null,
            "height": null,
            "justify_content": null,
            "justify_items": null,
            "left": null,
            "margin": null,
            "max_height": null,
            "max_width": null,
            "min_height": null,
            "min_width": null,
            "object_fit": null,
            "object_position": null,
            "order": null,
            "overflow": null,
            "overflow_x": null,
            "overflow_y": null,
            "padding": null,
            "right": null,
            "top": null,
            "visibility": null,
            "width": null
          }
        },
        "35440ce2d36f4761bce1ea8239966b6c": {
          "model_module": "@jupyter-widgets/base",
          "model_name": "LayoutModel",
          "model_module_version": "1.2.0",
          "state": {
            "_model_module": "@jupyter-widgets/base",
            "_model_module_version": "1.2.0",
            "_model_name": "LayoutModel",
            "_view_count": null,
            "_view_module": "@jupyter-widgets/base",
            "_view_module_version": "1.2.0",
            "_view_name": "LayoutView",
            "align_content": null,
            "align_items": null,
            "align_self": null,
            "border": null,
            "bottom": null,
            "display": null,
            "flex": null,
            "flex_flow": null,
            "grid_area": null,
            "grid_auto_columns": null,
            "grid_auto_flow": null,
            "grid_auto_rows": null,
            "grid_column": null,
            "grid_gap": null,
            "grid_row": null,
            "grid_template_areas": null,
            "grid_template_columns": null,
            "grid_template_rows": null,
            "height": null,
            "justify_content": null,
            "justify_items": null,
            "left": null,
            "margin": null,
            "max_height": null,
            "max_width": null,
            "min_height": null,
            "min_width": null,
            "object_fit": null,
            "object_position": null,
            "order": null,
            "overflow": null,
            "overflow_x": null,
            "overflow_y": null,
            "padding": null,
            "right": null,
            "top": null,
            "visibility": null,
            "width": null
          }
        },
        "3e30bfbefccd45a99a0e3a47d4c3bc12": {
          "model_module": "@jupyter-widgets/controls",
          "model_name": "DescriptionStyleModel",
          "model_module_version": "1.5.0",
          "state": {
            "_model_module": "@jupyter-widgets/controls",
            "_model_module_version": "1.5.0",
            "_model_name": "DescriptionStyleModel",
            "_view_count": null,
            "_view_module": "@jupyter-widgets/base",
            "_view_module_version": "1.2.0",
            "_view_name": "StyleView",
            "description_width": ""
          }
        },
        "d1cf15c57df244f880833500e9ac8e02": {
          "model_module": "@jupyter-widgets/base",
          "model_name": "LayoutModel",
          "model_module_version": "1.2.0",
          "state": {
            "_model_module": "@jupyter-widgets/base",
            "_model_module_version": "1.2.0",
            "_model_name": "LayoutModel",
            "_view_count": null,
            "_view_module": "@jupyter-widgets/base",
            "_view_module_version": "1.2.0",
            "_view_name": "LayoutView",
            "align_content": null,
            "align_items": null,
            "align_self": null,
            "border": null,
            "bottom": null,
            "display": null,
            "flex": null,
            "flex_flow": null,
            "grid_area": null,
            "grid_auto_columns": null,
            "grid_auto_flow": null,
            "grid_auto_rows": null,
            "grid_column": null,
            "grid_gap": null,
            "grid_row": null,
            "grid_template_areas": null,
            "grid_template_columns": null,
            "grid_template_rows": null,
            "height": null,
            "justify_content": null,
            "justify_items": null,
            "left": null,
            "margin": null,
            "max_height": null,
            "max_width": null,
            "min_height": null,
            "min_width": null,
            "object_fit": null,
            "object_position": null,
            "order": null,
            "overflow": null,
            "overflow_x": null,
            "overflow_y": null,
            "padding": null,
            "right": null,
            "top": null,
            "visibility": null,
            "width": null
          }
        },
        "ffe3077a6333488da1a19221f4968efc": {
          "model_module": "@jupyter-widgets/controls",
          "model_name": "ProgressStyleModel",
          "model_module_version": "1.5.0",
          "state": {
            "_model_module": "@jupyter-widgets/controls",
            "_model_module_version": "1.5.0",
            "_model_name": "ProgressStyleModel",
            "_view_count": null,
            "_view_module": "@jupyter-widgets/base",
            "_view_module_version": "1.2.0",
            "_view_name": "StyleView",
            "bar_color": null,
            "description_width": ""
          }
        },
        "f1b7f63cab6742db9073684e295d0bb5": {
          "model_module": "@jupyter-widgets/base",
          "model_name": "LayoutModel",
          "model_module_version": "1.2.0",
          "state": {
            "_model_module": "@jupyter-widgets/base",
            "_model_module_version": "1.2.0",
            "_model_name": "LayoutModel",
            "_view_count": null,
            "_view_module": "@jupyter-widgets/base",
            "_view_module_version": "1.2.0",
            "_view_name": "LayoutView",
            "align_content": null,
            "align_items": null,
            "align_self": null,
            "border": null,
            "bottom": null,
            "display": null,
            "flex": null,
            "flex_flow": null,
            "grid_area": null,
            "grid_auto_columns": null,
            "grid_auto_flow": null,
            "grid_auto_rows": null,
            "grid_column": null,
            "grid_gap": null,
            "grid_row": null,
            "grid_template_areas": null,
            "grid_template_columns": null,
            "grid_template_rows": null,
            "height": null,
            "justify_content": null,
            "justify_items": null,
            "left": null,
            "margin": null,
            "max_height": null,
            "max_width": null,
            "min_height": null,
            "min_width": null,
            "object_fit": null,
            "object_position": null,
            "order": null,
            "overflow": null,
            "overflow_x": null,
            "overflow_y": null,
            "padding": null,
            "right": null,
            "top": null,
            "visibility": null,
            "width": null
          }
        },
        "c7d01edba45a4f57a96194b45a69f3bd": {
          "model_module": "@jupyter-widgets/controls",
          "model_name": "DescriptionStyleModel",
          "model_module_version": "1.5.0",
          "state": {
            "_model_module": "@jupyter-widgets/controls",
            "_model_module_version": "1.5.0",
            "_model_name": "DescriptionStyleModel",
            "_view_count": null,
            "_view_module": "@jupyter-widgets/base",
            "_view_module_version": "1.2.0",
            "_view_name": "StyleView",
            "description_width": ""
          }
        },
        "2e75afd80eb5466ab410b6223c606a22": {
          "model_module": "@jupyter-widgets/controls",
          "model_name": "HBoxModel",
          "model_module_version": "1.5.0",
          "state": {
            "_dom_classes": [],
            "_model_module": "@jupyter-widgets/controls",
            "_model_module_version": "1.5.0",
            "_model_name": "HBoxModel",
            "_view_count": null,
            "_view_module": "@jupyter-widgets/controls",
            "_view_module_version": "1.5.0",
            "_view_name": "HBoxView",
            "box_style": "",
            "children": [
              "IPY_MODEL_758d2f6817d44997b61935b45814a7eb",
              "IPY_MODEL_953dd8db7caa468ca23441da7c7ec62f",
              "IPY_MODEL_2a08e385f049424191056ae50bcb4ed6"
            ],
            "layout": "IPY_MODEL_bf75ce48555a485da28fe691af7f57f5"
          }
        },
        "758d2f6817d44997b61935b45814a7eb": {
          "model_module": "@jupyter-widgets/controls",
          "model_name": "HTMLModel",
          "model_module_version": "1.5.0",
          "state": {
            "_dom_classes": [],
            "_model_module": "@jupyter-widgets/controls",
            "_model_module_version": "1.5.0",
            "_model_name": "HTMLModel",
            "_view_count": null,
            "_view_module": "@jupyter-widgets/controls",
            "_view_module_version": "1.5.0",
            "_view_name": "HTMLView",
            "description": "",
            "description_tooltip": null,
            "layout": "IPY_MODEL_25bbc73fa7d54a9c9db3ea3330e5c8aa",
            "placeholder": "​",
            "style": "IPY_MODEL_7436bdcc745b4a15b1735f7e02bafb36",
            "value": "Downloading: 100%"
          }
        },
        "953dd8db7caa468ca23441da7c7ec62f": {
          "model_module": "@jupyter-widgets/controls",
          "model_name": "FloatProgressModel",
          "model_module_version": "1.5.0",
          "state": {
            "_dom_classes": [],
            "_model_module": "@jupyter-widgets/controls",
            "_model_module_version": "1.5.0",
            "_model_name": "FloatProgressModel",
            "_view_count": null,
            "_view_module": "@jupyter-widgets/controls",
            "_view_module_version": "1.5.0",
            "_view_name": "ProgressView",
            "bar_style": "success",
            "description": "",
            "description_tooltip": null,
            "layout": "IPY_MODEL_b3375c5993164f1f8348d433d29a2faa",
            "max": 946,
            "min": 0,
            "orientation": "horizontal",
            "style": "IPY_MODEL_568d11317bc84151a6a27aedb3eb9d88",
            "value": 946
          }
        },
        "2a08e385f049424191056ae50bcb4ed6": {
          "model_module": "@jupyter-widgets/controls",
          "model_name": "HTMLModel",
          "model_module_version": "1.5.0",
          "state": {
            "_dom_classes": [],
            "_model_module": "@jupyter-widgets/controls",
            "_model_module_version": "1.5.0",
            "_model_name": "HTMLModel",
            "_view_count": null,
            "_view_module": "@jupyter-widgets/controls",
            "_view_module_version": "1.5.0",
            "_view_name": "HTMLView",
            "description": "",
            "description_tooltip": null,
            "layout": "IPY_MODEL_b4fb82c2a5f84430865dffda8abbf529",
            "placeholder": "​",
            "style": "IPY_MODEL_318ff83d18334a4bb8c8179bac4b812d",
            "value": " 946/946 [00:00&lt;00:00, 24.5kB/s]"
          }
        },
        "bf75ce48555a485da28fe691af7f57f5": {
          "model_module": "@jupyter-widgets/base",
          "model_name": "LayoutModel",
          "model_module_version": "1.2.0",
          "state": {
            "_model_module": "@jupyter-widgets/base",
            "_model_module_version": "1.2.0",
            "_model_name": "LayoutModel",
            "_view_count": null,
            "_view_module": "@jupyter-widgets/base",
            "_view_module_version": "1.2.0",
            "_view_name": "LayoutView",
            "align_content": null,
            "align_items": null,
            "align_self": null,
            "border": null,
            "bottom": null,
            "display": null,
            "flex": null,
            "flex_flow": null,
            "grid_area": null,
            "grid_auto_columns": null,
            "grid_auto_flow": null,
            "grid_auto_rows": null,
            "grid_column": null,
            "grid_gap": null,
            "grid_row": null,
            "grid_template_areas": null,
            "grid_template_columns": null,
            "grid_template_rows": null,
            "height": null,
            "justify_content": null,
            "justify_items": null,
            "left": null,
            "margin": null,
            "max_height": null,
            "max_width": null,
            "min_height": null,
            "min_width": null,
            "object_fit": null,
            "object_position": null,
            "order": null,
            "overflow": null,
            "overflow_x": null,
            "overflow_y": null,
            "padding": null,
            "right": null,
            "top": null,
            "visibility": null,
            "width": null
          }
        },
        "25bbc73fa7d54a9c9db3ea3330e5c8aa": {
          "model_module": "@jupyter-widgets/base",
          "model_name": "LayoutModel",
          "model_module_version": "1.2.0",
          "state": {
            "_model_module": "@jupyter-widgets/base",
            "_model_module_version": "1.2.0",
            "_model_name": "LayoutModel",
            "_view_count": null,
            "_view_module": "@jupyter-widgets/base",
            "_view_module_version": "1.2.0",
            "_view_name": "LayoutView",
            "align_content": null,
            "align_items": null,
            "align_self": null,
            "border": null,
            "bottom": null,
            "display": null,
            "flex": null,
            "flex_flow": null,
            "grid_area": null,
            "grid_auto_columns": null,
            "grid_auto_flow": null,
            "grid_auto_rows": null,
            "grid_column": null,
            "grid_gap": null,
            "grid_row": null,
            "grid_template_areas": null,
            "grid_template_columns": null,
            "grid_template_rows": null,
            "height": null,
            "justify_content": null,
            "justify_items": null,
            "left": null,
            "margin": null,
            "max_height": null,
            "max_width": null,
            "min_height": null,
            "min_width": null,
            "object_fit": null,
            "object_position": null,
            "order": null,
            "overflow": null,
            "overflow_x": null,
            "overflow_y": null,
            "padding": null,
            "right": null,
            "top": null,
            "visibility": null,
            "width": null
          }
        },
        "7436bdcc745b4a15b1735f7e02bafb36": {
          "model_module": "@jupyter-widgets/controls",
          "model_name": "DescriptionStyleModel",
          "model_module_version": "1.5.0",
          "state": {
            "_model_module": "@jupyter-widgets/controls",
            "_model_module_version": "1.5.0",
            "_model_name": "DescriptionStyleModel",
            "_view_count": null,
            "_view_module": "@jupyter-widgets/base",
            "_view_module_version": "1.2.0",
            "_view_name": "StyleView",
            "description_width": ""
          }
        },
        "b3375c5993164f1f8348d433d29a2faa": {
          "model_module": "@jupyter-widgets/base",
          "model_name": "LayoutModel",
          "model_module_version": "1.2.0",
          "state": {
            "_model_module": "@jupyter-widgets/base",
            "_model_module_version": "1.2.0",
            "_model_name": "LayoutModel",
            "_view_count": null,
            "_view_module": "@jupyter-widgets/base",
            "_view_module_version": "1.2.0",
            "_view_name": "LayoutView",
            "align_content": null,
            "align_items": null,
            "align_self": null,
            "border": null,
            "bottom": null,
            "display": null,
            "flex": null,
            "flex_flow": null,
            "grid_area": null,
            "grid_auto_columns": null,
            "grid_auto_flow": null,
            "grid_auto_rows": null,
            "grid_column": null,
            "grid_gap": null,
            "grid_row": null,
            "grid_template_areas": null,
            "grid_template_columns": null,
            "grid_template_rows": null,
            "height": null,
            "justify_content": null,
            "justify_items": null,
            "left": null,
            "margin": null,
            "max_height": null,
            "max_width": null,
            "min_height": null,
            "min_width": null,
            "object_fit": null,
            "object_position": null,
            "order": null,
            "overflow": null,
            "overflow_x": null,
            "overflow_y": null,
            "padding": null,
            "right": null,
            "top": null,
            "visibility": null,
            "width": null
          }
        },
        "568d11317bc84151a6a27aedb3eb9d88": {
          "model_module": "@jupyter-widgets/controls",
          "model_name": "ProgressStyleModel",
          "model_module_version": "1.5.0",
          "state": {
            "_model_module": "@jupyter-widgets/controls",
            "_model_module_version": "1.5.0",
            "_model_name": "ProgressStyleModel",
            "_view_count": null,
            "_view_module": "@jupyter-widgets/base",
            "_view_module_version": "1.2.0",
            "_view_name": "StyleView",
            "bar_color": null,
            "description_width": ""
          }
        },
        "b4fb82c2a5f84430865dffda8abbf529": {
          "model_module": "@jupyter-widgets/base",
          "model_name": "LayoutModel",
          "model_module_version": "1.2.0",
          "state": {
            "_model_module": "@jupyter-widgets/base",
            "_model_module_version": "1.2.0",
            "_model_name": "LayoutModel",
            "_view_count": null,
            "_view_module": "@jupyter-widgets/base",
            "_view_module_version": "1.2.0",
            "_view_name": "LayoutView",
            "align_content": null,
            "align_items": null,
            "align_self": null,
            "border": null,
            "bottom": null,
            "display": null,
            "flex": null,
            "flex_flow": null,
            "grid_area": null,
            "grid_auto_columns": null,
            "grid_auto_flow": null,
            "grid_auto_rows": null,
            "grid_column": null,
            "grid_gap": null,
            "grid_row": null,
            "grid_template_areas": null,
            "grid_template_columns": null,
            "grid_template_rows": null,
            "height": null,
            "justify_content": null,
            "justify_items": null,
            "left": null,
            "margin": null,
            "max_height": null,
            "max_width": null,
            "min_height": null,
            "min_width": null,
            "object_fit": null,
            "object_position": null,
            "order": null,
            "overflow": null,
            "overflow_x": null,
            "overflow_y": null,
            "padding": null,
            "right": null,
            "top": null,
            "visibility": null,
            "width": null
          }
        },
        "318ff83d18334a4bb8c8179bac4b812d": {
          "model_module": "@jupyter-widgets/controls",
          "model_name": "DescriptionStyleModel",
          "model_module_version": "1.5.0",
          "state": {
            "_model_module": "@jupyter-widgets/controls",
            "_model_module_version": "1.5.0",
            "_model_name": "DescriptionStyleModel",
            "_view_count": null,
            "_view_module": "@jupyter-widgets/base",
            "_view_module_version": "1.2.0",
            "_view_name": "StyleView",
            "description_width": ""
          }
        },
        "224fd336fcda4618811e5ee26393c61b": {
          "model_module": "@jupyter-widgets/controls",
          "model_name": "HBoxModel",
          "model_module_version": "1.5.0",
          "state": {
            "_dom_classes": [],
            "_model_module": "@jupyter-widgets/controls",
            "_model_module_version": "1.5.0",
            "_model_name": "HBoxModel",
            "_view_count": null,
            "_view_module": "@jupyter-widgets/controls",
            "_view_module_version": "1.5.0",
            "_view_name": "HBoxView",
            "box_style": "",
            "children": [
              "IPY_MODEL_7e045d5216214f86aae4dc40538d0792",
              "IPY_MODEL_3d962a70b7be477ba3493528ebf521d5",
              "IPY_MODEL_5144ce7ff2804e618bbfaa26a3ff6b62"
            ],
            "layout": "IPY_MODEL_c5261a7f7e134038bf5b9c2d06bfe95c"
          }
        },
        "7e045d5216214f86aae4dc40538d0792": {
          "model_module": "@jupyter-widgets/controls",
          "model_name": "HTMLModel",
          "model_module_version": "1.5.0",
          "state": {
            "_dom_classes": [],
            "_model_module": "@jupyter-widgets/controls",
            "_model_module_version": "1.5.0",
            "_model_name": "HTMLModel",
            "_view_count": null,
            "_view_module": "@jupyter-widgets/controls",
            "_view_module_version": "1.5.0",
            "_view_name": "HTMLView",
            "description": "",
            "description_tooltip": null,
            "layout": "IPY_MODEL_b5a161b50f30417a831705afed275445",
            "placeholder": "​",
            "style": "IPY_MODEL_8bd73ae2e849439ea6c5ee3bfc870d3c",
            "value": "Downloading: 100%"
          }
        },
        "3d962a70b7be477ba3493528ebf521d5": {
          "model_module": "@jupyter-widgets/controls",
          "model_name": "FloatProgressModel",
          "model_module_version": "1.5.0",
          "state": {
            "_dom_classes": [],
            "_model_module": "@jupyter-widgets/controls",
            "_model_module_version": "1.5.0",
            "_model_name": "FloatProgressModel",
            "_view_count": null,
            "_view_module": "@jupyter-widgets/controls",
            "_view_module_version": "1.5.0",
            "_view_name": "ProgressView",
            "bar_style": "success",
            "description": "",
            "description_tooltip": null,
            "layout": "IPY_MODEL_d9a49b373f5b40809c2eec9c1859350d",
            "max": 261498988,
            "min": 0,
            "orientation": "horizontal",
            "style": "IPY_MODEL_9482cac182ed4708b93690ff32661ced",
            "value": 261498988
          }
        },
        "5144ce7ff2804e618bbfaa26a3ff6b62": {
          "model_module": "@jupyter-widgets/controls",
          "model_name": "HTMLModel",
          "model_module_version": "1.5.0",
          "state": {
            "_dom_classes": [],
            "_model_module": "@jupyter-widgets/controls",
            "_model_module_version": "1.5.0",
            "_model_name": "HTMLModel",
            "_view_count": null,
            "_view_module": "@jupyter-widgets/controls",
            "_view_module_version": "1.5.0",
            "_view_name": "HTMLView",
            "description": "",
            "description_tooltip": null,
            "layout": "IPY_MODEL_de90c6a6b1ec41a2a76155d27bfe13c7",
            "placeholder": "​",
            "style": "IPY_MODEL_26db5dbf575e46b5a7eeb5d0ab59476d",
            "value": " 261M/261M [00:15&lt;00:00, 43.5MB/s]"
          }
        },
        "c5261a7f7e134038bf5b9c2d06bfe95c": {
          "model_module": "@jupyter-widgets/base",
          "model_name": "LayoutModel",
          "model_module_version": "1.2.0",
          "state": {
            "_model_module": "@jupyter-widgets/base",
            "_model_module_version": "1.2.0",
            "_model_name": "LayoutModel",
            "_view_count": null,
            "_view_module": "@jupyter-widgets/base",
            "_view_module_version": "1.2.0",
            "_view_name": "LayoutView",
            "align_content": null,
            "align_items": null,
            "align_self": null,
            "border": null,
            "bottom": null,
            "display": null,
            "flex": null,
            "flex_flow": null,
            "grid_area": null,
            "grid_auto_columns": null,
            "grid_auto_flow": null,
            "grid_auto_rows": null,
            "grid_column": null,
            "grid_gap": null,
            "grid_row": null,
            "grid_template_areas": null,
            "grid_template_columns": null,
            "grid_template_rows": null,
            "height": null,
            "justify_content": null,
            "justify_items": null,
            "left": null,
            "margin": null,
            "max_height": null,
            "max_width": null,
            "min_height": null,
            "min_width": null,
            "object_fit": null,
            "object_position": null,
            "order": null,
            "overflow": null,
            "overflow_x": null,
            "overflow_y": null,
            "padding": null,
            "right": null,
            "top": null,
            "visibility": null,
            "width": null
          }
        },
        "b5a161b50f30417a831705afed275445": {
          "model_module": "@jupyter-widgets/base",
          "model_name": "LayoutModel",
          "model_module_version": "1.2.0",
          "state": {
            "_model_module": "@jupyter-widgets/base",
            "_model_module_version": "1.2.0",
            "_model_name": "LayoutModel",
            "_view_count": null,
            "_view_module": "@jupyter-widgets/base",
            "_view_module_version": "1.2.0",
            "_view_name": "LayoutView",
            "align_content": null,
            "align_items": null,
            "align_self": null,
            "border": null,
            "bottom": null,
            "display": null,
            "flex": null,
            "flex_flow": null,
            "grid_area": null,
            "grid_auto_columns": null,
            "grid_auto_flow": null,
            "grid_auto_rows": null,
            "grid_column": null,
            "grid_gap": null,
            "grid_row": null,
            "grid_template_areas": null,
            "grid_template_columns": null,
            "grid_template_rows": null,
            "height": null,
            "justify_content": null,
            "justify_items": null,
            "left": null,
            "margin": null,
            "max_height": null,
            "max_width": null,
            "min_height": null,
            "min_width": null,
            "object_fit": null,
            "object_position": null,
            "order": null,
            "overflow": null,
            "overflow_x": null,
            "overflow_y": null,
            "padding": null,
            "right": null,
            "top": null,
            "visibility": null,
            "width": null
          }
        },
        "8bd73ae2e849439ea6c5ee3bfc870d3c": {
          "model_module": "@jupyter-widgets/controls",
          "model_name": "DescriptionStyleModel",
          "model_module_version": "1.5.0",
          "state": {
            "_model_module": "@jupyter-widgets/controls",
            "_model_module_version": "1.5.0",
            "_model_name": "DescriptionStyleModel",
            "_view_count": null,
            "_view_module": "@jupyter-widgets/base",
            "_view_module_version": "1.2.0",
            "_view_name": "StyleView",
            "description_width": ""
          }
        },
        "d9a49b373f5b40809c2eec9c1859350d": {
          "model_module": "@jupyter-widgets/base",
          "model_name": "LayoutModel",
          "model_module_version": "1.2.0",
          "state": {
            "_model_module": "@jupyter-widgets/base",
            "_model_module_version": "1.2.0",
            "_model_name": "LayoutModel",
            "_view_count": null,
            "_view_module": "@jupyter-widgets/base",
            "_view_module_version": "1.2.0",
            "_view_name": "LayoutView",
            "align_content": null,
            "align_items": null,
            "align_self": null,
            "border": null,
            "bottom": null,
            "display": null,
            "flex": null,
            "flex_flow": null,
            "grid_area": null,
            "grid_auto_columns": null,
            "grid_auto_flow": null,
            "grid_auto_rows": null,
            "grid_column": null,
            "grid_gap": null,
            "grid_row": null,
            "grid_template_areas": null,
            "grid_template_columns": null,
            "grid_template_rows": null,
            "height": null,
            "justify_content": null,
            "justify_items": null,
            "left": null,
            "margin": null,
            "max_height": null,
            "max_width": null,
            "min_height": null,
            "min_width": null,
            "object_fit": null,
            "object_position": null,
            "order": null,
            "overflow": null,
            "overflow_x": null,
            "overflow_y": null,
            "padding": null,
            "right": null,
            "top": null,
            "visibility": null,
            "width": null
          }
        },
        "9482cac182ed4708b93690ff32661ced": {
          "model_module": "@jupyter-widgets/controls",
          "model_name": "ProgressStyleModel",
          "model_module_version": "1.5.0",
          "state": {
            "_model_module": "@jupyter-widgets/controls",
            "_model_module_version": "1.5.0",
            "_model_name": "ProgressStyleModel",
            "_view_count": null,
            "_view_module": "@jupyter-widgets/base",
            "_view_module_version": "1.2.0",
            "_view_name": "StyleView",
            "bar_color": null,
            "description_width": ""
          }
        },
        "de90c6a6b1ec41a2a76155d27bfe13c7": {
          "model_module": "@jupyter-widgets/base",
          "model_name": "LayoutModel",
          "model_module_version": "1.2.0",
          "state": {
            "_model_module": "@jupyter-widgets/base",
            "_model_module_version": "1.2.0",
            "_model_name": "LayoutModel",
            "_view_count": null,
            "_view_module": "@jupyter-widgets/base",
            "_view_module_version": "1.2.0",
            "_view_name": "LayoutView",
            "align_content": null,
            "align_items": null,
            "align_self": null,
            "border": null,
            "bottom": null,
            "display": null,
            "flex": null,
            "flex_flow": null,
            "grid_area": null,
            "grid_auto_columns": null,
            "grid_auto_flow": null,
            "grid_auto_rows": null,
            "grid_column": null,
            "grid_gap": null,
            "grid_row": null,
            "grid_template_areas": null,
            "grid_template_columns": null,
            "grid_template_rows": null,
            "height": null,
            "justify_content": null,
            "justify_items": null,
            "left": null,
            "margin": null,
            "max_height": null,
            "max_width": null,
            "min_height": null,
            "min_width": null,
            "object_fit": null,
            "object_position": null,
            "order": null,
            "overflow": null,
            "overflow_x": null,
            "overflow_y": null,
            "padding": null,
            "right": null,
            "top": null,
            "visibility": null,
            "width": null
          }
        },
        "26db5dbf575e46b5a7eeb5d0ab59476d": {
          "model_module": "@jupyter-widgets/controls",
          "model_name": "DescriptionStyleModel",
          "model_module_version": "1.5.0",
          "state": {
            "_model_module": "@jupyter-widgets/controls",
            "_model_module_version": "1.5.0",
            "_model_name": "DescriptionStyleModel",
            "_view_count": null,
            "_view_module": "@jupyter-widgets/base",
            "_view_module_version": "1.2.0",
            "_view_name": "StyleView",
            "description_width": ""
          }
        }
      }
    }
  },
  "nbformat": 4,
  "nbformat_minor": 0
}